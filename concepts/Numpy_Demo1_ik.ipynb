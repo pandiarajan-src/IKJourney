{
  "cells": [
    {
      "cell_type": "markdown",
      "metadata": {
        "id": "RejxT_RD817t"
      },
      "source": [
        "# Getting Started"
      ]
    },
    {
      "cell_type": "code",
      "execution_count": null,
      "metadata": {
        "id": "NfV9hMex85e1"
      },
      "outputs": [],
      "source": [
        "# Load library\n",
        "import numpy as np"
      ]
    },
    {
      "cell_type": "markdown",
      "metadata": {
        "id": "AnM5vBKv192B"
      },
      "source": [
        "# 1. Creation in NumPy\n",
        "* Goal：Learn how to create 1-d and 2-d NumPy arrays.\n",
        "* Examples:\n",
        " * `np.array()`\n",
        " * `np.arange()`\n",
        " * `np.random.randint()`\n",
        " * `np.random.rand()`\n",
        " * `np.random.randn()`\n",
        " * `np.zeros()`"
      ]
    },
    {
      "cell_type": "markdown",
      "metadata": {
        "id": "VQkFVyBN8kg5"
      },
      "source": [
        "## Create a one-dimensional array"
      ]
    },
    {
      "cell_type": "markdown",
      "metadata": {
        "id": "eOK7PiV0MRR_"
      },
      "source": [
        "### Create a 1-d array with specific data\n",
        "* Use `np.array()`"
      ]
    },
    {
      "cell_type": "code",
      "execution_count": null,
      "metadata": {
        "colab": {
          "base_uri": "https://localhost:8080/"
        },
        "id": "W9oTFbeS8VU4",
        "outputId": "6cccffe5-2344-4b35-da6e-1723b4bfc17a"
      },
      "outputs": [
        {
          "name": "stdout",
          "output_type": "stream",
          "text": [
            "[107 137  84  75]\n"
          ]
        }
      ],
      "source": [
        "# Create a 1-d array \"account_length\" - simply pass a Python list\n",
        "arr_1d = np.array([107, 137, 84, 75])\n",
        "\n",
        "print(arr_1d)"
      ]
    },
    {
      "cell_type": "markdown",
      "metadata": {
        "id": "OmCIPIYu0IgD"
      },
      "source": [
        "## Generate a 1-d array of any Length(size)\n",
        "* Use `np.arange(size)`"
      ]
    },
    {
      "cell_type": "code",
      "execution_count": null,
      "metadata": {
        "colab": {
          "base_uri": "https://localhost:8080/"
        },
        "id": "u604MXonMUwa",
        "outputId": "b33ebe0a-d688-4b68-b650-eabea13954e8"
      },
      "outputs": [
        {
          "name": "stdout",
          "output_type": "stream",
          "text": [
            "[0 1 2 3 4]\n"
          ]
        }
      ],
      "source": [
        "# Create a 1-d array with length/size 5\n",
        "# The default start value is 0, return an array of evenly spaced values.\n",
        "arr_1d = np.arange(5)\n",
        "\n",
        "print(arr_1d)"
      ]
    },
    {
      "cell_type": "markdown",
      "metadata": {
        "id": "laDsVCMcEmI3"
      },
      "source": [
        "## Generate a 1-d array of 6 random intergers between 1 and 9\n",
        "* Use `np.random.randint(low_inclusive, high_exclusive, size)`"
      ]
    },
    {
      "cell_type": "code",
      "execution_count": null,
      "metadata": {
        "colab": {
          "base_uri": "https://localhost:8080/"
        },
        "id": "nlXNalFpEjFN",
        "outputId": "fc22945e-2bd7-41f5-a1cd-9867248b7528"
      },
      "outputs": [
        {
          "name": "stdout",
          "output_type": "stream",
          "text": [
            "[3 3 7 8 5 6]\n"
          ]
        }
      ],
      "source": [
        "## Use\n",
        "arr_1d = np.random.randint(1, 10, 6)\n",
        "\n",
        "print(arr_1d)"
      ]
    },
    {
      "cell_type": "markdown",
      "metadata": {
        "id": "GSCvUxSnFzcU"
      },
      "source": [
        "## Generate a 1-d array of 10 random **floats** between 0 and 1(exlusive)\n",
        "* Use `np.random.rand(size)`\n",
        "* It generates random floating-point numbers from a continuous uniform distribution [0, 1)."
      ]
    },
    {
      "cell_type": "code",
      "execution_count": null,
      "metadata": {
        "colab": {
          "base_uri": "https://localhost:8080/"
        },
        "id": "0fkjjwX_EzxT",
        "outputId": "668be323-9ae3-4074-89f5-14a1e0979eb7"
      },
      "outputs": [
        {
          "data": {
            "text/plain": [
              "array([0.4490017 , 0.21039037, 0.56742813, 0.65728315, 0.8673746 ,\n",
              "       0.1524951 , 0.77712815])"
            ]
          },
          "execution_count": 6,
          "metadata": {},
          "output_type": "execute_result"
        }
      ],
      "source": [
        "## Generate a 1-d array of 7 random floats between 0 and 1\n",
        "arr_1d = np.random.random(7)\n",
        "\n",
        "arr_1d"
      ]
    },
    {
      "cell_type": "markdown",
      "metadata": {
        "id": "SgyHi9sNVQ2V"
      },
      "source": [
        "## Generate a 1-d array of 6 elements from the “standard normal” distribution\n",
        "\n"
      ]
    },
    {
      "cell_type": "code",
      "execution_count": null,
      "metadata": {
        "colab": {
          "base_uri": "https://localhost:8080/"
        },
        "id": "rFwn6osNVQOu",
        "outputId": "9ade5a71-2200-41e9-96c5-204cf7b0a897"
      },
      "outputs": [
        {
          "data": {
            "text/plain": [
              "array([ 0.67897767,  0.09144135,  0.04196689, -0.18684535, -0.7836992 ,\n",
              "        0.03160258])"
            ]
          },
          "execution_count": 7,
          "metadata": {},
          "output_type": "execute_result"
        }
      ],
      "source": [
        "# The 6 elements are from the “standard normal” distribution\n",
        "np.random.randn(6)"
      ]
    },
    {
      "cell_type": "markdown",
      "metadata": {
        "id": "GOCGENX6Ijj6"
      },
      "source": [
        "## Create a 1-d array of Zeros\n",
        "* Use `np.zeros(size)`"
      ]
    },
    {
      "cell_type": "code",
      "execution_count": null,
      "metadata": {
        "colab": {
          "base_uri": "https://localhost:8080/"
        },
        "id": "fwElRMCoSRAO",
        "outputId": "932c849b-67be-482e-f0d2-535a8600a3f6"
      },
      "outputs": [
        {
          "data": {
            "text/plain": [
              "array([0., 0., 0., 0., 0.])"
            ]
          },
          "execution_count": 8,
          "metadata": {},
          "output_type": "execute_result"
        }
      ],
      "source": [
        "arr_1d = np.zeros(5)\n",
        "\n",
        "arr_1d"
      ]
    },
    {
      "cell_type": "markdown",
      "metadata": {
        "id": "SEP2khLUA7do"
      },
      "source": [
        "## Create a two-dimensional array (matrix)\n"
      ]
    },
    {
      "cell_type": "markdown",
      "metadata": {
        "id": "jNjd5FzkSx4J"
      },
      "source": [
        "### Create a 2-d array with specific data\n",
        "* Use `np.array()`"
      ]
    },
    {
      "cell_type": "code",
      "execution_count": null,
      "metadata": {
        "colab": {
          "base_uri": "https://localhost:8080/"
        },
        "id": "kLvsrOkk-gLX",
        "outputId": "3b0290f9-0839-42ee-bdff-cf756ee228aa"
      },
      "outputs": [
        {
          "name": "stdout",
          "output_type": "stream",
          "text": [
            "[[26  1]\n",
            " [ 0  0]\n",
            " [ 0  2]\n",
            " [ 0  3]]\n"
          ]
        }
      ],
      "source": [
        "# Create a 2-d array (matrix) - simplyly pass a list of Python list\n",
        "arr_2d = np.array([\n",
        "           [26, 1],\n",
        "           [0,  0],\n",
        "           [0,  2],\n",
        "           [0,  3]\n",
        "])\n",
        "\n",
        "print(arr_2d)"
      ]
    },
    {
      "cell_type": "markdown",
      "metadata": {
        "id": "P96-KcKP9Ysu"
      },
      "source": [
        "## Create a 6 x 2 matrix of random integers between 1 and 99(inclusive)"
      ]
    },
    {
      "cell_type": "code",
      "execution_count": null,
      "metadata": {
        "colab": {
          "base_uri": "https://localhost:8080/"
        },
        "id": "IVE7_B_u9ZOj",
        "outputId": "1e1d0e1d-7d78-44f4-e4b3-486fcb9dc7f7"
      },
      "outputs": [
        {
          "name": "stdout",
          "output_type": "stream",
          "text": [
            "[[61 76]\n",
            " [95 41]\n",
            " [97 65]\n",
            " [15 29]\n",
            " [61 54]\n",
            " [40 69]]\n"
          ]
        }
      ],
      "source": [
        "# Create a 6 x 2 matrix of random integers between 1 and 99(inclusive)\n",
        "arr_2d = np.random.randint(1, 100, (6, 2))\n",
        "\n",
        "print(arr_2d)"
      ]
    },
    {
      "cell_type": "markdown",
      "metadata": {
        "id": "_9lunqO5Ztgl"
      },
      "source": [
        "## Generate a 4 x 3 Matrix of random floats between 0 and 1(exlusive)\n"
      ]
    },
    {
      "cell_type": "code",
      "execution_count": null,
      "metadata": {
        "colab": {
          "base_uri": "https://localhost:8080/"
        },
        "id": "PZLp6K46aAgk",
        "outputId": "bb42e798-b36a-4ff3-e5d4-09fc66b3c00e"
      },
      "outputs": [
        {
          "name": "stdout",
          "output_type": "stream",
          "text": [
            "[[0.27420709 0.58337212 0.7591601 ]\n",
            " [0.94180473 0.50848209 0.13282079]\n",
            " [0.38707719 0.05464725 0.36587647]\n",
            " [0.11705363 0.6803763  0.49469947]]\n"
          ]
        }
      ],
      "source": [
        "# Generate a 4 x 3 Matrix of random floats between 0 and 1(exlusive)\n",
        "arr_2d = np.random.rand(4, 3) # 1st dimension, 2nd dimension\n",
        "\n",
        "print(arr_2d)"
      ]
    },
    {
      "cell_type": "markdown",
      "metadata": {
        "id": "vk-2jG6CWBDy"
      },
      "source": [
        "## Generate a 2 x 3 Matrix where element are from the “standard normal” distribution\n"
      ]
    },
    {
      "cell_type": "code",
      "execution_count": null,
      "metadata": {
        "colab": {
          "base_uri": "https://localhost:8080/"
        },
        "id": "caVLi6ddWBc3",
        "outputId": "3522fbc6-f7c7-4ad2-8390-1b8fb5989c87"
      },
      "outputs": [
        {
          "data": {
            "text/plain": [
              "array([[ 0.46990292, -1.46633438, -0.46041929],\n",
              "       [ 0.6085436 ,  0.23749974,  1.49219865]])"
            ]
          },
          "execution_count": 12,
          "metadata": {},
          "output_type": "execute_result"
        }
      ],
      "source": [
        "# The 2 X 3 matrix are from the “standard normal” distribution\n",
        "np.random.randn(2, 3)"
      ]
    },
    {
      "cell_type": "markdown",
      "metadata": {
        "id": "FWKuiOWnatqJ"
      },
      "source": [
        "## Create a 4 x 6 **Matrix** of Zeros"
      ]
    },
    {
      "cell_type": "code",
      "execution_count": null,
      "metadata": {
        "colab": {
          "base_uri": "https://localhost:8080/"
        },
        "id": "xd-MFd7kanWj",
        "outputId": "618ca005-376b-40cf-fbca-e3a08fe6de52"
      },
      "outputs": [
        {
          "name": "stdout",
          "output_type": "stream",
          "text": [
            "[[0. 0. 0. 0. 0. 0.]\n",
            " [0. 0. 0. 0. 0. 0.]\n",
            " [0. 0. 0. 0. 0. 0.]\n",
            " [0. 0. 0. 0. 0. 0.]]\n"
          ]
        }
      ],
      "source": [
        "# Generate a 4 x 6 Matrix of 0\n",
        "arr_2d = np.zeros((4, 6)) # tuple of (row, col)\n",
        "\n",
        "print(arr_2d)"
      ]
    },
    {
      "cell_type": "markdown",
      "metadata": {
        "id": "_XVkVu1K711q"
      },
      "source": [
        "## Create a 3 x 3 identity matrix\n",
        "* In linear algebra, an identity matrix is a matrix of with ones on the main diagonal and zeros elsewhere."
      ]
    },
    {
      "cell_type": "code",
      "execution_count": null,
      "metadata": {
        "colab": {
          "base_uri": "https://localhost:8080/"
        },
        "id": "ajzbq_ZR70Ki",
        "outputId": "bab7e71c-1f31-4b63-93a6-f01c61bf8aa4"
      },
      "outputs": [
        {
          "data": {
            "text/plain": [
              "array([[1., 0., 0.],\n",
              "       [0., 1., 0.],\n",
              "       [0., 0., 1.]])"
            ]
          },
          "execution_count": 14,
          "metadata": {},
          "output_type": "execute_result"
        }
      ],
      "source": [
        "# Use np.eye()\n",
        "identity_matrix = np.eye(3)\n",
        "\n",
        "identity_matrix"
      ]
    },
    {
      "cell_type": "code",
      "execution_count": null,
      "metadata": {
        "colab": {
          "base_uri": "https://localhost:8080/"
        },
        "id": "mN1rCDqRU6Yf",
        "outputId": "e6158c1c-d13b-4c34-f16e-8c366b502c48"
      },
      "outputs": [
        {
          "data": {
            "text/plain": [
              "array([[1., 0., 0.],\n",
              "       [0., 1., 0.],\n",
              "       [0., 0., 1.]])"
            ]
          },
          "execution_count": 3,
          "metadata": {},
          "output_type": "execute_result"
        }
      ],
      "source": [
        "id_matrix = np.identity(3)\n",
        "\n",
        "id_matrix"
      ]
    },
    {
      "cell_type": "markdown",
      "metadata": {
        "id": "OO2Xf_y8CxQS"
      },
      "source": [
        "## Describing a NumPy Array  - `shape`, `size`, `ndim`"
      ]
    },
    {
      "cell_type": "code",
      "execution_count": null,
      "metadata": {
        "colab": {
          "base_uri": "https://localhost:8080/"
        },
        "id": "ggwAbLzFHFMN",
        "outputId": "f8c37fa7-a86f-489b-d81a-8d47666f9f43"
      },
      "outputs": [
        {
          "name": "stderr",
          "output_type": "stream",
          "text": [
            "<ipython-input-23-e244264a0133>:1: VisibleDeprecationWarning: Creating an ndarray from ragged nested sequences (which is a list-or-tuple of lists-or-tuples-or ndarrays with different lengths or shapes) is deprecated. If you meant to do this, you must specify 'dtype=object' when creating the ndarray.\n",
            "  arr = np.array([\n"
          ]
        }
      ],
      "source": [
        "arr = np.array([\n",
        "  [1,2,3],\n",
        "  [4,5,6,7,8],\n",
        "  [9]\n",
        "])"
      ]
    },
    {
      "cell_type": "code",
      "execution_count": null,
      "metadata": {
        "colab": {
          "base_uri": "https://localhost:8080/"
        },
        "id": "LJSTnveAbY09",
        "outputId": "f33f7a26-0edb-4e5b-c11b-fc9bfc3b5538"
      },
      "outputs": [
        {
          "name": "stdout",
          "output_type": "stream",
          "text": [
            "[107 137  84  75]\n"
          ]
        }
      ],
      "source": [
        "#\n",
        "arr_1d = np.array([107, 137, 84, 75])\n",
        "\n",
        "print(arr_1d)"
      ]
    },
    {
      "cell_type": "code",
      "execution_count": null,
      "metadata": {
        "colab": {
          "base_uri": "https://localhost:8080/"
        },
        "id": "Tt2fn39_c8Ls",
        "outputId": "a79533af-0fed-4897-8739-871c2d107657"
      },
      "outputs": [
        {
          "data": {
            "text/plain": [
              "(4,)"
            ]
          },
          "execution_count": 106,
          "metadata": {},
          "output_type": "execute_result"
        }
      ],
      "source": [
        "arr_1d.shape\n",
        "\n",
        "\n",
        "# It only has one number is because it only has 1 dimension"
      ]
    },
    {
      "cell_type": "code",
      "execution_count": null,
      "metadata": {
        "colab": {
          "base_uri": "https://localhost:8080/"
        },
        "id": "khope49ddCZV",
        "outputId": "aa538631-ab50-42b2-b854-2d8e92450c1a"
      },
      "outputs": [
        {
          "name": "stdout",
          "output_type": "stream",
          "text": [
            "[[26  1]\n",
            " [ 0  0]\n",
            " [ 0  2]\n",
            " [ 0  3]]\n"
          ]
        }
      ],
      "source": [
        "arr_2d = np.array([\n",
        "           [26, 1],\n",
        "           [0,  0],\n",
        "           [0,  2],\n",
        "           [0,  3]\n",
        "])\n",
        "\n",
        "print(arr_2d)"
      ]
    },
    {
      "cell_type": "code",
      "execution_count": null,
      "metadata": {
        "colab": {
          "base_uri": "https://localhost:8080/"
        },
        "id": "TiNhxXvxBJgo",
        "outputId": "4a3ca57c-1732-4cd4-807c-4ebeef99defc"
      },
      "outputs": [
        {
          "data": {
            "text/plain": [
              "(4, 2)"
            ]
          },
          "execution_count": 17,
          "metadata": {},
          "output_type": "execute_result"
        }
      ],
      "source": [
        "# View number of rows and columns\n",
        "# In NumPy, the shape of an array is represented as a tuple of integers that indicate the size of each dimension of the array.\n",
        "arr_2d.shape\n",
        "\n",
        "# The matrix contains 4 rows and 2 columns"
      ]
    },
    {
      "cell_type": "code",
      "execution_count": null,
      "metadata": {
        "colab": {
          "base_uri": "https://localhost:8080/"
        },
        "id": "yEHIcDJ-dOEr",
        "outputId": "5797805f-a4fc-414d-fd14-360ad0dd2e61"
      },
      "outputs": [
        {
          "data": {
            "text/plain": [
              "4"
            ]
          },
          "execution_count": 18,
          "metadata": {},
          "output_type": "execute_result"
        }
      ],
      "source": [
        "arr_1d.size"
      ]
    },
    {
      "cell_type": "code",
      "execution_count": null,
      "metadata": {
        "colab": {
          "base_uri": "https://localhost:8080/"
        },
        "id": "b59V8VEnC8B6",
        "outputId": "e68b2cb3-8e2b-477d-abaa-5b498e65ce9e"
      },
      "outputs": [
        {
          "data": {
            "text/plain": [
              "8"
            ]
          },
          "execution_count": 19,
          "metadata": {},
          "output_type": "execute_result"
        }
      ],
      "source": [
        "# View number of elements (rows * columns)\n",
        "arr_2d.size"
      ]
    },
    {
      "cell_type": "code",
      "execution_count": null,
      "metadata": {
        "colab": {
          "base_uri": "https://localhost:8080/"
        },
        "id": "-BNPKu9pdYvc",
        "outputId": "4a2cd46c-4369-4f8e-94f6-4f7e920cf426"
      },
      "outputs": [
        {
          "data": {
            "text/plain": [
              "1"
            ]
          },
          "execution_count": 20,
          "metadata": {},
          "output_type": "execute_result"
        }
      ],
      "source": [
        "arr_1d.ndim"
      ]
    },
    {
      "cell_type": "code",
      "execution_count": null,
      "metadata": {
        "colab": {
          "base_uri": "https://localhost:8080/"
        },
        "id": "Vy90Z6-gBHX6",
        "outputId": "8039c231-c322-41b4-c8b6-7f35f11d8154"
      },
      "outputs": [
        {
          "data": {
            "text/plain": [
              "2"
            ]
          },
          "execution_count": 21,
          "metadata": {},
          "output_type": "execute_result"
        }
      ],
      "source": [
        " # View number of dimensions\n",
        "arr_2d.ndim"
      ]
    },
    {
      "cell_type": "markdown",
      "metadata": {
        "id": "-vdT8akXvbzl"
      },
      "source": [
        "# 2. Reshaping in NumPy\n",
        "* Goal: How to reshape an array into various dimensions\n",
        "* Examples: a 4 x 3 2-d array\n",
        " * Reshape to 12 rows and 1 column\n",
        " * Reshape to 3 rows and 4 columns\n",
        " * Reshape to 6 rows and 2 columns\n",
        " * Reshape to 2 rows and 6 columns\n",
        " * The magic **-1** in the `reshape` function"
      ]
    },
    {
      "cell_type": "markdown",
      "metadata": {
        "id": "kdjmjREdd63q"
      },
      "source": [
        "## Recall creating a 1-d array of size 6 using `np.arange()` function"
      ]
    },
    {
      "cell_type": "code",
      "execution_count": null,
      "metadata": {
        "colab": {
          "base_uri": "https://localhost:8080/"
        },
        "id": "HSEsxxNsdzyd",
        "outputId": "d777aa3d-0a74-4be8-b9fd-ceb008ca9b20"
      },
      "outputs": [
        {
          "name": "stdout",
          "output_type": "stream",
          "text": [
            "[0 1 2 3 4 5]\n"
          ]
        }
      ],
      "source": [
        "arr = np.arange(6)\n",
        "\n",
        "print(arr)"
      ]
    },
    {
      "cell_type": "code",
      "execution_count": null,
      "metadata": {
        "colab": {
          "base_uri": "https://localhost:8080/"
        },
        "id": "l9rNGsnFVDou",
        "outputId": "c7967138-6317-4b78-8a36-a00f43269917"
      },
      "outputs": [
        {
          "data": {
            "text/plain": [
              "array([[0, 1, 2],\n",
              "       [3, 4, 5]])"
            ]
          },
          "execution_count": 5,
          "metadata": {},
          "output_type": "execute_result"
        }
      ],
      "source": [
        "arr.reshape(2, 3)"
      ]
    },
    {
      "cell_type": "code",
      "execution_count": null,
      "metadata": {
        "colab": {
          "base_uri": "https://localhost:8080/"
        },
        "id": "0N-BLIb-VHKm",
        "outputId": "63827fb6-700c-4428-aa22-8f458bed3d09"
      },
      "outputs": [
        {
          "data": {
            "text/plain": [
              "array([[0, 1, 2],\n",
              "       [3, 4, 5]])"
            ]
          },
          "execution_count": 6,
          "metadata": {},
          "output_type": "execute_result"
        }
      ],
      "source": [
        "np.arange(6).reshape(2, 3)"
      ]
    },
    {
      "cell_type": "markdown",
      "metadata": {
        "id": "2w_KU4C0Lmqz"
      },
      "source": [
        "## Reshape this array to a 2 x 3 matrix"
      ]
    },
    {
      "cell_type": "code",
      "execution_count": null,
      "metadata": {
        "colab": {
          "base_uri": "https://localhost:8080/"
        },
        "id": "_Wz2XhjVeN7U",
        "outputId": "21ca13bf-9c15-4fb3-a2a1-f2451a8ab42d"
      },
      "outputs": [
        {
          "name": "stdout",
          "output_type": "stream",
          "text": [
            "[[0 1 2]\n",
            " [3 4 5]]\n"
          ]
        }
      ],
      "source": [
        "# Reshape this array to 2 x 3 matrix\n",
        "arr_reshape = arr.reshape(2, 3)\n",
        "\n",
        "print(arr_reshape)"
      ]
    },
    {
      "cell_type": "markdown",
      "metadata": {
        "id": "s01KLmnud-aL"
      },
      "source": [
        "## Creating a 4 x 3 Matrix"
      ]
    },
    {
      "cell_type": "code",
      "execution_count": null,
      "metadata": {
        "colab": {
          "base_uri": "https://localhost:8080/"
        },
        "id": "IflHfwBbvePU",
        "outputId": "b3ab8c89-12a1-41e7-d152-6940625dcfe3"
      },
      "outputs": [
        {
          "name": "stdout",
          "output_type": "stream",
          "text": [
            "[[1 0 2]\n",
            " [0 3 0]\n",
            " [5 0 6]\n",
            " [0 7 0]]\n",
            "# of rows : 4\n",
            "# of columns : 3\n",
            "size : 12\n"
          ]
        }
      ],
      "source": [
        "# 2-d array \"original\"\n",
        "original = np.array([\n",
        "    [1, 0, 2],\n",
        "    [0, 3, 0],\n",
        "    [5, 0, 6],\n",
        "    [0, 7, 0]\n",
        "])\n",
        "\n",
        "\n",
        "print(original)\n",
        "print('# of rows :',  original.shape[0])\n",
        "print('# of columns :',  original.shape[1])\n",
        "print('size :',   original.size)"
      ]
    },
    {
      "cell_type": "markdown",
      "metadata": {
        "id": "8qFPwryHd9XX"
      },
      "source": [
        "## Reshape to 12 rows and 1 column"
      ]
    },
    {
      "cell_type": "code",
      "execution_count": null,
      "metadata": {
        "colab": {
          "base_uri": "https://localhost:8080/"
        },
        "id": "Wsn1v3vTdn2G",
        "outputId": "df5ab1be-6058-48c6-ca2e-b725fd201f59"
      },
      "outputs": [
        {
          "name": "stdout",
          "output_type": "stream",
          "text": [
            "[[1]\n",
            " [0]\n",
            " [2]\n",
            " [0]\n",
            " [3]\n",
            " [0]\n",
            " [5]\n",
            " [0]\n",
            " [6]\n",
            " [0]\n",
            " [7]\n",
            " [0]]\n",
            "# of rows : 12\n",
            "# of columns : 1\n",
            "size : 12\n"
          ]
        }
      ],
      "source": [
        "# Reshape to 12 rows and 1 column\n",
        "reshape1 = original.reshape(12, 1)\n",
        "\n",
        "\n",
        "print(reshape1)\n",
        "print('# of rows :',  reshape1.shape[0])\n",
        "print('# of columns :',  reshape1.shape[1])\n",
        "print('size :',   reshape1.size)"
      ]
    },
    {
      "cell_type": "markdown",
      "metadata": {
        "id": "rsExwQmSelTV"
      },
      "source": [
        "## Reshape to 3 rows and 4 columns"
      ]
    },
    {
      "cell_type": "code",
      "execution_count": null,
      "metadata": {
        "colab": {
          "base_uri": "https://localhost:8080/"
        },
        "id": "RZUrDv6ZexIY",
        "outputId": "83e6637a-0669-4ed9-cb57-6df00aa0b54e"
      },
      "outputs": [
        {
          "name": "stdout",
          "output_type": "stream",
          "text": [
            "[[1 0 2 0]\n",
            " [3 0 5 0]\n",
            " [6 0 7 0]]\n",
            "# of rows : 3\n",
            "# of columns : 4\n",
            "size : 12\n"
          ]
        }
      ],
      "source": [
        "# Reshape to 3 rows and 4 columns\n",
        "reshape2 = original.reshape(3, 4)\n",
        "\n",
        "\n",
        "print(reshape2)\n",
        "print('# of rows :',  reshape2.shape[0])\n",
        "print('# of columns :',  reshape2.shape[1])\n",
        "print('size :',   reshape2.size)"
      ]
    },
    {
      "cell_type": "markdown",
      "metadata": {
        "id": "u_lsaysJe5_m"
      },
      "source": [
        "## Reshape to 6 rows and 2 columns"
      ]
    },
    {
      "cell_type": "code",
      "execution_count": null,
      "metadata": {
        "colab": {
          "base_uri": "https://localhost:8080/"
        },
        "id": "JDDrmUPAe-Ok",
        "outputId": "98e4df57-0c8d-4d75-f3e3-6dadec0e4688"
      },
      "outputs": [
        {
          "name": "stdout",
          "output_type": "stream",
          "text": [
            "[[1 0]\n",
            " [2 0]\n",
            " [3 0]\n",
            " [5 0]\n",
            " [6 0]\n",
            " [7 0]]\n",
            "# of rows : 6\n",
            "# of columns : 2\n",
            "size : 12\n"
          ]
        }
      ],
      "source": [
        "# Reshape to 6 rows and 2 columns\n",
        "reshape3 = original.reshape(6, 2)\n",
        "\n",
        "\n",
        "print(reshape3)\n",
        "print('# of rows :',  reshape3.shape[0])\n",
        "print('# of columns :',  reshape3.shape[1])\n",
        "print('size :',   reshape3.size)"
      ]
    },
    {
      "cell_type": "markdown",
      "metadata": {
        "id": "mutebWXpfGN-"
      },
      "source": [
        "## Reshape to 2 rows and 6 columns"
      ]
    },
    {
      "cell_type": "code",
      "execution_count": null,
      "metadata": {
        "colab": {
          "base_uri": "https://localhost:8080/"
        },
        "id": "1G0eZVJZfKmy",
        "outputId": "506ab8cc-f371-4f91-95e3-b285f202f88d"
      },
      "outputs": [
        {
          "name": "stdout",
          "output_type": "stream",
          "text": [
            "[[1 0 2 0 3 0]\n",
            " [5 0 6 0 7 0]]\n",
            "# of rows : 2\n",
            "# of columns : 6\n",
            "size : 12\n"
          ]
        }
      ],
      "source": [
        "# Reshape to 2 rows and 6 columns\n",
        "reshape4 = original.reshape(2, 6)\n",
        "\n",
        "\n",
        "print(reshape4)\n",
        "print('# of rows :',  reshape4.shape[0])\n",
        "print('# of columns :',  reshape4.shape[1])\n",
        "print('size :',   reshape4.size)"
      ]
    },
    {
      "cell_type": "markdown",
      "metadata": {
        "id": "RmJva6VnfW12"
      },
      "source": [
        "## The magic **-1** in the `reshape` function\n",
        "* `-1` in the reshape() function tells NumPy to automatically calculate the size of a dimension based on the total number of elements"
      ]
    },
    {
      "cell_type": "code",
      "execution_count": null,
      "metadata": {
        "colab": {
          "base_uri": "https://localhost:8080/"
        },
        "id": "RAwSF_aLrA4k",
        "outputId": "01064ab5-7e2b-43fb-8771-ffa5e266cd5e"
      },
      "outputs": [
        {
          "name": "stdout",
          "output_type": "stream",
          "text": [
            "[[1 0 2]\n",
            " [0 3 0]\n",
            " [5 0 6]\n",
            " [0 7 0]]\n"
          ]
        }
      ],
      "source": [
        "# 2-d array \"original\"\n",
        "original = np.array([\n",
        "    [1, 0, 2],\n",
        "    [0, 3, 0],\n",
        "    [5, 0, 6],\n",
        "    [0, 7, 0]\n",
        "])\n",
        "\n",
        "\n",
        "print(original)"
      ]
    },
    {
      "cell_type": "code",
      "execution_count": null,
      "metadata": {
        "colab": {
          "base_uri": "https://localhost:8080/"
        },
        "id": "01lFfKHWfetU",
        "outputId": "d5d73208-219b-4eaa-aeb9-22d141f5af54"
      },
      "outputs": [
        {
          "name": "stdout",
          "output_type": "stream",
          "text": [
            "[[1 0 2 0 3 0]\n",
            " [5 0 6 0 7 0]]\n",
            "# of rows : 2\n",
            "# of columns : 6\n",
            "size : 12\n"
          ]
        }
      ],
      "source": [
        "# Reshape to 2 rows\n",
        "#  `-1` in the reshape() function tells NumPy to automatically calculate the size of a dimension based on the total number of elements\n",
        "reshape5 = original.reshape(2, -1)\n",
        "\n",
        "\n",
        "print(reshape5)\n",
        "print('# of rows :',  reshape5.shape[0])\n",
        "print('# of columns :',  reshape5.shape[1])\n",
        "print('size :',   reshape5.size)"
      ]
    },
    {
      "cell_type": "code",
      "execution_count": null,
      "metadata": {
        "colab": {
          "base_uri": "https://localhost:8080/"
        },
        "id": "o9qSYWMIgQDr",
        "outputId": "f1f4e11f-3adf-462f-a075-f36f247142c7"
      },
      "outputs": [
        {
          "name": "stdout",
          "output_type": "stream",
          "text": [
            "[[1 0]\n",
            " [2 0]\n",
            " [3 0]\n",
            " [5 0]\n",
            " [6 0]\n",
            " [7 0]]\n",
            "# of rows : 6\n",
            "# of columns : 2\n",
            "size : 12\n"
          ]
        }
      ],
      "source": [
        "# Reshape to 2 columns\n",
        "reshape6 = original.reshape(-1, 2)\n",
        "\n",
        "\n",
        "print(reshape6)\n",
        "print('# of rows :',  reshape6.shape[0])\n",
        "print('# of columns :',  reshape6.shape[1])\n",
        "print('size :',   reshape6.size)"
      ]
    },
    {
      "cell_type": "markdown",
      "metadata": {
        "id": "bjRZSQTeBdfh"
      },
      "source": [
        "# 3. Indexing and Slicing in NumPy\n",
        "* Goal: Learn indexing and slicing in NumPy\n",
        "* Examples:\n",
        "  * Get the first value\n",
        "  * Get the last value\n",
        "  * Get the 3rd row from a matrix\n",
        "  * Get the 2nd column from a matrix\n",
        "  * Get a sub-matrix from a matrix\n",
        "  * Get the values based on conditions"
      ]
    },
    {
      "cell_type": "markdown",
      "metadata": {
        "id": "6Ftw8gajmRk0"
      },
      "source": [
        "## 3.1 One-dimensional array"
      ]
    },
    {
      "cell_type": "code",
      "execution_count": null,
      "metadata": {
        "colab": {
          "base_uri": "https://localhost:8080/"
        },
        "id": "IALZQs-gmVuj",
        "outputId": "42c63ec0-c551-407a-a43f-4e249133c8c2"
      },
      "outputs": [
        {
          "name": "stdout",
          "output_type": "stream",
          "text": [
            "[107 137  84  75  63  27  29]\n"
          ]
        }
      ],
      "source": [
        "# Create a 1-d array \"account_length\"\n",
        "account_length = np.array([107, 137, 84, 75, 63, 27, 29])\n",
        "\n",
        "print(account_length)"
      ]
    },
    {
      "cell_type": "markdown",
      "metadata": {
        "id": "jyodOMVcmevm"
      },
      "source": [
        "### 1) Get the first value"
      ]
    },
    {
      "cell_type": "code",
      "execution_count": null,
      "metadata": {
        "colab": {
          "base_uri": "https://localhost:8080/"
        },
        "id": "EZCAaIzamc-S",
        "outputId": "bbde989a-423c-447f-8266-e968c3082283"
      },
      "outputs": [
        {
          "data": {
            "text/plain": [
              "107"
            ]
          },
          "execution_count": 36,
          "metadata": {},
          "output_type": "execute_result"
        }
      ],
      "source": [
        "account_length[0]"
      ]
    },
    {
      "cell_type": "markdown",
      "metadata": {
        "id": "SWnwPNNxmk-W"
      },
      "source": [
        "### 2) Get the last value"
      ]
    },
    {
      "cell_type": "code",
      "execution_count": null,
      "metadata": {
        "colab": {
          "base_uri": "https://localhost:8080/"
        },
        "id": "dHqxuylrmcPJ",
        "outputId": "6ca1632b-6280-4c41-99a8-5e39a4b9ef5a"
      },
      "outputs": [
        {
          "data": {
            "text/plain": [
              "29"
            ]
          },
          "execution_count": 37,
          "metadata": {},
          "output_type": "execute_result"
        }
      ],
      "source": [
        "account_length[-1]"
      ]
    },
    {
      "cell_type": "markdown",
      "metadata": {
        "id": "nuzjwoScoixP"
      },
      "source": [
        "### 3）Get the 2nd to 4th elements"
      ]
    },
    {
      "cell_type": "code",
      "execution_count": null,
      "metadata": {
        "colab": {
          "base_uri": "https://localhost:8080/"
        },
        "id": "rGBeuv43oiPd",
        "outputId": "33297004-cd72-4271-9b93-48ce3fc9aef2"
      },
      "outputs": [
        {
          "data": {
            "text/plain": [
              "array([137,  84,  75])"
            ]
          },
          "execution_count": 38,
          "metadata": {},
          "output_type": "execute_result"
        }
      ],
      "source": [
        "# Start from index 1, end before index 4\n",
        "account_length[1 : 4]"
      ]
    },
    {
      "cell_type": "markdown",
      "metadata": {
        "id": "xZORGkeOJj2f"
      },
      "source": [
        "### 4) Get even-index numbers"
      ]
    },
    {
      "cell_type": "code",
      "execution_count": null,
      "metadata": {
        "colab": {
          "base_uri": "https://localhost:8080/"
        },
        "id": "xlsf5e5KJXZY",
        "outputId": "6daad83d-eb24-40f0-d6b2-ff389aa49155"
      },
      "outputs": [
        {
          "data": {
            "text/plain": [
              "array([107,  84,  63,  29])"
            ]
          },
          "execution_count": 39,
          "metadata": {},
          "output_type": "execute_result"
        }
      ],
      "source": [
        "# Get even-index numbers\n",
        "# start index : end index : step\n",
        "account_length[ : : 2]"
      ]
    },
    {
      "cell_type": "markdown",
      "metadata": {
        "id": "vx5_APKrNnPd"
      },
      "source": [
        "## Challenge: Get reversing order of the original array"
      ]
    },
    {
      "cell_type": "code",
      "execution_count": null,
      "metadata": {
        "colab": {
          "base_uri": "https://localhost:8080/"
        },
        "id": "IhJrjjvhNt6G",
        "outputId": "261138e6-e32e-4091-90da-f7b2a8c0af02"
      },
      "outputs": [
        {
          "data": {
            "text/plain": [
              "array([ 29,  27,  63,  75,  84, 137, 107])"
            ]
          },
          "execution_count": 121,
          "metadata": {},
          "output_type": "execute_result"
        }
      ],
      "source": [
        "# start index : end index : step\n",
        "account_length[ : : -1]"
      ]
    },
    {
      "cell_type": "markdown",
      "metadata": {
        "id": "nqrcgNh9KkGL"
      },
      "source": [
        "## 5) Get values based on conditions"
      ]
    },
    {
      "cell_type": "code",
      "execution_count": null,
      "metadata": {
        "id": "1mJVcNpZKnfd"
      },
      "outputs": [],
      "source": [
        "filter = (account_length > 30) & (account_length <= 100)\n",
        "\n",
        "account_length_filtered = account_length[filter]"
      ]
    },
    {
      "cell_type": "code",
      "execution_count": null,
      "metadata": {
        "colab": {
          "base_uri": "https://localhost:8080/"
        },
        "id": "hsv50D40MEiY",
        "outputId": "5869ed84-8c5e-403d-9154-858109bf640b"
      },
      "outputs": [
        {
          "name": "stdout",
          "output_type": "stream",
          "text": [
            "[84 75 63]\n"
          ]
        }
      ],
      "source": [
        "# pint account_length_filtered\n",
        "print(account_length_filtered)"
      ]
    },
    {
      "cell_type": "markdown",
      "metadata": {
        "id": "8_CMXy5empWJ"
      },
      "source": [
        "## 3.2 Two-dimensional Array"
      ]
    },
    {
      "cell_type": "code",
      "execution_count": null,
      "metadata": {
        "colab": {
          "base_uri": "https://localhost:8080/"
        },
        "id": "Geh7Eu3rBUV9",
        "outputId": "6bcdf1bd-7d55-4a54-9ff7-041614a687f0"
      },
      "outputs": [
        {
          "name": "stdout",
          "output_type": "stream",
          "text": [
            "[[26  1  4]\n",
            " [ 0  0  6]\n",
            " [ 0  2  8]\n",
            " [ 0  3  2]]\n"
          ]
        }
      ],
      "source": [
        "# Create 2-d array\n",
        "arr_2d = np.array([\n",
        "           [26, 1, 4],\n",
        "           [0,  0, 6],\n",
        "           [0,  2, 8],\n",
        "           [0,  3, 2]\n",
        "])\n",
        "\n",
        "print(arr_2d)"
      ]
    },
    {
      "cell_type": "markdown",
      "metadata": {
        "id": "VsKIMg9NlzID"
      },
      "source": [
        "### 1) Get the first value"
      ]
    },
    {
      "cell_type": "code",
      "execution_count": null,
      "metadata": {
        "colab": {
          "base_uri": "https://localhost:8080/"
        },
        "id": "tec9sksjzvKQ",
        "outputId": "8635f7ef-e156-46e4-ca9d-b68b7067591f"
      },
      "outputs": [
        {
          "data": {
            "text/plain": [
              "26"
            ]
          },
          "execution_count": 43,
          "metadata": {},
          "output_type": "execute_result"
        }
      ],
      "source": [
        "# Get the first value\n",
        "arr_2d[0, 0]"
      ]
    },
    {
      "cell_type": "markdown",
      "metadata": {
        "id": "zZzjvIXdmA_d"
      },
      "source": [
        "### 2) Get the last value"
      ]
    },
    {
      "cell_type": "code",
      "execution_count": null,
      "metadata": {
        "colab": {
          "base_uri": "https://localhost:8080/"
        },
        "id": "Sd8xKgdiCQmW",
        "outputId": "edbc46bd-1e02-4da5-ed7e-e6e6ac546cfb"
      },
      "outputs": [
        {
          "data": {
            "text/plain": [
              "2"
            ]
          },
          "execution_count": 44,
          "metadata": {},
          "output_type": "execute_result"
        }
      ],
      "source": [
        "# Select third element of vector\n",
        "arr_2d[-1, -1]"
      ]
    },
    {
      "cell_type": "markdown",
      "metadata": {
        "id": "YulSzWCpmJVe"
      },
      "source": [
        "### 3) Get the 3rd row from a matrix"
      ]
    },
    {
      "cell_type": "code",
      "execution_count": null,
      "metadata": {
        "colab": {
          "base_uri": "https://localhost:8080/"
        },
        "id": "S594gPWC0KRt",
        "outputId": "0c1200ce-4675-4789-cd71-7d5e28906b09"
      },
      "outputs": [
        {
          "data": {
            "text/plain": [
              "array([0, 2, 8])"
            ]
          },
          "execution_count": 45,
          "metadata": {},
          "output_type": "execute_result"
        }
      ],
      "source": [
        "# Get the 3rd row from a matrix\n",
        "arr_2d[2]"
      ]
    },
    {
      "cell_type": "code",
      "execution_count": null,
      "metadata": {
        "colab": {
          "base_uri": "https://localhost:8080/"
        },
        "id": "pU48aYr8yZ_n",
        "outputId": "fab58dcd-1fc0-49da-961e-2caa71927eed"
      },
      "outputs": [
        {
          "data": {
            "text/plain": [
              "array([0, 2, 8])"
            ]
          },
          "execution_count": 46,
          "metadata": {},
          "output_type": "execute_result"
        }
      ],
      "source": [
        "# Same as the below code\n",
        "arr_2d[2, :]"
      ]
    },
    {
      "cell_type": "markdown",
      "metadata": {
        "id": "0u0CaGKOpJq2"
      },
      "source": [
        "### 4) Get the 2nd column from a matrix"
      ]
    },
    {
      "cell_type": "code",
      "execution_count": null,
      "metadata": {
        "colab": {
          "base_uri": "https://localhost:8080/"
        },
        "id": "g36G28qd0LZd",
        "outputId": "083aece6-b379-45b4-89af-44fc44f4e160"
      },
      "outputs": [
        {
          "data": {
            "text/plain": [
              "array([1, 0, 2, 3])"
            ]
          },
          "execution_count": 47,
          "metadata": {},
          "output_type": "execute_result"
        }
      ],
      "source": [
        "# Get the 2nd column from a matrix\n",
        "arr_2d[: , 1]"
      ]
    },
    {
      "cell_type": "markdown",
      "metadata": {
        "id": "JpdP0rNZvOba"
      },
      "source": [
        "### 5）Get a sub-matrix from a matrix"
      ]
    },
    {
      "cell_type": "code",
      "execution_count": null,
      "metadata": {
        "colab": {
          "base_uri": "https://localhost:8080/"
        },
        "id": "fuNW3ekLDIT2",
        "outputId": "5ae727f9-2dcb-454e-86ef-47ad6b6e2eaa"
      },
      "outputs": [
        {
          "data": {
            "text/plain": [
              "array([[99,  6],\n",
              "       [ 2,  8],\n",
              "       [ 3,  2]])"
            ]
          },
          "execution_count": 55,
          "metadata": {},
          "output_type": "execute_result"
        }
      ],
      "source": [
        "# Get a sub-matrix from a matrix\n",
        "arr_2d[1: , 1:]"
      ]
    },
    {
      "cell_type": "markdown",
      "metadata": {
        "id": "Qj98Aw6hOkN6"
      },
      "source": [
        "## Challenge: Assign this sub-matrix to A， and then change a number in A\n",
        "\n",
        "\n"
      ]
    },
    {
      "cell_type": "code",
      "execution_count": null,
      "metadata": {
        "colab": {
          "base_uri": "https://localhost:8080/"
        },
        "id": "gOp-xxGrOyQL",
        "outputId": "ffe0d2ad-cf59-412d-ec1f-40463dd170ed"
      },
      "outputs": [
        {
          "data": {
            "text/plain": [
              "array([[99,  6],\n",
              "       [ 2,  8],\n",
              "       [ 3,  2]])"
            ]
          },
          "execution_count": 57,
          "metadata": {},
          "output_type": "execute_result"
        }
      ],
      "source": [
        "# Create a view of a submatrix of arr_2d\n",
        "A = arr_2d[1: , 1:]\n",
        "\n",
        "A"
      ]
    },
    {
      "cell_type": "code",
      "execution_count": null,
      "metadata": {
        "id": "JPlkfXeAO7am"
      },
      "outputs": [],
      "source": [
        "# Change element at (0,0) in A\n",
        "A[0, 0] = 99"
      ]
    },
    {
      "cell_type": "code",
      "execution_count": null,
      "metadata": {
        "colab": {
          "base_uri": "https://localhost:8080/"
        },
        "id": "fTkZ2e2RPBNi",
        "outputId": "68a32e08-abd2-4d38-eddf-4180c563c2e1"
      },
      "outputs": [
        {
          "data": {
            "text/plain": [
              "array([[99,  6],\n",
              "       [ 2,  8],\n",
              "       [ 3,  2]])"
            ]
          },
          "execution_count": 59,
          "metadata": {},
          "output_type": "execute_result"
        }
      ],
      "source": [
        "A"
      ]
    },
    {
      "cell_type": "markdown",
      "metadata": {
        "id": "u5bExK_WOngr"
      },
      "source": [
        "## What would `arr_2d` look like now?"
      ]
    },
    {
      "cell_type": "code",
      "execution_count": null,
      "metadata": {
        "colab": {
          "base_uri": "https://localhost:8080/"
        },
        "id": "eWoqmzRRPGvD",
        "outputId": "a62c6556-0f63-4a6c-cfeb-0eb6f2021b24"
      },
      "outputs": [
        {
          "data": {
            "text/plain": [
              "array([[26,  1,  4],\n",
              "       [ 0, 99,  6],\n",
              "       [ 0,  2,  8],\n",
              "       [ 0,  3,  2]])"
            ]
          },
          "execution_count": 60,
          "metadata": {},
          "output_type": "execute_result"
        }
      ],
      "source": [
        "arr_2d"
      ]
    },
    {
      "cell_type": "markdown",
      "metadata": {
        "id": "gGIUxYeEPy9n"
      },
      "source": [
        "* When we create the array A with `A = arr_2d[1:, 1:]`, we are not creating a new array but rather creating a view or reference to a subset of the original `arr_2d`.\n",
        "* Thus, `A` shares the same underlying data with `arr_2d`, which means changes made to `A` will also be reflected in `arr_2d`.\n",
        "\n",
        "* When we modify an element in `A` using `A[0, 0] = 99`, we are actually modifying the corresponding element in the original `arr_2d` because A is a view of `arr_2d`. NumPy allows this behavior for performance reasons; it avoids unnecessary data copying."
      ]
    },
    {
      "cell_type": "markdown",
      "metadata": {
        "id": "cwHk5qfJQmJF"
      },
      "source": [
        "## What if we don't want to change the original matrix `arr_2d`?\n",
        "* Use `copy()`"
      ]
    },
    {
      "cell_type": "code",
      "execution_count": null,
      "metadata": {
        "colab": {
          "base_uri": "https://localhost:8080/"
        },
        "id": "drT-hY0rQrqD",
        "outputId": "e2b658ec-e247-49aa-d939-e13f97262361"
      },
      "outputs": [
        {
          "name": "stdout",
          "output_type": "stream",
          "text": [
            "[[26  1  4]\n",
            " [ 0  0  6]\n",
            " [ 0  2  8]\n",
            " [ 0  3  2]]\n"
          ]
        }
      ],
      "source": [
        "# Create 2-d array\n",
        "arr_2d = np.array([\n",
        "           [26, 1, 4],\n",
        "           [0,  0, 6],\n",
        "           [0,  2, 8],\n",
        "           [0,  3, 2]\n",
        "])\n",
        "\n",
        "print(arr_2d)"
      ]
    },
    {
      "cell_type": "code",
      "execution_count": null,
      "metadata": {
        "colab": {
          "base_uri": "https://localhost:8080/"
        },
        "id": "CFqurCzSQvK8",
        "outputId": "e1dc29bf-f2f0-4f57-eb45-12d098042dcf"
      },
      "outputs": [
        {
          "data": {
            "text/plain": [
              "array([[0, 6],\n",
              "       [2, 8],\n",
              "       [3, 2]])"
            ]
          },
          "execution_count": 62,
          "metadata": {},
          "output_type": "execute_result"
        }
      ],
      "source": [
        "# Make a copy of a submatrix of arr_2d\n",
        "B = arr_2d[1: , 1:].copy()\n",
        "\n",
        "B"
      ]
    },
    {
      "cell_type": "code",
      "execution_count": null,
      "metadata": {
        "colab": {
          "base_uri": "https://localhost:8080/"
        },
        "id": "omWeNYKxQ3yW",
        "outputId": "b725ee0f-25ac-434d-d2f3-3ae75e510047"
      },
      "outputs": [
        {
          "data": {
            "text/plain": [
              "array([[100,   6],\n",
              "       [  2,   8],\n",
              "       [  3,   2]])"
            ]
          },
          "execution_count": 63,
          "metadata": {},
          "output_type": "execute_result"
        }
      ],
      "source": [
        "# change element at (0,0) to 100\n",
        "B[0, 0] = 100\n",
        "\n",
        "B"
      ]
    },
    {
      "cell_type": "code",
      "execution_count": null,
      "metadata": {
        "colab": {
          "base_uri": "https://localhost:8080/"
        },
        "id": "KuZ4x3DtQ-Z0",
        "outputId": "8038feb9-a12b-4ddd-ee15-4cc0c05c78b9"
      },
      "outputs": [
        {
          "data": {
            "text/plain": [
              "array([[26,  1,  4],\n",
              "       [ 0,  0,  6],\n",
              "       [ 0,  2,  8],\n",
              "       [ 0,  3,  2]])"
            ]
          },
          "execution_count": 64,
          "metadata": {},
          "output_type": "execute_result"
        }
      ],
      "source": [
        "arr_2d"
      ]
    },
    {
      "cell_type": "markdown",
      "metadata": {
        "id": "hrChaFyZLfu2"
      },
      "source": [
        "### 6) Get the values based on conditions"
      ]
    },
    {
      "cell_type": "code",
      "execution_count": null,
      "metadata": {
        "colab": {
          "base_uri": "https://localhost:8080/"
        },
        "id": "-YyC2IMbFlin",
        "outputId": "83e3a42d-a0aa-4f8f-f1bc-a5eeb6792c19"
      },
      "outputs": [
        {
          "name": "stdout",
          "output_type": "stream",
          "text": [
            "[[26  1  4]\n",
            " [ 0  0  6]\n",
            " [ 0  2  8]\n",
            " [ 0  3  2]]\n"
          ]
        }
      ],
      "source": [
        "# Create 2-d array\n",
        "arr_2d = np.array([\n",
        "           [26, 1, 4],\n",
        "           [0,  0, 6],\n",
        "           [0,  2, 8],\n",
        "           [0,  3, 2]\n",
        "])\n",
        "\n",
        "print(arr_2d)"
      ]
    },
    {
      "cell_type": "code",
      "execution_count": null,
      "metadata": {
        "id": "RiHbihAyM-Mu"
      },
      "outputs": [],
      "source": [
        "# Odd numbers\n",
        "filter = (arr_2d % 2 != 0)\n",
        "\n",
        "arr_2d_filtered = arr_2d[filter]"
      ]
    },
    {
      "cell_type": "code",
      "execution_count": null,
      "metadata": {
        "colab": {
          "base_uri": "https://localhost:8080/"
        },
        "id": "KSOM3U3kNQxC",
        "outputId": "c282741a-f9a1-454a-db53-2736d928717c"
      },
      "outputs": [
        {
          "data": {
            "text/plain": [
              "array([1, 3])"
            ]
          },
          "execution_count": 67,
          "metadata": {},
          "output_type": "execute_result"
        }
      ],
      "source": [
        "arr_2d_filtered"
      ]
    },
    {
      "cell_type": "markdown",
      "metadata": {
        "id": "PODzye_zD5I4"
      },
      "source": [
        "# Broadcasting in NumPy"
      ]
    },
    {
      "cell_type": "markdown",
      "metadata": {
        "id": "c9P_4EDfRZ-7"
      },
      "source": [
        "## Coding Challenge: We'd like to add 10 to every element in a 2-d array.\n",
        "* We want to return a 2-d array contains the new values.\n",
        "* `np.empty_like(input_array)`: This function creates a new array with the same shape as `input_array` but with uninitialized elements.\n"
      ]
    },
    {
      "cell_type": "code",
      "execution_count": null,
      "metadata": {
        "id": "iOQ_utDkt6pS"
      },
      "outputs": [],
      "source": [
        "# def add_ten(input_arr):"
      ]
    },
    {
      "cell_type": "code",
      "execution_count": null,
      "metadata": {
        "id": "1OHX4Xd-Dp3-"
      },
      "outputs": [],
      "source": [
        "# Create a 2-d array\n",
        "arr_2d = np.array([\n",
        "                   [26, 1, 4],\n",
        "                   [0,  0, 6],\n",
        "                   [0,  2, 8],\n",
        "                   [0,  3, 2]\n",
        "  ])\n",
        "# We'd like to add 10 to every number in the matrix, and we'd like to return a new matrix"
      ]
    },
    {
      "cell_type": "markdown",
      "metadata": {
        "id": "VlV3vOIHFddd"
      },
      "source": [
        "## Method1(Brutal Force): Using `for` loops"
      ]
    },
    {
      "cell_type": "code",
      "execution_count": null,
      "metadata": {
        "id": "BL3hp_vTFuK0"
      },
      "outputs": [],
      "source": [
        "def add_ten(input_arr):\n",
        "  # Create a new array with the same shape as the matrix but with uninitialized elements.\n",
        "  output_arr = np.empty_like(input_arr)\n",
        "\n",
        "  for row_idx in range(input_arr.shape[0]):\n",
        "      for col_idx in range(input_arr.shape[1]):\n",
        "          output_arr[row_idx, col_idx] = input_arr[row_idx, col_idx] + 10\n",
        "\n",
        "  return output_arr\n",
        "\n",
        "  # def add_ten1(input_arr: np.array) -> np.array:"
      ]
    },
    {
      "cell_type": "code",
      "execution_count": null,
      "metadata": {
        "colab": {
          "base_uri": "https://localhost:8080/"
        },
        "id": "iQ_F2lAtiZOb",
        "outputId": "e4403a48-0514-4762-a7cf-d091ceec3e3e"
      },
      "outputs": [
        {
          "data": {
            "text/plain": [
              "array([[36, 11, 14],\n",
              "       [10, 10, 16],\n",
              "       [10, 12, 18],\n",
              "       [10, 13, 12]])"
            ]
          },
          "execution_count": 70,
          "metadata": {},
          "output_type": "execute_result"
        }
      ],
      "source": [
        "add_ten(arr_2d)"
      ]
    },
    {
      "cell_type": "markdown",
      "metadata": {
        "id": "FR9OufO0LBSQ"
      },
      "source": [
        "# Method 2: Broadcasting\n",
        "* In simple term, broadcasting is like making sure two puzzle pieces fit together by changing one of them a bit."
      ]
    },
    {
      "cell_type": "code",
      "execution_count": null,
      "metadata": {
        "colab": {
          "base_uri": "https://localhost:8080/"
        },
        "id": "JizpRrfuEOjZ",
        "outputId": "64e6d1c8-be32-41af-9353-a609cf30e220"
      },
      "outputs": [
        {
          "data": {
            "text/plain": [
              "array([[36, 11, 14],\n",
              "       [10, 10, 16],\n",
              "       [10, 12, 18],\n",
              "       [10, 13, 12]])"
            ]
          },
          "execution_count": 71,
          "metadata": {},
          "output_type": "execute_result"
        }
      ],
      "source": [
        "# Add 10 to all elements; `+ 10`\n",
        "arr_2d + 10"
      ]
    },
    {
      "cell_type": "markdown",
      "metadata": {
        "id": "zRRRsyDO2rAW"
      },
      "source": [
        "## Go through another example: Example2\n",
        "* multiply 1-d array to a 2-d array"
      ]
    },
    {
      "cell_type": "code",
      "execution_count": null,
      "metadata": {
        "colab": {
          "base_uri": "https://localhost:8080/"
        },
        "id": "BLGkg3MB2oG5",
        "outputId": "fa666d56-f28d-4731-e1a9-e7f1d250ebac"
      },
      "outputs": [
        {
          "name": "stdout",
          "output_type": "stream",
          "text": [
            "[[26  1  4]\n",
            " [ 0  0  6]\n",
            " [ 0  2  8]\n",
            " [ 0  3  2]]\n"
          ]
        }
      ],
      "source": [
        "# Create a 2-d array : 4 * 3\n",
        "arr_2d = np.array([\n",
        "                   [26, 1, 4],\n",
        "                   [0,  0, 6],\n",
        "                   [0,  2, 8],\n",
        "                   [0,  3, 2]\n",
        "  ])\n",
        "\n",
        "print(arr_2d)"
      ]
    },
    {
      "cell_type": "code",
      "execution_count": null,
      "metadata": {
        "colab": {
          "base_uri": "https://localhost:8080/"
        },
        "id": "jaDqdYIW23zI",
        "outputId": "b99a6283-3a16-493d-ea0c-687ba16a0387"
      },
      "outputs": [
        {
          "name": "stdout",
          "output_type": "stream",
          "text": [
            "[  1  10 100]\n"
          ]
        }
      ],
      "source": [
        "# Create a 1-d array: 1 * 3\n",
        "arr_1d = np.array([1, 10, 100])\n",
        "\n",
        "print(arr_1d)"
      ]
    },
    {
      "cell_type": "code",
      "execution_count": null,
      "metadata": {
        "colab": {
          "base_uri": "https://localhost:8080/"
        },
        "id": "tgbjIwql3DUK",
        "outputId": "7f0ed159-6891-4c22-eeff-6201837f1b2f"
      },
      "outputs": [
        {
          "data": {
            "text/plain": [
              "array([[ 26,  10, 400],\n",
              "       [  0,   0, 600],\n",
              "       [  0,  20, 800],\n",
              "       [  0,  30, 200]])"
            ]
          },
          "execution_count": 74,
          "metadata": {},
          "output_type": "execute_result"
        }
      ],
      "source": [
        "arr_2d * arr_1d"
      ]
    },
    {
      "cell_type": "markdown",
      "metadata": {
        "id": "RuPPm__9w9E4"
      },
      "source": [
        "## Note: It's the same as using `np.multiply()` function"
      ]
    },
    {
      "cell_type": "code",
      "execution_count": null,
      "metadata": {
        "colab": {
          "base_uri": "https://localhost:8080/"
        },
        "id": "WijEjlIuw8hE",
        "outputId": "db7bbb48-620c-4f55-d74e-42f9173644e3"
      },
      "outputs": [
        {
          "data": {
            "text/plain": [
              "array([[ 26,  10, 400],\n",
              "       [  0,   0, 600],\n",
              "       [  0,  20, 800],\n",
              "       [  0,  30, 200]])"
            ]
          },
          "execution_count": 12,
          "metadata": {},
          "output_type": "execute_result"
        }
      ],
      "source": [
        "np.multiply(arr_2d, arr_1d)"
      ]
    },
    {
      "cell_type": "markdown",
      "metadata": {
        "id": "fIWqqUQ-7aV0"
      },
      "source": [
        "## Go through another example: Example3\n",
        "* Devide 2-d array by a 2-d array"
      ]
    },
    {
      "cell_type": "code",
      "execution_count": null,
      "metadata": {
        "colab": {
          "base_uri": "https://localhost:8080/"
        },
        "id": "ohhgHR1y7eOQ",
        "outputId": "ec03b09e-aed6-4c7b-eff2-fcc6d2c103ef"
      },
      "outputs": [
        {
          "name": "stdout",
          "output_type": "stream",
          "text": [
            "[[26  1  4]\n",
            " [ 0  0  6]\n",
            " [ 0  2  8]\n",
            " [ 0  3  2]]\n"
          ]
        }
      ],
      "source": [
        "# Create a 2-d array: 4 * 3\n",
        "A = np.array([\n",
        "                   [26, 1, 4],\n",
        "                   [0,  0, 6],\n",
        "                   [0,  2, 8],\n",
        "                   [0,  3, 2]\n",
        "  ])\n",
        "\n",
        "print(A)"
      ]
    },
    {
      "cell_type": "code",
      "execution_count": null,
      "metadata": {
        "colab": {
          "base_uri": "https://localhost:8080/"
        },
        "id": "icYwJYLE7vKE",
        "outputId": "cb0c976e-4052-4ba8-d2ae-958f5fdef17f"
      },
      "outputs": [
        {
          "name": "stdout",
          "output_type": "stream",
          "text": [
            "[[1]\n",
            " [3]\n",
            " [2]\n",
            " [2]]\n"
          ]
        }
      ],
      "source": [
        "# Create another 2-d array: 4 * 1\n",
        "B = np.array([\n",
        "              [1],\n",
        "              [3],\n",
        "              [2],\n",
        "              [2]\n",
        "])\n",
        "\n",
        "print(B)"
      ]
    },
    {
      "cell_type": "code",
      "execution_count": null,
      "metadata": {
        "colab": {
          "base_uri": "https://localhost:8080/"
        },
        "id": "8IpKXEEU8agQ",
        "outputId": "e33afaaa-04b4-4389-c8b7-4c504fbb2733"
      },
      "outputs": [
        {
          "data": {
            "text/plain": [
              "array([[26. ,  1. ,  4. ],\n",
              "       [ 0. ,  0. ,  2. ],\n",
              "       [ 0. ,  1. ,  4. ],\n",
              "       [ 0. ,  1.5,  1. ]])"
            ]
          },
          "execution_count": 77,
          "metadata": {},
          "output_type": "execute_result"
        }
      ],
      "source": [
        "A / B"
      ]
    },
    {
      "cell_type": "markdown",
      "metadata": {
        "id": "pt574x1G_wG0"
      },
      "source": [
        "## Go through another example: Example4\n",
        "* sum two 2-d arrays with the same shape"
      ]
    },
    {
      "cell_type": "code",
      "execution_count": null,
      "metadata": {
        "colab": {
          "base_uri": "https://localhost:8080/"
        },
        "id": "j-uWdcd3_3c1",
        "outputId": "fc9bcd81-2aab-45fb-e8e2-99505a517b57"
      },
      "outputs": [
        {
          "name": "stdout",
          "output_type": "stream",
          "text": [
            "[[26  1  4]\n",
            " [ 0  0  6]\n",
            " [ 0  2  8]\n",
            " [ 0  3  2]]\n"
          ]
        }
      ],
      "source": [
        "# Create a 2-d array: 4 * 3\n",
        "A = np.array([\n",
        "                   [26, 1, 4],\n",
        "                   [0,  0, 6],\n",
        "                   [0,  2, 8],\n",
        "                   [0,  3, 2]\n",
        "  ])\n",
        "\n",
        "print(A)"
      ]
    },
    {
      "cell_type": "code",
      "execution_count": null,
      "metadata": {
        "colab": {
          "base_uri": "https://localhost:8080/"
        },
        "id": "TFH2p3NU_5qN",
        "outputId": "92a441a2-19af-4c32-e80b-53dfec176554"
      },
      "outputs": [
        {
          "name": "stdout",
          "output_type": "stream",
          "text": [
            "[[ 1  2  3]\n",
            " [ 4  5  6]\n",
            " [ 7  8  9]\n",
            " [10 11 12]]\n"
          ]
        }
      ],
      "source": [
        "# Create another 2-d array: 4 * 3\n",
        "B = np.array([\n",
        "              [1, 2, 3],\n",
        "              [4, 5, 6],\n",
        "              [7,  8, 9],\n",
        "              [10,  11, 12]\n",
        "])\n",
        "\n",
        "print(B)"
      ]
    },
    {
      "cell_type": "code",
      "execution_count": null,
      "metadata": {
        "colab": {
          "base_uri": "https://localhost:8080/"
        },
        "id": "lxnavuWTAD0y",
        "outputId": "81723a6c-1f41-4150-fe01-f05750bde6ad"
      },
      "outputs": [
        {
          "data": {
            "text/plain": [
              "array([[27,  3,  7],\n",
              "       [ 4,  5, 12],\n",
              "       [ 7, 10, 17],\n",
              "       [10, 14, 14]])"
            ]
          },
          "execution_count": 80,
          "metadata": {},
          "output_type": "execute_result"
        }
      ],
      "source": [
        "A + B\n",
        "\n",
        "# Go back to slides"
      ]
    },
    {
      "cell_type": "markdown",
      "metadata": {
        "id": "CPUrZYbLwSG7"
      },
      "source": [
        "# Frequently Used Functions in Numpy"
      ]
    },
    {
      "cell_type": "markdown",
      "metadata": {
        "id": "XZggjkuT8ytr"
      },
      "source": [
        "## Array Manipulation:\n",
        "* M.flatten()\n",
        "* np.diagonal()\n",
        "* np.transpose()\n",
        "* np.hstack()\n",
        "* np.vstack()\n",
        "* np.concatenate()\n",
        "* np.append()\n"
      ]
    },
    {
      "cell_type": "markdown",
      "metadata": {
        "id": "26KXzRd2DLqU"
      },
      "source": [
        "## Flatten an array"
      ]
    },
    {
      "cell_type": "code",
      "execution_count": null,
      "metadata": {
        "colab": {
          "base_uri": "https://localhost:8080/"
        },
        "id": "4XNoXkqZDNy-",
        "outputId": "5488564b-253e-4c15-d6ed-aea0651868bf"
      },
      "outputs": [
        {
          "data": {
            "text/plain": [
              "array([[1, 2, 3],\n",
              "       [4, 5, 6]])"
            ]
          },
          "execution_count": 81,
          "metadata": {},
          "output_type": "execute_result"
        }
      ],
      "source": [
        "# Create matrix\n",
        "input_arr = np.array([[1, 2, 3],\n",
        "                      [4, 5, 6]])\n",
        "\n",
        "input_arr"
      ]
    },
    {
      "cell_type": "code",
      "execution_count": null,
      "metadata": {
        "colab": {
          "base_uri": "https://localhost:8080/"
        },
        "id": "mQAGK8fHDUag",
        "outputId": "efcbee88-abc7-491d-a754-7ea81d5a6291"
      },
      "outputs": [
        {
          "data": {
            "text/plain": [
              "array([1, 2, 3, 4, 5, 6])"
            ]
          },
          "execution_count": 82,
          "metadata": {},
          "output_type": "execute_result"
        }
      ],
      "source": [
        "input_arr.flatten()"
      ]
    },
    {
      "cell_type": "markdown",
      "metadata": {
        "id": "wxXRvCy99idH"
      },
      "source": [
        "### Extract the main diagonal elements of an array"
      ]
    },
    {
      "cell_type": "code",
      "execution_count": null,
      "metadata": {
        "colab": {
          "base_uri": "https://localhost:8080/"
        },
        "id": "OyBjJzvQwFpd",
        "outputId": "2865dc52-6200-41e4-c284-11605d0a7782"
      },
      "outputs": [
        {
          "data": {
            "text/plain": [
              "array([[1, 2, 6],\n",
              "       [4, 8, 3],\n",
              "       [7, 2, 2]])"
            ]
          },
          "execution_count": 83,
          "metadata": {},
          "output_type": "execute_result"
        }
      ],
      "source": [
        "# Create matrix\n",
        "input_arr = np.array([[1, 2, 6],\n",
        "                      [4, 8, 3],\n",
        "                      [7, 2, 2]])\n",
        "\n",
        "input_arr"
      ]
    },
    {
      "cell_type": "code",
      "execution_count": null,
      "metadata": {
        "colab": {
          "base_uri": "https://localhost:8080/"
        },
        "id": "pfap6oS3854V",
        "outputId": "3a7129d2-0af4-4541-e1d2-f6c31d80d5a2"
      },
      "outputs": [
        {
          "data": {
            "text/plain": [
              "array([1, 8, 2])"
            ]
          },
          "execution_count": 84,
          "metadata": {},
          "output_type": "execute_result"
        }
      ],
      "source": [
        "# Extract the main diagonal elements of an array\n",
        "np.diagonal(input_arr)"
      ]
    },
    {
      "cell_type": "markdown",
      "metadata": {
        "id": "oHUBa3_K9mT3"
      },
      "source": [
        "## Transpose a matrix(swaps rows with columns）"
      ]
    },
    {
      "cell_type": "code",
      "execution_count": null,
      "metadata": {
        "colab": {
          "base_uri": "https://localhost:8080/"
        },
        "id": "NZ4FNwHmFBTk",
        "outputId": "297b7170-8474-4201-994d-9c81251ecbb6"
      },
      "outputs": [
        {
          "name": "stdout",
          "output_type": "stream",
          "text": [
            "Original Matrix:\n",
            "[[1 2 3]\n",
            " [4 5 6]]\n"
          ]
        }
      ],
      "source": [
        "# Create a matrix\n",
        "matrix = np.array([[1, 2, 3],\n",
        "                   [4, 5, 6]])\n",
        "\n",
        "\n",
        "print(\"Original Matrix:\")\n",
        "print(matrix)"
      ]
    },
    {
      "cell_type": "code",
      "execution_count": null,
      "metadata": {
        "colab": {
          "base_uri": "https://localhost:8080/"
        },
        "id": "om6LDFWPFFBw",
        "outputId": "26a4a6ed-4f5a-470e-a7f8-ae3ece43f099"
      },
      "outputs": [
        {
          "name": "stdout",
          "output_type": "stream",
          "text": [
            "Transposed Matrix:\n",
            "[[1 4]\n",
            " [2 5]\n",
            " [3 6]]\n"
          ]
        }
      ],
      "source": [
        "# Using numpy.transpose()\n",
        "transposed_matrix = np.transpose(matrix)\n",
        "\n",
        "# Print the transposed matrix\n",
        "print(\"Transposed Matrix:\")\n",
        "print(transposed_matrix)"
      ]
    },
    {
      "cell_type": "code",
      "execution_count": null,
      "metadata": {
        "colab": {
          "base_uri": "https://localhost:8080/"
        },
        "id": "sCfkdLF090VH",
        "outputId": "9e8c04e0-8e0c-4b23-ff1a-62b819726740"
      },
      "outputs": [
        {
          "name": "stdout",
          "output_type": "stream",
          "text": [
            "[[1 4]\n",
            " [2 5]\n",
            " [3 6]]\n"
          ]
        }
      ],
      "source": [
        "# Same as matrix.T\n",
        "trans_m = matrix.T\n",
        "\n",
        "print(trans_m)"
      ]
    },
    {
      "cell_type": "markdown",
      "metadata": {
        "id": "RdALzI0Z-IJ3"
      },
      "source": [
        "## Stacks arrays in sequence horizontally (column-wise)"
      ]
    },
    {
      "cell_type": "code",
      "execution_count": null,
      "metadata": {
        "colab": {
          "base_uri": "https://localhost:8080/"
        },
        "id": "NuUGsvjq-K7_",
        "outputId": "f11da504-9f27-49c2-f2cb-749c4cb1b401"
      },
      "outputs": [
        {
          "name": "stdout",
          "output_type": "stream",
          "text": [
            "[1 2 3]\n"
          ]
        }
      ],
      "source": [
        "arr1 = np.array([1, 2, 3])\n",
        "\n",
        "print(arr1)"
      ]
    },
    {
      "cell_type": "code",
      "execution_count": null,
      "metadata": {
        "colab": {
          "base_uri": "https://localhost:8080/"
        },
        "id": "cs1vkWvC-nDG",
        "outputId": "f8d1da81-a106-4e61-bb3b-b04ff0c8ff18"
      },
      "outputs": [
        {
          "name": "stdout",
          "output_type": "stream",
          "text": [
            "[4 5 6]\n"
          ]
        }
      ],
      "source": [
        "arr2 = np.array([4, 5, 6])\n",
        "\n",
        "print(arr2)"
      ]
    },
    {
      "cell_type": "code",
      "execution_count": null,
      "metadata": {
        "colab": {
          "base_uri": "https://localhost:8080/"
        },
        "id": "OtihMYsf-lOo",
        "outputId": "7aa74c58-e914-41cc-fa37-3a042abdfdd1"
      },
      "outputs": [
        {
          "name": "stdout",
          "output_type": "stream",
          "text": [
            "[1 2 3 4 5 6]\n"
          ]
        }
      ],
      "source": [
        "stacked_arr = np.hstack((arr1, arr2))  # Stacks horizontally\n",
        "\n",
        "print(stacked_arr)"
      ]
    },
    {
      "cell_type": "markdown",
      "metadata": {
        "id": "UsITOgC2Aqdz"
      },
      "source": [
        "### Another example"
      ]
    },
    {
      "cell_type": "code",
      "execution_count": null,
      "metadata": {
        "colab": {
          "base_uri": "https://localhost:8080/"
        },
        "id": "9HPwJcFo_-4b",
        "outputId": "2bcef19c-2a5e-427a-fa80-6b31bb0bdbf2"
      },
      "outputs": [
        {
          "name": "stdout",
          "output_type": "stream",
          "text": [
            "[[1 2]\n",
            " [1 2]]\n"
          ]
        }
      ],
      "source": [
        "arr3 = np.array([[1, 2],\n",
        "                 [1, 2]])\n",
        "\n",
        "print(arr3)"
      ]
    },
    {
      "cell_type": "code",
      "execution_count": null,
      "metadata": {
        "colab": {
          "base_uri": "https://localhost:8080/"
        },
        "id": "nTPsLyJjAG0E",
        "outputId": "849dfa80-0cbe-442f-8051-3a54cab6feaa"
      },
      "outputs": [
        {
          "name": "stdout",
          "output_type": "stream",
          "text": [
            "[[4 4 4]\n",
            " [6 6 6]]\n"
          ]
        }
      ],
      "source": [
        "arr4 = np.array([[4, 4, 4],\n",
        "                 [6, 6, 6]])\n",
        "\n",
        "print(arr4)"
      ]
    },
    {
      "cell_type": "code",
      "execution_count": null,
      "metadata": {
        "colab": {
          "base_uri": "https://localhost:8080/"
        },
        "id": "Dm86cCyNAPPY",
        "outputId": "bfd0dfb7-0ffc-4a14-cf26-2e9f63a374a8"
      },
      "outputs": [
        {
          "name": "stdout",
          "output_type": "stream",
          "text": [
            "[[1 2 4 4 4]\n",
            " [1 2 6 6 6]]\n"
          ]
        }
      ],
      "source": [
        "stacked_arr = np.hstack((arr3, arr4))  # Stacks horizontally\n",
        "\n",
        "print(stacked_arr)\n",
        "\n",
        "# Number of rows should be the same"
      ]
    },
    {
      "cell_type": "markdown",
      "metadata": {
        "id": "7RDj3Fwy_Ilp"
      },
      "source": [
        "## Stack arrays vertically (row-wise)"
      ]
    },
    {
      "cell_type": "code",
      "execution_count": null,
      "metadata": {
        "colab": {
          "base_uri": "https://localhost:8080/"
        },
        "id": "1cE2itwK_mW9",
        "outputId": "e1082bdc-b251-4d81-8ebb-7e6bf47e2fcb"
      },
      "outputs": [
        {
          "name": "stdout",
          "output_type": "stream",
          "text": [
            "[[1 2]\n",
            " [3 4]]\n"
          ]
        }
      ],
      "source": [
        "arr1 = np.array([[1, 2],\n",
        "                 [3, 4]])\n",
        "\n",
        "print(arr1)"
      ]
    },
    {
      "cell_type": "code",
      "execution_count": null,
      "metadata": {
        "colab": {
          "base_uri": "https://localhost:8080/"
        },
        "id": "rxPh-JP1_p0d",
        "outputId": "d9d8ff50-6701-4bf3-a8a0-b419bea13d1d"
      },
      "outputs": [
        {
          "name": "stdout",
          "output_type": "stream",
          "text": [
            "[[5 6]]\n"
          ]
        }
      ],
      "source": [
        "arr2 = np.array([[5, 6]])\n",
        "\n",
        "print(arr2)"
      ]
    },
    {
      "cell_type": "code",
      "execution_count": null,
      "metadata": {
        "colab": {
          "base_uri": "https://localhost:8080/"
        },
        "id": "eR2wvxNl_udo",
        "outputId": "e0006ee4-da8d-498c-9dbe-0d3a20773358"
      },
      "outputs": [
        {
          "name": "stdout",
          "output_type": "stream",
          "text": [
            "[[1 2]\n",
            " [3 4]\n",
            " [5 6]]\n"
          ]
        }
      ],
      "source": [
        "stacked_arr = np.vstack((arr1, arr2))  # Stacks vertically\n",
        "\n",
        "print(stacked_arr)\n",
        "\n",
        "# number of columns should be the same"
      ]
    },
    {
      "cell_type": "markdown",
      "metadata": {
        "id": "PVygh_-_AyzC"
      },
      "source": [
        "## Concatenates two arrays - joining two or more arrays along a specified axis.\n",
        "\n"
      ]
    },
    {
      "cell_type": "code",
      "execution_count": null,
      "metadata": {
        "colab": {
          "base_uri": "https://localhost:8080/"
        },
        "id": "j1BrRFHDA0TX",
        "outputId": "6f14f292-103a-4107-91dc-4685833a541f"
      },
      "outputs": [
        {
          "name": "stdout",
          "output_type": "stream",
          "text": [
            "[[1 2]\n",
            " [3 4]]\n"
          ]
        }
      ],
      "source": [
        "arr1 = np.array([[1, 2],\n",
        "                 [3, 4]])\n",
        "\n",
        "print(arr1)"
      ]
    },
    {
      "cell_type": "code",
      "execution_count": null,
      "metadata": {
        "colab": {
          "base_uri": "https://localhost:8080/"
        },
        "id": "ti6zajdKA8z2",
        "outputId": "a08abcfc-d746-4bd1-f2a2-09288a7b627b"
      },
      "outputs": [
        {
          "name": "stdout",
          "output_type": "stream",
          "text": [
            "[[5 6]\n",
            " [5 6]]\n"
          ]
        }
      ],
      "source": [
        "arr2 = np.array([[5, 6],\n",
        "                 [5, 6]])\n",
        "\n",
        "print(arr2)"
      ]
    },
    {
      "cell_type": "code",
      "execution_count": null,
      "metadata": {
        "colab": {
          "base_uri": "https://localhost:8080/"
        },
        "id": "UShmeFCPA3nQ",
        "outputId": "71e41056-3743-4efc-e908-1128690fefce"
      },
      "outputs": [
        {
          "data": {
            "text/plain": [
              "array([[1, 2],\n",
              "       [3, 4],\n",
              "       [5, 6],\n",
              "       [5, 6]])"
            ]
          },
          "execution_count": 99,
          "metadata": {},
          "output_type": "execute_result"
        }
      ],
      "source": [
        "# By default, axis = 0\n",
        "concat_vertical = np.concatenate((arr1, arr2))\n",
        "\n",
        "concat_vertical"
      ]
    },
    {
      "cell_type": "code",
      "execution_count": null,
      "metadata": {
        "colab": {
          "base_uri": "https://localhost:8080/"
        },
        "id": "W2-CzuN7BHr_",
        "outputId": "fb668f23-ad54-4dc0-8c18-f7abcdf46670"
      },
      "outputs": [
        {
          "data": {
            "text/plain": [
              "array([[1, 2, 5, 6],\n",
              "       [3, 4, 5, 6]])"
            ]
          },
          "execution_count": 100,
          "metadata": {},
          "output_type": "execute_result"
        }
      ],
      "source": [
        "# specify axis = 1\n",
        "concat_horizontal = np.concatenate((arr1, arr2), axis = 1)\n",
        "\n",
        "concat_horizontal"
      ]
    },
    {
      "cell_type": "markdown",
      "metadata": {
        "id": "NtGrvaHyBhvb"
      },
      "source": [
        "##  Appends arrays - append values to the end of an existing array."
      ]
    },
    {
      "cell_type": "code",
      "execution_count": null,
      "metadata": {
        "colab": {
          "base_uri": "https://localhost:8080/"
        },
        "id": "jkahEobwBzwI",
        "outputId": "29941667-b884-464c-afc2-e9980c4a50bc"
      },
      "outputs": [
        {
          "name": "stdout",
          "output_type": "stream",
          "text": [
            "2D arr1: \n",
            " [[0 1 2 3]\n",
            " [4 5 6 7]]\n",
            "\n",
            " Shape:  (2, 4)\n"
          ]
        }
      ],
      "source": [
        "arr1 = np.arange(8).reshape(2, 4)\n",
        "print(\"2D arr1: \\n\", arr1)\n",
        "print(\"\\n Shape: \", arr1.shape)"
      ]
    },
    {
      "cell_type": "code",
      "execution_count": null,
      "metadata": {
        "colab": {
          "base_uri": "https://localhost:8080/"
        },
        "id": "DOTE6Mw6CXdo",
        "outputId": "bc1528f8-99cf-481b-c9b9-0f3fb8f1c8ea"
      },
      "outputs": [
        {
          "name": "stdout",
          "output_type": "stream",
          "text": [
            "\n",
            "2D arr2: \n",
            " [[ 8  9 10 11]\n",
            " [12 13 14 15]]\n",
            "\n",
            " Shape:  (2, 4)\n"
          ]
        }
      ],
      "source": [
        "arr2 = np.arange(8, 16).reshape(2, 4)\n",
        "print(\"\\n2D arr2: \\n\", arr2)\n",
        "print(\"\\n Shape: \", arr2.shape)"
      ]
    },
    {
      "cell_type": "code",
      "execution_count": null,
      "metadata": {
        "colab": {
          "base_uri": "https://localhost:8080/"
        },
        "id": "X0mBv9B1Catz",
        "outputId": "59e0cb33-99a0-4c7b-f33c-7cfa19b53fe8"
      },
      "outputs": [
        {
          "name": "stdout",
          "output_type": "stream",
          "text": [
            "Append arr1, arr2 by flattened:  [ 0  1  2  3  4  5  6  7  8  9 10 11 12 13 14 15]\n"
          ]
        }
      ],
      "source": [
        "# append the arrays\n",
        "# By default, array is flattened first, then append.\n",
        "arr3 = np.append(arr1, arr2)\n",
        "print(\"Append arr1, arr2 by flattened: \", arr3)"
      ]
    },
    {
      "cell_type": "code",
      "execution_count": null,
      "metadata": {
        "colab": {
          "base_uri": "https://localhost:8080/"
        },
        "id": "aFF0-o3mCdro",
        "outputId": "4d48d62e-2a0a-47b2-f877-1e6a81fa2e1e"
      },
      "outputs": [
        {
          "name": "stdout",
          "output_type": "stream",
          "text": [
            "Append arr1, arr2 with axis 0 : \n",
            " [[ 0  1  2  3]\n",
            " [ 4  5  6  7]\n",
            " [ 8  9 10 11]\n",
            " [12 13 14 15]]\n"
          ]
        }
      ],
      "source": [
        "# Append vertically\n",
        "# append the arrays with axis = 0\n",
        "arr4 = np.append(arr1, arr2, axis = 0)\n",
        "print(\"Append arr1, arr2 with axis 0 : \\n\", arr4)"
      ]
    },
    {
      "cell_type": "code",
      "execution_count": null,
      "metadata": {
        "colab": {
          "base_uri": "https://localhost:8080/"
        },
        "id": "gYA5nFqACtV2",
        "outputId": "f78ea378-525b-4769-bdbc-37408f3c1c8a"
      },
      "outputs": [
        {
          "name": "stdout",
          "output_type": "stream",
          "text": [
            "Append arr1, arr2 with axis 1 : \n",
            " [[ 0  1  2  3  8  9 10 11]\n",
            " [ 4  5  6  7 12 13 14 15]]\n"
          ]
        }
      ],
      "source": [
        "# Append horizentally\n",
        "# append the arrays with axis = 1\n",
        "arr5 = np.append(arr1, arr2, axis = 1)\n",
        "print(\"Append arr1, arr2 with axis 1 : \\n\", arr5)"
      ]
    },
    {
      "cell_type": "markdown",
      "metadata": {
        "id": "zURyaXT-GAyI"
      },
      "source": [
        "## Arithemetic Operations in Numpy\n",
        "* np.min(), np.max()\n",
        "* np.argmin(), np.argmax()\n",
        "* np.unravel_index()\n",
        "* np.mean(), np.std()\n",
        "* np.cumsum()\n",
        "* np.trace()\n",
        "* np.count_nonzero()\n",
        "\n",
        "* np.inner()\n",
        "* np.cross()\n",
        "* np.dot()\n",
        "* np.matmul()\n",
        "* np.multiply()\n"
      ]
    },
    {
      "cell_type": "markdown",
      "metadata": {
        "id": "p3gzG1Cyy0RW"
      },
      "source": [
        "## Get the minimum and maximum values in an array\n"
      ]
    },
    {
      "cell_type": "code",
      "execution_count": null,
      "metadata": {
        "colab": {
          "base_uri": "https://localhost:8080/"
        },
        "id": "bc5TLzPuyzzf",
        "outputId": "29f90f25-873c-4528-dab6-7ec5ea2cbec3"
      },
      "outputs": [
        {
          "data": {
            "text/plain": [
              "array([[1, 2, 3],\n",
              "       [4, 5, 6]])"
            ]
          },
          "execution_count": 106,
          "metadata": {},
          "output_type": "execute_result"
        }
      ],
      "source": [
        "# Create matrix\n",
        "input_arr = np.array([[1, 2, 3],\n",
        "                      [4, 5, 6]])\n",
        "\n",
        "input_arr"
      ]
    },
    {
      "cell_type": "code",
      "execution_count": null,
      "metadata": {
        "colab": {
          "base_uri": "https://localhost:8080/"
        },
        "id": "TWIxHNIxy4Ey",
        "outputId": "5ad43fa6-ff7a-4cb6-ea37-207b0089257f"
      },
      "outputs": [
        {
          "data": {
            "text/plain": [
              "6"
            ]
          },
          "execution_count": 107,
          "metadata": {},
          "output_type": "execute_result"
        }
      ],
      "source": [
        "np.max(input_arr)"
      ]
    },
    {
      "cell_type": "code",
      "execution_count": null,
      "metadata": {
        "colab": {
          "base_uri": "https://localhost:8080/"
        },
        "id": "7AgiNAFEy9ws",
        "outputId": "72bb7547-8934-4d62-f8c3-c0de25d83e69"
      },
      "outputs": [
        {
          "data": {
            "text/plain": [
              "1"
            ]
          },
          "execution_count": 108,
          "metadata": {},
          "output_type": "execute_result"
        }
      ],
      "source": [
        "np.min(input_arr)"
      ]
    },
    {
      "cell_type": "markdown",
      "metadata": {
        "id": "MXsdDFTRtXgB"
      },
      "source": [
        "## Get the indices of the minimum and maximum values in an array\n",
        "* In case of multiple occurrences of the maximum values, the indices corresponding to the first occurrence are returned."
      ]
    },
    {
      "cell_type": "code",
      "execution_count": null,
      "metadata": {
        "colab": {
          "base_uri": "https://localhost:8080/"
        },
        "id": "xTh_-zp4GF8k",
        "outputId": "032ae15b-fc8c-4741-9311-e5a67f8bece4"
      },
      "outputs": [
        {
          "data": {
            "text/plain": [
              "array([[1, 2, 3],\n",
              "       [4, 5, 6]])"
            ]
          },
          "execution_count": 109,
          "metadata": {},
          "output_type": "execute_result"
        }
      ],
      "source": [
        "# Create matrix\n",
        "input_arr = np.array([[1, 2, 3],\n",
        "                      [4, 5, 6]])\n",
        "\n",
        "input_arr"
      ]
    },
    {
      "cell_type": "code",
      "execution_count": null,
      "metadata": {
        "id": "ckNuHxLTwQ4H"
      },
      "outputs": [],
      "source": [
        "ind_max_value = np.argmax(input_arr)"
      ]
    },
    {
      "cell_type": "code",
      "execution_count": null,
      "metadata": {
        "colab": {
          "base_uri": "https://localhost:8080/"
        },
        "id": "dZDe7pvnIjH4",
        "outputId": "1e49d37e-b752-4fd1-b919-7cbcb171bda6"
      },
      "outputs": [
        {
          "data": {
            "text/plain": [
              "5"
            ]
          },
          "execution_count": 111,
          "metadata": {},
          "output_type": "execute_result"
        }
      ],
      "source": [
        "ind_max_value"
      ]
    },
    {
      "cell_type": "code",
      "execution_count": null,
      "metadata": {
        "id": "B2TekGvkwXaN"
      },
      "outputs": [],
      "source": [
        "ind_min_value = np.argmin(input_arr)"
      ]
    },
    {
      "cell_type": "code",
      "execution_count": null,
      "metadata": {
        "colab": {
          "base_uri": "https://localhost:8080/"
        },
        "id": "2VJE3RepIs3r",
        "outputId": "a1d8c0ac-ed62-48e5-d8b3-8db8ca0761be"
      },
      "outputs": [
        {
          "data": {
            "text/plain": [
              "0"
            ]
          },
          "execution_count": 113,
          "metadata": {},
          "output_type": "execute_result"
        }
      ],
      "source": [
        "ind_min_value"
      ]
    },
    {
      "cell_type": "markdown",
      "metadata": {
        "id": "aScT9019IsUK"
      },
      "source": [
        "* This function will flattern the input array first and then find the indices of the min and max values in this flatterned array"
      ]
    },
    {
      "cell_type": "code",
      "execution_count": null,
      "metadata": {
        "colab": {
          "base_uri": "https://localhost:8080/"
        },
        "id": "70ObgMLEI3ex",
        "outputId": "023c0133-185a-4e72-974e-dd7e49e88e56"
      },
      "outputs": [
        {
          "data": {
            "text/plain": [
              "array([1, 2, 3, 4, 5, 6])"
            ]
          },
          "execution_count": 114,
          "metadata": {},
          "output_type": "execute_result"
        }
      ],
      "source": [
        "arr2 = input_arr.flatten()\n",
        "\n",
        "arr2"
      ]
    },
    {
      "cell_type": "markdown",
      "metadata": {
        "id": "01ASl4VYIFqT"
      },
      "source": [
        "## How do we get the original indices of the min and max value?\n",
        "* Use `np.unravel_index()` : Converts a flat index into a tuple of indices in a multi-dimensional array."
      ]
    },
    {
      "cell_type": "code",
      "execution_count": null,
      "metadata": {
        "colab": {
          "base_uri": "https://localhost:8080/"
        },
        "id": "bWum3PzKJI_B",
        "outputId": "cecd0c2e-ad3c-4d31-87e9-da8049dc1792"
      },
      "outputs": [
        {
          "data": {
            "text/plain": [
              "5"
            ]
          },
          "execution_count": 115,
          "metadata": {},
          "output_type": "execute_result"
        }
      ],
      "source": [
        "## Use np.unravel_index() : Converts a flat index into a tuple of indices in a multi-dimensional array.\n",
        "ind_max_value = np.argmax(input_arr)\n",
        "\n",
        "ind_max_value"
      ]
    },
    {
      "cell_type": "code",
      "execution_count": null,
      "metadata": {
        "colab": {
          "base_uri": "https://localhost:8080/"
        },
        "id": "8rjXnqOQKBox",
        "outputId": "6a00035c-36a8-4c9f-87bb-85c4db5c5cfa"
      },
      "outputs": [
        {
          "data": {
            "text/plain": [
              "(2, 3)"
            ]
          },
          "execution_count": 116,
          "metadata": {},
          "output_type": "execute_result"
        }
      ],
      "source": [
        "input_arr.shape"
      ]
    },
    {
      "cell_type": "code",
      "execution_count": null,
      "metadata": {
        "colab": {
          "base_uri": "https://localhost:8080/"
        },
        "id": "50OWmv3cJ_Rv",
        "outputId": "bf079ca3-e298-4854-9c98-b73761ffdb51"
      },
      "outputs": [
        {
          "data": {
            "text/plain": [
              "(1, 2)"
            ]
          },
          "execution_count": 117,
          "metadata": {},
          "output_type": "execute_result"
        }
      ],
      "source": [
        "np.unravel_index(ind_max_value, input_arr.shape)"
      ]
    },
    {
      "cell_type": "markdown",
      "metadata": {
        "id": "0L5HOQK0wgY7"
      },
      "source": [
        "##  Calculate the Average of a matrix"
      ]
    },
    {
      "cell_type": "code",
      "execution_count": null,
      "metadata": {
        "colab": {
          "base_uri": "https://localhost:8080/"
        },
        "id": "eXp7TYapwoRN",
        "outputId": "96f184ba-8a00-400b-aa00-284b018ce5d1"
      },
      "outputs": [
        {
          "data": {
            "text/plain": [
              "3.5"
            ]
          },
          "execution_count": 118,
          "metadata": {},
          "output_type": "execute_result"
        }
      ],
      "source": [
        "# Return mean\n",
        "np.mean(input_arr)"
      ]
    },
    {
      "cell_type": "markdown",
      "metadata": {
        "id": "qcAGBFmmGdnM"
      },
      "source": [
        "##  Calculate the standard deviation of a matrix"
      ]
    },
    {
      "cell_type": "code",
      "execution_count": null,
      "metadata": {
        "colab": {
          "base_uri": "https://localhost:8080/"
        },
        "id": "tHJHdoW6wvsA",
        "outputId": "a6a3852f-ba96-4d4e-f110-db5d02b87e70"
      },
      "outputs": [
        {
          "data": {
            "text/plain": [
              "1.707825127659933"
            ]
          },
          "execution_count": 119,
          "metadata": {},
          "output_type": "execute_result"
        }
      ],
      "source": [
        "# Return standard deviation\n",
        "np.std(input_arr)"
      ]
    },
    {
      "cell_type": "markdown",
      "metadata": {
        "id": "_gKkk6DgvOpG"
      },
      "source": [
        "## Compute the culmulative sum of array elements"
      ]
    },
    {
      "cell_type": "code",
      "execution_count": null,
      "metadata": {
        "colab": {
          "base_uri": "https://localhost:8080/"
        },
        "id": "855nOwWx8wMo",
        "outputId": "36d35243-aa03-49e2-8dd0-5ccb97b68e9a"
      },
      "outputs": [
        {
          "data": {
            "text/plain": [
              "array([1, 3, 4, 5, 6])"
            ]
          },
          "execution_count": 120,
          "metadata": {},
          "output_type": "execute_result"
        }
      ],
      "source": [
        "arr1 = np.array([1, 3, 4, 5, 6])\n",
        "\n",
        "arr1"
      ]
    },
    {
      "cell_type": "code",
      "execution_count": null,
      "metadata": {
        "colab": {
          "base_uri": "https://localhost:8080/"
        },
        "id": "c8asNMO1C7pe",
        "outputId": "f55df4db-62ba-4686-fd79-50253533bed7"
      },
      "outputs": [
        {
          "data": {
            "text/plain": [
              "array([ 1,  4,  8, 13, 19])"
            ]
          },
          "execution_count": 121,
          "metadata": {},
          "output_type": "execute_result"
        }
      ],
      "source": [
        "# Calculate the cumulative sum of the array\n",
        "np.cumsum(arr1)"
      ]
    },
    {
      "cell_type": "markdown",
      "metadata": {
        "id": "PeRBlMEaDfgj"
      },
      "source": [
        "## Calculate the sum along diagonals of the array\n"
      ]
    },
    {
      "cell_type": "code",
      "execution_count": null,
      "metadata": {
        "colab": {
          "base_uri": "https://localhost:8080/"
        },
        "id": "uytY_j0QDh8Z",
        "outputId": "cf98f0b2-2c60-45d8-b063-bba8ed1006f8"
      },
      "outputs": [
        {
          "data": {
            "text/plain": [
              "array([[1, 7, 7],\n",
              "       [7, 1, 7],\n",
              "       [7, 7, 1]])"
            ]
          },
          "execution_count": 122,
          "metadata": {},
          "output_type": "execute_result"
        }
      ],
      "source": [
        "arr = np.array([[1, 7, 7],\n",
        "                [7, 1, 7],\n",
        "                [7, 7, 1]\n",
        "              ])\n",
        "\n",
        "arr"
      ]
    },
    {
      "cell_type": "code",
      "execution_count": null,
      "metadata": {
        "colab": {
          "base_uri": "https://localhost:8080/"
        },
        "id": "D829uGBkDqbF",
        "outputId": "af3369ac-566a-42a9-8249-d2e7de768036"
      },
      "outputs": [
        {
          "data": {
            "text/plain": [
              "3"
            ]
          },
          "execution_count": 123,
          "metadata": {},
          "output_type": "execute_result"
        }
      ],
      "source": [
        "# Calculate the sum along the primary diagonal\n",
        "primary_diagonal_sum = np.trace(arr)\n",
        "\n",
        "primary_diagonal_sum"
      ]
    },
    {
      "cell_type": "markdown",
      "metadata": {
        "id": "9EWvMUanEhoI"
      },
      "source": [
        "## Counts the number of non-zero values in the array a"
      ]
    },
    {
      "cell_type": "code",
      "execution_count": null,
      "metadata": {
        "colab": {
          "base_uri": "https://localhost:8080/"
        },
        "id": "k6EWMfegEw-d",
        "outputId": "1423eaf0-c2cd-4ca6-dbfb-e6b82ca650fd"
      },
      "outputs": [
        {
          "data": {
            "text/plain": [
              "array([3, 2, 9, 3, 4, 8, 4, 1])"
            ]
          },
          "execution_count": 124,
          "metadata": {},
          "output_type": "execute_result"
        }
      ],
      "source": [
        "# Create a 1D array of 8 random integers between 1 and 9\n",
        "arr = np.random.randint(1, 10, 8)\n",
        "\n",
        "arr"
      ]
    },
    {
      "cell_type": "code",
      "execution_count": null,
      "metadata": {
        "colab": {
          "base_uri": "https://localhost:8080/"
        },
        "id": "z1BWMQc9E0x9",
        "outputId": "83a498dc-76a8-4e5d-b6b7-abe2bbdd19ee"
      },
      "outputs": [
        {
          "data": {
            "text/plain": [
              "8"
            ]
          },
          "execution_count": 125,
          "metadata": {},
          "output_type": "execute_result"
        }
      ],
      "source": [
        "# return number of non-zero values\n",
        "np.count_nonzero(arr)"
      ]
    },
    {
      "cell_type": "markdown",
      "metadata": {
        "id": "pvsRUagZFteD"
      },
      "source": [
        "## Inner product of two arrays\n",
        "* The specific behavior depends on the dimensionality of the input arrays"
      ]
    },
    {
      "cell_type": "code",
      "execution_count": null,
      "metadata": {
        "colab": {
          "base_uri": "https://localhost:8080/"
        },
        "id": "jr2ISRj2Fsrb",
        "outputId": "21fbca9e-10bb-402b-a5f7-aaefad6e180e"
      },
      "outputs": [
        {
          "data": {
            "text/plain": [
              "array([1, 2, 3])"
            ]
          },
          "execution_count": 126,
          "metadata": {},
          "output_type": "execute_result"
        }
      ],
      "source": [
        "a = np.array([1,2,3])\n",
        "\n",
        "a"
      ]
    },
    {
      "cell_type": "code",
      "execution_count": null,
      "metadata": {
        "colab": {
          "base_uri": "https://localhost:8080/"
        },
        "id": "IgxlXeOIFsew",
        "outputId": "3500f09a-81f8-4610-8bf0-2d7ca8e9d36f"
      },
      "outputs": [
        {
          "data": {
            "text/plain": [
              "array([0, 1, 0])"
            ]
          },
          "execution_count": 127,
          "metadata": {},
          "output_type": "execute_result"
        }
      ],
      "source": [
        "b = np.array([0,1,0])\n",
        "\n",
        "b"
      ]
    },
    {
      "cell_type": "code",
      "execution_count": null,
      "metadata": {
        "colab": {
          "base_uri": "https://localhost:8080/"
        },
        "id": "zBhXIrXtFsEe",
        "outputId": "c19120e9-0a60-4961-ae32-2abfc2d7306c"
      },
      "outputs": [
        {
          "data": {
            "text/plain": [
              "2"
            ]
          },
          "execution_count": 128,
          "metadata": {},
          "output_type": "execute_result"
        }
      ],
      "source": [
        "# 1 * 0 + 2 * 1 + 3 * 0 = 2\n",
        "np.inner(a, b)"
      ]
    },
    {
      "cell_type": "markdown",
      "metadata": {
        "id": "Hbuii84aGv6t"
      },
      "source": [
        "* For 1-D x 1-D arrays, it computes the dot product\n",
        "* For 2-D x 1-D arrays, it computes inner products for each row of the 2-D array with the 1-D array."
      ]
    },
    {
      "cell_type": "markdown",
      "metadata": {
        "id": "bXsh_zPFG02q"
      },
      "source": [
        "## Return the cross product of two (arrays of) vectors"
      ]
    },
    {
      "cell_type": "code",
      "execution_count": null,
      "metadata": {
        "colab": {
          "base_uri": "https://localhost:8080/"
        },
        "id": "L4KPTvWnG0Ve",
        "outputId": "399a593f-7672-46ce-8249-aebd1f714cae"
      },
      "outputs": [
        {
          "data": {
            "text/plain": [
              "[1, 2, 3]"
            ]
          },
          "execution_count": 129,
          "metadata": {},
          "output_type": "execute_result"
        }
      ],
      "source": [
        "x = [1, 2, 3]\n",
        "\n",
        "x"
      ]
    },
    {
      "cell_type": "code",
      "execution_count": null,
      "metadata": {
        "colab": {
          "base_uri": "https://localhost:8080/"
        },
        "id": "ypK6trNzH-kP",
        "outputId": "050e25bf-0f56-4507-9dc2-108368164399"
      },
      "outputs": [
        {
          "data": {
            "text/plain": [
              "[4, 5, 2]"
            ]
          },
          "execution_count": 130,
          "metadata": {},
          "output_type": "execute_result"
        }
      ],
      "source": [
        "y = [4, 5, 2]\n",
        "\n",
        "y"
      ]
    },
    {
      "cell_type": "code",
      "execution_count": null,
      "metadata": {
        "colab": {
          "base_uri": "https://localhost:8080/"
        },
        "id": "zT-b-PPfYQCT",
        "outputId": "5263eef9-a03b-4baa-9adf-2ed9f28d21ff"
      },
      "outputs": [
        {
          "data": {
            "text/plain": [
              "[1, 2, 3]"
            ]
          },
          "execution_count": 133,
          "metadata": {},
          "output_type": "execute_result"
        }
      ],
      "source": [
        "x"
      ]
    },
    {
      "cell_type": "code",
      "execution_count": null,
      "metadata": {
        "colab": {
          "base_uri": "https://localhost:8080/"
        },
        "id": "0Y-mZOyPYR2v",
        "outputId": "d7e0e13a-6823-49c4-fe5e-c6c84d1906d0"
      },
      "outputs": [
        {
          "data": {
            "text/plain": [
              "[4, 5, 2]"
            ]
          },
          "execution_count": 134,
          "metadata": {},
          "output_type": "execute_result"
        }
      ],
      "source": [
        "y"
      ]
    },
    {
      "cell_type": "code",
      "execution_count": null,
      "metadata": {
        "colab": {
          "base_uri": "https://localhost:8080/"
        },
        "id": "VmFW7MpsIBeQ",
        "outputId": "fbc3a661-aff0-4d5c-952a-121a8c363d49"
      },
      "outputs": [
        {
          "data": {
            "text/plain": [
              "array([-11,  10,  -3])"
            ]
          },
          "execution_count": 131,
          "metadata": {},
          "output_type": "execute_result"
        }
      ],
      "source": [
        "np.cross(x, y)\n",
        "\n",
        "#  2 * 2 - 3 * 5 = -11\n",
        "#  3 * 4 - 1 * 2 = 10\n",
        "#  1 * 5 - 2 * 4 = -3"
      ]
    },
    {
      "cell_type": "markdown",
      "metadata": {
        "id": "XDt2-EhQAvsy"
      },
      "source": [
        "## Dot product of two arrays\n",
        "Specifically,\n",
        "\n",
        "* If both a and b are 1-D arrays, it is inner product of vectors (without complex conjugation).\n",
        "\n",
        "* If both a and b are 2-D arrays, it is matrix multiplication, but using `matmul` or `a @ b` is preferred."
      ]
    },
    {
      "cell_type": "code",
      "execution_count": null,
      "metadata": {
        "colab": {
          "base_uri": "https://localhost:8080/"
        },
        "id": "DwoPaIokEzVv",
        "outputId": "f3939671-1b58-4305-e3c2-8eaa019698ba"
      },
      "outputs": [
        {
          "name": "stdout",
          "output_type": "stream",
          "text": [
            "[1 2 3]\n"
          ]
        }
      ],
      "source": [
        "# 1-d arr A\n",
        "A = np.array([1, 2, 3])\n",
        "print(A)"
      ]
    },
    {
      "cell_type": "code",
      "execution_count": null,
      "metadata": {
        "colab": {
          "base_uri": "https://localhost:8080/"
        },
        "id": "KvlL3pkhFSPu",
        "outputId": "4cbfa77e-7375-4057-937d-fe1fbebfa47e"
      },
      "outputs": [
        {
          "name": "stdout",
          "output_type": "stream",
          "text": [
            "[ 2  1 10]\n"
          ]
        }
      ],
      "source": [
        "B = np.array([2, 1, 10])\n",
        "print(B)"
      ]
    },
    {
      "cell_type": "code",
      "execution_count": null,
      "metadata": {
        "colab": {
          "base_uri": "https://localhost:8080/"
        },
        "id": "0VLk40_JD1oa",
        "outputId": "1f6be698-92eb-4790-d3d0-57fb5e80dbdb"
      },
      "outputs": [
        {
          "name": "stdout",
          "output_type": "stream",
          "text": [
            "dot product:\n",
            " 34\n"
          ]
        }
      ],
      "source": [
        "print('dot product:\\n', np.dot(A, B))\n",
        "\n",
        "# 1 * 2 + 2 * 1 + 3 * 10 = 34"
      ]
    },
    {
      "cell_type": "markdown",
      "metadata": {
        "id": "idLi3oY_Jvco"
      },
      "source": [
        "* In summary, while `np.dot()` is technically correct for 2-D matrix multiplication, using `np.matmul()` or `@` is recommended for better code clarity, adherence to conventions, and versatility, especially when dealing with matrices and higher-dimensional arrays in NumPy."
      ]
    },
    {
      "cell_type": "markdown",
      "metadata": {
        "id": "_yJwJP90KIK9"
      },
      "source": [
        "## Matrix product of two arrays (Matrix Multiplication)"
      ]
    },
    {
      "cell_type": "code",
      "execution_count": null,
      "metadata": {
        "colab": {
          "base_uri": "https://localhost:8080/"
        },
        "id": "3BEVyH5L08c8",
        "outputId": "5763c708-6e31-40e0-e9fa-cb60523d4858"
      },
      "outputs": [
        {
          "data": {
            "text/plain": [
              "array([[1, 2, 3],\n",
              "       [4, 5, 6]])"
            ]
          },
          "execution_count": 138,
          "metadata": {},
          "output_type": "execute_result"
        }
      ],
      "source": [
        "# 2-d arr A\n",
        "a = np.array([[1, 2, 3],\n",
        "              [4, 5, 6]])\n",
        "\n",
        "a"
      ]
    },
    {
      "cell_type": "code",
      "execution_count": null,
      "metadata": {
        "colab": {
          "base_uri": "https://localhost:8080/"
        },
        "id": "WkRLqOBnKmFl",
        "outputId": "1aeeaeb7-c19b-461f-d880-a0e49427ba78"
      },
      "outputs": [
        {
          "data": {
            "text/plain": [
              "array([[ 7,  8],\n",
              "       [ 9, 10],\n",
              "       [11, 12]])"
            ]
          },
          "execution_count": 139,
          "metadata": {},
          "output_type": "execute_result"
        }
      ],
      "source": [
        "b = np.array([[7, 8],\n",
        "              [9, 10],\n",
        "              [11, 12]])\n",
        "\n",
        "b"
      ]
    },
    {
      "cell_type": "code",
      "execution_count": null,
      "metadata": {
        "colab": {
          "base_uri": "https://localhost:8080/"
        },
        "id": "03ST12QjKghJ",
        "outputId": "e4fc959f-bc0a-40bb-8594-5afa39e235d3"
      },
      "outputs": [
        {
          "name": "stdout",
          "output_type": "stream",
          "text": [
            "matrix product:\n",
            " [[ 58  64]\n",
            " [139 154]]\n"
          ]
        }
      ],
      "source": [
        "# Calculation rule followed\n",
        "print('matrix product:\\n', np.matmul(a, b))\n"
      ]
    },
    {
      "cell_type": "markdown",
      "metadata": {
        "id": "lWaxJIQCMJTU"
      },
      "source": [
        "## Element-wise multiplication of two arrays (same as `*`)"
      ]
    },
    {
      "cell_type": "code",
      "execution_count": null,
      "metadata": {
        "colab": {
          "base_uri": "https://localhost:8080/"
        },
        "id": "cdUItYs3NLGZ",
        "outputId": "9bffa1e6-a25a-403e-bdc7-d6992b5f69cc"
      },
      "outputs": [
        {
          "data": {
            "text/plain": [
              "array([[1, 2, 3],\n",
              "       [4, 5, 6]])"
            ]
          },
          "execution_count": 141,
          "metadata": {},
          "output_type": "execute_result"
        }
      ],
      "source": [
        "# 2-d arr A\n",
        "a = np.array([[1, 2, 3],\n",
        "              [4, 5, 6]])\n",
        "\n",
        "a"
      ]
    },
    {
      "cell_type": "code",
      "execution_count": null,
      "metadata": {
        "colab": {
          "base_uri": "https://localhost:8080/"
        },
        "id": "3Fk-ZI6TNNQV",
        "outputId": "049391e0-c58f-4e84-fd37-a0f2ebc2da97"
      },
      "outputs": [
        {
          "data": {
            "text/plain": [
              "array([ 1,  0, 10])"
            ]
          },
          "execution_count": 142,
          "metadata": {},
          "output_type": "execute_result"
        }
      ],
      "source": [
        "b = np.array([1, 0, 10])\n",
        "\n",
        "b"
      ]
    },
    {
      "cell_type": "code",
      "execution_count": null,
      "metadata": {
        "colab": {
          "base_uri": "https://localhost:8080/"
        },
        "id": "1EPHuku5KlFE",
        "outputId": "f3fa5829-1be2-4166-c394-6420482cf79d"
      },
      "outputs": [
        {
          "data": {
            "text/plain": [
              "array([[ 1,  0, 30],\n",
              "       [ 4,  0, 60]])"
            ]
          },
          "execution_count": 143,
          "metadata": {},
          "output_type": "execute_result"
        }
      ],
      "source": [
        "np.multiply(a, b)"
      ]
    },
    {
      "cell_type": "markdown",
      "metadata": {
        "id": "afBh6tfpMJMI"
      },
      "source": [
        "## Other Useful Functions\n",
        "* np.where()\n",
        "* np.sort()"
      ]
    },
    {
      "cell_type": "markdown",
      "metadata": {
        "id": "DrhRVPhNOKZK"
      },
      "source": [
        "## Return elements chosen from arrays depending on condition"
      ]
    },
    {
      "cell_type": "code",
      "execution_count": null,
      "metadata": {
        "colab": {
          "base_uri": "https://localhost:8080/"
        },
        "id": "vBdkNBeMOJ2m",
        "outputId": "4f196245-5a93-4269-b495-7c9271ef717f"
      },
      "outputs": [
        {
          "data": {
            "text/plain": [
              "array([1, 2, 3, 4])"
            ]
          },
          "execution_count": 144,
          "metadata": {},
          "output_type": "execute_result"
        }
      ],
      "source": [
        "arr = np.array([1, 2, 3, 4])\n",
        "\n",
        "arr"
      ]
    },
    {
      "cell_type": "markdown",
      "metadata": {
        "id": "aLamlTkvOWKW"
      },
      "source": [
        "## We want to replaces elements that are <= 2 with 0"
      ]
    },
    {
      "cell_type": "code",
      "execution_count": null,
      "metadata": {
        "colab": {
          "base_uri": "https://localhost:8080/"
        },
        "id": "nOlGyKVjN0LV",
        "outputId": "f295f7be-a33e-470e-8e8f-072da867cb0a"
      },
      "outputs": [
        {
          "data": {
            "text/plain": [
              "array([0, 0, 3, 4])"
            ]
          },
          "execution_count": 145,
          "metadata": {},
          "output_type": "execute_result"
        }
      ],
      "source": [
        "# If elements > 2 then we keep the elements, else we replaces elements <= 2 with 0\n",
        "result = np.where(arr > 2, arr, 0)\n",
        "\n",
        "result"
      ]
    },
    {
      "cell_type": "code",
      "execution_count": null,
      "metadata": {
        "id": "_faB-9ENOgOQ"
      },
      "outputs": [],
      "source": [
        "# Seudo code: It's the same as\n",
        "if arr[i] > 2:\n",
        "  keep arr[i]\n",
        "  else replace arr[i] to 0"
      ]
    },
    {
      "cell_type": "markdown",
      "metadata": {
        "id": "KVTlk48rQeF1"
      },
      "source": [
        "## Returns a sorted copy of an array"
      ]
    },
    {
      "cell_type": "code",
      "execution_count": null,
      "metadata": {
        "colab": {
          "base_uri": "https://localhost:8080/"
        },
        "id": "ejB5B-adQgxA",
        "outputId": "559e184e-4340-4170-82e7-f791371dca21"
      },
      "outputs": [
        {
          "data": {
            "text/plain": [
              "array([ 2,  1, 16,  7])"
            ]
          },
          "execution_count": 146,
          "metadata": {},
          "output_type": "execute_result"
        }
      ],
      "source": [
        "arr = np.array([2, 1, 16, 7])\n",
        "\n",
        "arr"
      ]
    },
    {
      "cell_type": "code",
      "execution_count": null,
      "metadata": {
        "colab": {
          "base_uri": "https://localhost:8080/"
        },
        "id": "7cmohWJ0QtdE",
        "outputId": "dad2f002-e3c8-474b-eed1-a9f8ba730adc"
      },
      "outputs": [
        {
          "data": {
            "text/plain": [
              "array([ 1,  2,  7, 16])"
            ]
          },
          "execution_count": 147,
          "metadata": {},
          "output_type": "execute_result"
        }
      ],
      "source": [
        "np.sort(arr)"
      ]
    },
    {
      "cell_type": "code",
      "execution_count": 2,
      "metadata": {
        "id": "vhl4IHIuQu5h"
      },
      "outputs": [
        {
          "name": "stdout",
          "output_type": "stream",
          "text": [
            "[[1 2 3]\n",
            " [4 5 6]\n",
            " [7 8 9]]\n"
          ]
        },
        {
          "data": {
            "text/plain": [
              "15"
            ]
          },
          "execution_count": 2,
          "metadata": {},
          "output_type": "execute_result"
        }
      ],
      "source": [
        "import numpy as np\n",
        "arr = np.arange(1, 10).reshape(3, 3)\n",
        "print(arr)\n",
        "np.trace(arr)"
      ]
    },
    {
      "cell_type": "code",
      "execution_count": 4,
      "metadata": {},
      "outputs": [
        {
          "name": "stdout",
          "output_type": "stream",
          "text": [
            "[-3  6 -3]\n"
          ]
        }
      ],
      "source": [
        "import numpy as np\n",
        "arr = np.array([1, 2, 3])\n",
        "arr1 = np.array([4, 5, 6])\n",
        "result = np.cross(arr, arr1)\n",
        "print(result)"
      ]
    }
  ],
  "metadata": {
    "colab": {
      "provenance": []
    },
    "kernelspec": {
      "display_name": "Python 3",
      "name": "python3"
    },
    "language_info": {
      "codemirror_mode": {
        "name": "ipython",
        "version": 3
      },
      "file_extension": ".py",
      "mimetype": "text/x-python",
      "name": "python",
      "nbconvert_exporter": "python",
      "pygments_lexer": "ipython3",
      "version": "3.12.3"
    }
  },
  "nbformat": 4,
  "nbformat_minor": 0
}
