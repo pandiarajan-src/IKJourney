{
 "cells": [
  {
   "cell_type": "markdown",
   "metadata": {},
   "source": [
    "# Complex Statements\n",
    "\n",
    "## Compond Statements\n",
    "\n",
    "- if Statement\n",
    "- While Statement\n",
    "- For Statement\n",
    "- Try Statement\n",
    "- With Statement\n",
    "- Match Statement\n",
    "- Function Definitions\n",
    "- Class Definitions\n",
    "- Coroutines\n",
    "\n",
    "\n",
    "## Key terms\n",
    "\n",
    "- **Function** - A named block of reusable code that can be executed multiple times. Defined using the def keyword.\n",
    "- **Parameters** - Variables that serve as inputs to a function. Specified within the parentheses in the function definition.\n",
    "- **Return statement** - Returns a value from the function. Used to define the output of a function.\n",
    "- **Default parameter value** - A value automatically assigned to a parameter if no argument is passed for that - parameter in the function call. Defined using = in the function definition.\n",
    "- **Code block** - The lines of code associated with and controlled by a programming statement. Indented under the statement.\n"
   ]
  },
  {
   "cell_type": "code",
   "execution_count": null,
   "metadata": {},
   "outputs": [],
   "source": [
    "# Function with two parameters \n",
    "def add_nums(num1, num2):\n",
    "    sum = num1 + num2\n",
    "    return sum\n",
    "\n",
    "# Call function using parameters  \n",
    "result = add_nums(5, 3)\n",
    "print(result)\n",
    "\n",
    "# Function with default parameter\n",
    "def hello(name=\"John\"):\n",
    "    print(\"Hello \" + name)\n",
    "\n",
    "hello() # Uses default name \n",
    "hello(\"Jane\") # Overrides default\n",
    "\n",
    "# Function with code block\n",
    "def print_lines():\n",
    "    print(\"Line 1\")\n",
    "    print(\"Line 2\")\n",
    "    print(\"Line 3\")\n",
    "    \n",
    "print_lines()"
   ]
  },
  {
   "cell_type": "markdown",
   "metadata": {},
   "source": [
    "- **Decorator** - A function that takes another function as an argument, adds functionality, and returns the decorated function."
   ]
  },
  {
   "cell_type": "code",
   "execution_count": 1,
   "metadata": {},
   "outputs": [
    {
     "name": "stdout",
     "output_type": "stream",
     "text": [
      "Duration: 0.04038596153259277\n"
     ]
    }
   ],
   "source": [
    "# Function decorator that times execution\n",
    "from time import time\n",
    "\n",
    "def timer(func):\n",
    "    # Nested wrapper function\n",
    "    def wrapper():\n",
    "        start = time()\n",
    "        func()\n",
    "        end = time()\n",
    "        print(f\"Duration: {end-start}\")\n",
    "    return wrapper\n",
    "\n",
    "@timer\n",
    "def sum_nums():\n",
    "    result = 0\n",
    "    for x in range(1000000):\n",
    "        result += x\n",
    "\n",
    "sum_nums()"
   ]
  }
 ],
 "metadata": {
  "kernelspec": {
   "display_name": ".venv",
   "language": "python",
   "name": "python3"
  },
  "language_info": {
   "codemirror_mode": {
    "name": "ipython",
    "version": 3
   },
   "file_extension": ".py",
   "mimetype": "text/x-python",
   "name": "python",
   "nbconvert_exporter": "python",
   "pygments_lexer": "ipython3",
   "version": "3.12.3"
  }
 },
 "nbformat": 4,
 "nbformat_minor": 2
}
