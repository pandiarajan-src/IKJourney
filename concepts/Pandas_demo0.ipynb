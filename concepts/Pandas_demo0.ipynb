{
  "nbformat": 4,
  "nbformat_minor": 0,
  "metadata": {
    "colab": {
      "provenance": [],
      "authorship_tag": "ABX9TyP0v+/tnNMNGblGNSkpnfPS",
      "include_colab_link": true
    },
    "kernelspec": {
      "name": "python3",
      "display_name": "Python 3"
    },
    "language_info": {
      "name": "python"
    }
  },
  "cells": [
    {
      "cell_type": "markdown",
      "metadata": {
        "id": "view-in-github",
        "colab_type": "text"
      },
      "source": [
        "<a href=\"https://colab.research.google.com/github/pandiarajan-src/IKJourney/blob/main/concepts/Pandas_demo0.ipynb\" target=\"_parent\"><img src=\"https://colab.research.google.com/assets/colab-badge.svg\" alt=\"Open In Colab\"/></a>"
      ]
    },
    {
      "cell_type": "markdown",
      "source": [
        "# Pandas\n",
        "\n",
        "## What is Pandas? (comes from Panel Data)\n",
        "\n",
        "- Pandas is a powerful python library widely used for data manipulation and analyis.\n",
        "- Pandas ofers data structures and functions that simplify working with structured data, making it an essential tool in data science and analysis.\n",
        "\n"
      ],
      "metadata": {
        "id": "bFTSMG36Popz"
      }
    }
  ]
}