{
  "nbformat": 4,
  "nbformat_minor": 0,
  "metadata": {
    "colab": {
      "provenance": [],
      "toc_visible": true,
      "mount_file_id": "1y3CSdn4LdaKtYjcfiAs0dinYJVr1BmrV",
      "authorship_tag": "ABX9TyNIioLriAdl7lmdNJqMtm1L",
      "include_colab_link": true
    },
    "kernelspec": {
      "name": "python3",
      "display_name": "Python 3"
    },
    "language_info": {
      "name": "python"
    }
  },
  "cells": [
    {
      "cell_type": "markdown",
      "metadata": {
        "id": "view-in-github",
        "colab_type": "text"
      },
      "source": [
        "<a href=\"https://colab.research.google.com/github/pandiarajan-src/IKJourney/blob/main/concepts/Pandas_demo0.ipynb\" target=\"_parent\"><img src=\"https://colab.research.google.com/assets/colab-badge.svg\" alt=\"Open In Colab\"/></a>"
      ]
    },
    {
      "cell_type": "markdown",
      "source": [
        "# Pandas\n",
        "\n",
        "## What is Pandas? (comes from Panel Data)\n",
        "\n",
        "- Pandas is a powerful python library widely used for data manipulation and analyis.\n",
        "- Pandas ofers data structures and functions that simplify working with structured data, making it an essential tool in data science and analysis.\n",
        "\n",
        "## Why use Pandas\n",
        "\n",
        "- Using Pandas offers several benefits for data manipulation and data analysis.\n",
        "  - Efficient Data Handling\n",
        "  - Data Alignment\n",
        "  - Handling missing data\n",
        "  - Data Integration\n",
        "  - Flexible Data Transformation\n",
        "  - Integration with other libraries\n",
        "\n",
        "\n",
        "\n",
        "\n",
        "\n",
        "\n"
      ],
      "metadata": {
        "id": "bFTSMG36Popz"
      }
    },
    {
      "cell_type": "code",
      "source": [
        "! pip install pandas"
      ],
      "metadata": {
        "id": "dJAvGiFXUEdx"
      },
      "execution_count": null,
      "outputs": []
    },
    {
      "cell_type": "code",
      "source": [
        "import pandas as pd"
      ],
      "metadata": {
        "id": "EEUjmzyYUNJH"
      },
      "execution_count": null,
      "outputs": []
    },
    {
      "cell_type": "markdown",
      "source": [
        "## Data Structures in Pandas\n",
        "\n",
        "- Pandas `Series` is 1-dimensional array with axis labels\n",
        "- Panads `DataFrame` is 2-dimensional data structure with labeled rows and columns. (more than one series forms a dataframe)"
      ],
      "metadata": {
        "id": "fsMRQyfCe5Uo"
      }
    },
    {
      "cell_type": "code",
      "source": [
        "# Load/Read data from a CSV file\n",
        "# read_*** can be of anything from sql, xml, pickle, json or csv etcc\n",
        "df = pd.read_csv('https://gist.githubusercontent.com/curran/a08a1080b88344b0c8a7/raw/0e7a9b0a5d22642a06d3d5b9bcbad9890c8ee534/iris.csv')"
      ],
      "metadata": {
        "id": "OZgRoEzjUyMc"
      },
      "execution_count": null,
      "outputs": []
    },
    {
      "cell_type": "code",
      "source": [
        "# Show the first 5 rows by default\n",
        "df.head()"
      ],
      "metadata": {
        "id": "SXmJzCpRbsl-"
      },
      "execution_count": null,
      "outputs": []
    },
    {
      "cell_type": "code",
      "source": [
        "# Show the first 10 rows\n",
        "df.head(10)"
      ],
      "metadata": {
        "id": "gxi9M1YTcKyI"
      },
      "execution_count": null,
      "outputs": []
    },
    {
      "cell_type": "code",
      "source": [
        "# Show the last 5 rows by default\n",
        "df.tail()"
      ],
      "metadata": {
        "id": "pBdgsCPNcQUV"
      },
      "execution_count": null,
      "outputs": []
    },
    {
      "cell_type": "code",
      "source": [
        "# To use local files, download the csv from internet\n",
        "# this is not pandas, basic linux command to download csv\n",
        "! wget https://gist.githubusercontent.com/curran/a08a1080b88344b0c8a7/raw/0e7a9b0a5d22642a06d3d5b9bcbad9890c8ee534/iris.csv"
      ],
      "metadata": {
        "id": "gtdarI4JdAHS"
      },
      "execution_count": null,
      "outputs": []
    },
    {
      "cell_type": "code",
      "source": [
        "# Load CSV files from local database\n",
        "df = pd.read_csv('./iris.csv')\n",
        "df.head()"
      ],
      "metadata": {
        "id": "0TnZV7YGdNSE"
      },
      "execution_count": null,
      "outputs": []
    },
    {
      "cell_type": "markdown",
      "source": [
        "## Pandas exploratory methods\n",
        "\n",
        "1. `info()`\n",
        "2. `describe()`"
      ],
      "metadata": {
        "id": "VYwCxXJpdtcH"
      }
    },
    {
      "cell_type": "code",
      "source": [
        "df.info()"
      ],
      "metadata": {
        "id": "n9KfF765d6q-"
      },
      "execution_count": null,
      "outputs": []
    },
    {
      "cell_type": "code",
      "source": [
        "df.describe()"
      ],
      "metadata": {
        "id": "Y3W6llQXflSa"
      },
      "execution_count": null,
      "outputs": []
    },
    {
      "cell_type": "markdown",
      "source": [
        "## Filtering a Data Frame - Why do we need filtering?\n",
        "\n",
        "- When we need to remove redundant or unnecessary data for some tasks.\n",
        "- When we need to find customers eligible for a promotion\n",
        "- When we need to filter out rows or columns have missing values.\n",
        "- When we want to fileter customers baed on the amount spent.\n",
        "\n",
        "### Filtering a Data Frame\n",
        "- Filtering with `loc` and `iloc` methods\n",
        "- Filtering by selecting a subset of columns\n",
        "- Filtering by conditions(s)\n",
        "\n",
        "\n",
        "#### Filtering a Data Frame - `loc` and `iloc` methods\n",
        "- `loc` uses row and column lables.\n",
        "- `iloc` uses row and column indexes."
      ],
      "metadata": {
        "id": "WV4u0CMl4SU3"
      }
    },
    {
      "cell_type": "code",
      "source": [
        "# Lets select a Series\n",
        "df[\"species\"]"
      ],
      "metadata": {
        "id": "cwWdNI_Wa3VQ"
      },
      "execution_count": null,
      "outputs": []
    },
    {
      "cell_type": "code",
      "source": [
        "# Lets apply first very simple filter\n",
        "df[\"species\"] == 'versicolor'\n",
        "(df[\"species\"] == 'versicolor') & (df[\"petal_length\"] >= 5.0)"
      ],
      "metadata": {
        "id": "7tzR98ZTbqzx"
      },
      "execution_count": null,
      "outputs": []
    },
    {
      "cell_type": "code",
      "source": [
        "# Lets apply first very simple filter\n",
        "# df[df[\"species\"] == 'versicolor']\n",
        "df[(df[\"species\"] == 'versicolor') & (df[\"petal_length\"] >= 5.0)]"
      ],
      "metadata": {
        "id": "qbzBszvraYeu"
      },
      "execution_count": null,
      "outputs": []
    },
    {
      "cell_type": "markdown",
      "source": [
        "## Handling missing values in Pandas\n"
      ],
      "metadata": {
        "id": "JzyHFcxBdsc5"
      }
    },
    {
      "cell_type": "code",
      "source": [
        "# For a series, you can fill null values with\n",
        "df['petal_width'] = df['petal_width'].fillna(1.2)"
      ],
      "metadata": {
        "id": "tEgGx8pzd-J6"
      },
      "execution_count": null,
      "outputs": []
    },
    {
      "cell_type": "code",
      "source": [
        "df = df.fillna(1.2)\n",
        "df.head()"
      ],
      "metadata": {
        "id": "zuEkpGGEmN6x"
      },
      "execution_count": null,
      "outputs": []
    },
    {
      "cell_type": "code",
      "source": [
        "df[~df.isna()]"
      ],
      "metadata": {
        "id": "ZLBbzsa2mqky"
      },
      "execution_count": null,
      "outputs": []
    },
    {
      "cell_type": "code",
      "source": [
        "df.dropna()"
      ],
      "metadata": {
        "id": "b8lbd4t_nmGH"
      },
      "execution_count": null,
      "outputs": []
    },
    {
      "cell_type": "markdown",
      "source": [
        "## Sorthing and others\n"
      ],
      "metadata": {
        "id": "LFoDnZC8n8HN"
      }
    },
    {
      "cell_type": "code",
      "source": [
        "df.sort_values('sepal_width', ascending=False)"
      ],
      "metadata": {
        "id": "ohy7Dt8boLh9"
      },
      "execution_count": null,
      "outputs": []
    },
    {
      "cell_type": "code",
      "source": [
        "# Create a new column\n",
        "# How to replace the value\n",
        "# How to drop the column\n",
        "# Show apply -> mostly not used because it lets you create a custom function"
      ],
      "metadata": {
        "id": "B0DUKKceoghW"
      },
      "execution_count": null,
      "outputs": []
    },
    {
      "cell_type": "code",
      "source": [
        "df['big_flower'] = (df['sepal_length'] > 5) & (df['petal_length'] > 3)"
      ],
      "metadata": {
        "id": "LDILSn-4opma"
      },
      "execution_count": null,
      "outputs": []
    },
    {
      "cell_type": "code",
      "source": [
        "df['big_flower'].value_counts()"
      ],
      "metadata": {
        "id": "9hukBgvlpN4r"
      },
      "execution_count": null,
      "outputs": []
    },
    {
      "cell_type": "code",
      "source": [
        "df.replace('setosa', 'setosa-flower', inplace=True)"
      ],
      "metadata": {
        "id": "VYbhe7yGpTan"
      },
      "execution_count": null,
      "outputs": []
    },
    {
      "cell_type": "code",
      "source": [
        "df.head()"
      ],
      "metadata": {
        "id": "xJ3cE16cpTTa"
      },
      "execution_count": null,
      "outputs": []
    },
    {
      "cell_type": "code",
      "source": [
        "df.replace('setosa-flower', 'setosa', inplace=True)"
      ],
      "metadata": {
        "id": "56ZISBslpr1n"
      },
      "execution_count": null,
      "outputs": []
    },
    {
      "cell_type": "code",
      "source": [
        "def big_flower_str(x):\n",
        "  if x is False:\n",
        "    return \"Small Flower\"\n",
        "  else:\n",
        "    return \"Big Flower\""
      ],
      "metadata": {
        "id": "QXUMvm7JpzKc"
      },
      "execution_count": null,
      "outputs": []
    },
    {
      "cell_type": "code",
      "source": [
        "df['size_of_flower'] = df['big_flower'].apply(big_flower_str)\n",
        "df.head()"
      ],
      "metadata": {
        "id": "HJb9LIqKqB52"
      },
      "execution_count": null,
      "outputs": []
    },
    {
      "cell_type": "code",
      "source": [
        "df['size_of_flower'].value_counts()"
      ],
      "metadata": {
        "id": "XTSiM8BJqWgm"
      },
      "execution_count": null,
      "outputs": []
    },
    {
      "cell_type": "code",
      "source": [
        "# axis 0 stands for column\n",
        "# axis is N stands for rows.\n",
        "df.drop('big_flower', axis=1, inplace=True)"
      ],
      "metadata": {
        "id": "cmbmNSWEqjpC"
      },
      "execution_count": null,
      "outputs": []
    },
    {
      "cell_type": "markdown",
      "source": [
        "## Data Analysis with Pandas\n",
        "\n",
        "- Data Analysis: The process of referring insights"
      ],
      "metadata": {
        "id": "eBfCZ2D4LBct"
      }
    },
    {
      "cell_type": "code",
      "source": [
        "# Lets start with a question\n",
        "\n",
        "# Each of the species of the flower is a little bit different from each other\n",
        "# and I need a way to get metrics for each of the species differently\n",
        "\n",
        "# Performed level 2 analysis with one line\n",
        "\n",
        "# Mean - Average of a column\n",
        "# Median - the middle of an ascending data\n",
        "\n",
        "df.groupby('species').agg({\n",
        "    'sepal_length': 'mean',\n",
        "    'sepal_width': 'mean',\n",
        "    'petal_length': 'median',\n",
        "    'petal_width': 'median',\n",
        "}).reset_index()"
      ],
      "metadata": {
        "id": "ika9IpCILKqn"
      },
      "execution_count": null,
      "outputs": []
    },
    {
      "cell_type": "code",
      "source": [
        "df.groupby(['species', 'size_of_flower']).agg({\n",
        "    'sepal_length': ['mean', 'median', 'count'],\n",
        "    'sepal_width': 'mean',\n",
        "    'petal_length': 'median',\n",
        "    'petal_width': 'median',\n",
        "})"
      ],
      "metadata": {
        "id": "xYz-hDerMtiW"
      },
      "execution_count": null,
      "outputs": []
    },
    {
      "cell_type": "code",
      "source": [
        "# Syntax for concat and merge\n",
        "\n",
        "# pd.concat(df1, df2, axis=0)\n",
        "\n",
        "# pd.merge(df1, df2, on='join_column', how='inner')\n"
      ],
      "metadata": {
        "id": "tX4GvosQRRyI"
      },
      "execution_count": null,
      "outputs": []
    }
  ]
}