{
 "cells": [
  {
   "cell_type": "markdown",
   "metadata": {},
   "source": [
    "# How to setup python environemnt\n",
    "\n",
    "- Package - Python code bundled together for distribution and installation\n",
    "- Module - Python code saved to a file for reuse\n",
    "- venv - create a virtual environment\n",
    "- activate - activate/enter the virtual environment\n",
    "- pip install - install packages into the active virtual environment\n",
    "- pip list - list packages installed in the current environment\n",
    "- pip freeze - output installed packages to a requirements file\n",
    "- deactivate - exit the active virtual environment"
   ]
  },
  {
   "cell_type": "code",
   "execution_count": null,
   "metadata": {
    "vscode": {
     "languageId": "plaintext"
    }
   },
   "outputs": [],
   "source": [
    "# Create virtual environment \n",
    "python3 -m venv my_env\n",
    "\n",
    "# Activate virtual environment\n",
    "source my_env/bin/activate \n",
    "\n",
    "# Install packages to virtual environment\n",
    "pip install pandas\n",
    "\n",
    "# List packages installed in environment\n",
    "pip list \n",
    "\n",
    "# Save installed packages to requirements file\n",
    "pip freeze > requirements.txt\n",
    "\n",
    "# Deactivate virtual environment \n",
    "deactivate"
   ]
  },
  {
   "cell_type": "markdown",
   "metadata": {},
   "source": [
    "## Using PIP\n",
    "\n",
    "1. Type:  \n",
    "`source setup-env.sh`  \n",
    "To set up an empty environment.  \n",
    "\n",
    "2. Type:  \n",
    "`pip help`  \n",
    "To see the documentation for pip.  \n",
    "\n",
    "3. Type:  \n",
    "`pip help install`  \n",
    "To see the help for the pip install command.  \n",
    "\n",
    "4. Install the requests package:  \n",
    "`pip install requests`\n",
    "\n",
    "5. See the packages installed in your environment:  \n",
    "`pip list`\n",
    "\n",
    "6. To see the available versions of the requests package:  \n",
    "`pip install requests`  \n",
    "Note: this will give an error message, but in that message all the available versions are displayed.\n",
    "\n",
    "7. Choose an earlier version of requests and install that version:  \n",
    "`pip install requests==2.25.1`\n",
    "\n",
    "8. Check the installed version:  \n",
    "`pip list`\n",
    "\n",
    "9. Upgrade to the latest version:  \n",
    "`pip install requests --upgrade`\n",
    "\n",
    "10. Check the installed version:  \n",
    "`pip list`"
   ]
  }
 ],
 "metadata": {
  "language_info": {
   "name": "python"
  }
 },
 "nbformat": 4,
 "nbformat_minor": 2
}
