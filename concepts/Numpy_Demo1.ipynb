{
 "cells": [
  {
   "cell_type": "markdown",
   "metadata": {},
   "source": [
    "# Numpy - ndarray\n",
    "\n",
    "- At the core of Numpy package, is the ndarray object\n",
    "- This encapsulates n-dimensional array of homogeneous data types (data types of (only one type) all are same, only int or str)\n",
    "\n",
    "### What is the difference between lists vs ndarray?\n",
    "- Fixed size at creation unlike lists (which can grow dynamically)\n",
    "- Numpy elements are of same data type, thus same size of memory\n",
    "- Numpy facilitates advanced matematical and other types of operations on large numbers of data\n",
    "\n",
    "### Why is Numpy fast?\n",
    "- 2 reasons (1. Vectorization & 2. Broadcasting)\n",
    "- Vectorization - absence of any explicit looping, indexing etc, in the code.\n",
    "                - These things are \"behind the scene\" in optimized precompiled C code\n",
    "- Broadcasting - describes the implicit element-by-element behaviour of operations.\n",
    "              - all operations, not just arithmetic operations, behave in this implicit element-by-element fashion, i.e., they broadcast\n",
    "\n",
    "\n",
    "### Important attributes of ndarray\n",
    "- ndarray.ndim => Number of axes (dimensions) in the array\n",
    "- ndarray.shape => tuple of all dimension as shape, example matrix it returns tuple of (mxn) m rows, n columns\n",
    "- ndarray.size => total number of elements in the ndarray\n",
    "- ndarray.dtype => data type stored in ndarray\n",
    "\n",
    "### Reshaping array\n",
    "- Using arr.reshape() => gives new shape to array without changing the data and size. \n",
    "    before and after same array elements with different shape.\n",
    "\n",
    "### Indexing & Slicing\n",
    "- Same indexing and slicing as python, examples are below\n",
    "    data = np.array[1, 2, 3]\n",
    "    data[1] => 2\n",
    "    data[0:2] => [1, 2]\n",
    "    data [1:] => [2, 3]\n",
    "    data[-2:] =>[2, 3]"
   ]
  },
  {
   "cell_type": "code",
   "execution_count": null,
   "metadata": {},
   "outputs": [],
   "source": [
    "import numpy as np"
   ]
  },
  {
   "cell_type": "code",
   "execution_count": null,
   "metadata": {},
   "outputs": [],
   "source": [
    "# How to create our one dimensional array\n",
    "arr1 = np.array([1, 2, 3, 4, 5])\n",
    "print(arr1)\n",
    "\n",
    "# Properties associated with numpy ndarray\n",
    "print(f\"Shape: {arr1.shape}\")\n",
    "print(f\"NDim: {arr1.ndim}\")\n",
    "print(f\"Size: {arr1.size}\")\n",
    "print(f\"Type: {arr1.dtype}\")\n",
    "print(f\"Data: {arr1.itemsize}\")"
   ]
  },
  {
   "cell_type": "code",
   "execution_count": null,
   "metadata": {},
   "outputs": [],
   "source": [
    "# How to create our two dimensional array\n",
    "arr2 = np.array([[1, 2, 3, 4, 5], [11, 22, 33, 44, 55]])\n",
    "print(arr2)\n",
    "\n",
    "# Properties associated with numpy ndarray\n",
    "print(f\"Shape: {arr2.shape}\")\n",
    "print(f\"NDim: {arr2.ndim}\")\n",
    "print(f\"Size: {arr2.size}\")\n",
    "print(f\"Type: {arr2.dtype}\")\n",
    "print(f\"Data: {arr2.itemsize}\")"
   ]
  },
  {
   "cell_type": "code",
   "execution_count": null,
   "metadata": {},
   "outputs": [],
   "source": [
    "# Reshaping the array\n",
    "\n",
    "# Create 3 dimensional array\n",
    "arr3 = np.array([[1, 2, 3, 4, 5], [11, 22, 33, 44, 55], [111, 222, 333, 444, 555]])\n",
    "print(arr3)\n",
    "print(f\"arr3 shape {arr3.shape}\")\n",
    "\n",
    "print(f\"-----------------------------------\") # Divder\n",
    "\n",
    "# Reshape the array\n",
    "r_arr3 = arr3.reshape(5, 3)\n",
    "print(r_arr3)\n",
    "\n",
    "print(f\"-----------------------------------\") # Divder\n",
    "\n",
    "# Supposed to get an error while doing reshape of not equivalent size\n",
    "try:\n",
    "    r_arr3 = arr3.reshape(5, 2)\n",
    "    print(r_arr3)\n",
    "except Exception as ex:\n",
    "    print(f\"{type(ex).__name__} : {ex} : {ex.args}\")\n",
    "\n",
    "print(f\"-----------------------------------\") # Divder\n",
    "\n",
    "r_arr3 = arr3.reshape(15, 1)\n",
    "print(r_arr3)"
   ]
  },
  {
   "cell_type": "code",
   "execution_count": null,
   "metadata": {},
   "outputs": [],
   "source": [
    "# indexing and slicing numpy arryas\n",
    "## Numpy indexing and slicing is the same as python lists\n",
    "\n",
    "data = np.array([1, 2, 3, 4, 5])\n",
    "data\n"
   ]
  },
  {
   "cell_type": "code",
   "execution_count": null,
   "metadata": {},
   "outputs": [],
   "source": [
    "data[0]"
   ]
  },
  {
   "cell_type": "code",
   "execution_count": null,
   "metadata": {},
   "outputs": [],
   "source": [
    "data[0:2]"
   ]
  },
  {
   "cell_type": "code",
   "execution_count": null,
   "metadata": {},
   "outputs": [],
   "source": [
    "data[-2:]"
   ]
  },
  {
   "cell_type": "code",
   "execution_count": null,
   "metadata": {},
   "outputs": [],
   "source": [
    "# Methods to create an fast array\n",
    "\n",
    "np.zeros(10, dtype=np.int32)"
   ]
  },
  {
   "cell_type": "code",
   "execution_count": null,
   "metadata": {},
   "outputs": [],
   "source": [
    "np.ones(10, dtype=np.int32)"
   ]
  },
  {
   "cell_type": "code",
   "execution_count": null,
   "metadata": {},
   "outputs": [],
   "source": [
    "# Create an array with starting value 2 and ending value 50 with the step count as 3\n",
    "np.arange(2, 50, 3)"
   ]
  },
  {
   "cell_type": "code",
   "execution_count": null,
   "metadata": {},
   "outputs": [],
   "source": [
    "# starting, end value and how many values between the starting and ending\n",
    "np.linspace(0, 10, num=5)"
   ]
  },
  {
   "cell_type": "code",
   "execution_count": null,
   "metadata": {},
   "outputs": [],
   "source": [
    "# Sorting an array in numpy array\n",
    "arr4 = np.array([12,8, 15, 20, 3, 1, 4, 5, 6, 9, 11])\n",
    "np.sort(arr4)\n"
   ]
  },
  {
   "cell_type": "code",
   "execution_count": null,
   "metadata": {},
   "outputs": [],
   "source": [
    "# Arrays can be concatenated\n",
    "\n",
    "x = np.array([[1,2], [3,4]])\n",
    "y = np.array([[5, 8], [7,9]])\n",
    "\n",
    "print(x)\n",
    "print(\"------------\")\n",
    "print(y)\n",
    "print(\"------------\")\n",
    "print(np.concatenate((x, y), axis=0))"
   ]
  },
  {
   "cell_type": "code",
   "execution_count": null,
   "metadata": {},
   "outputs": [],
   "source": [
    "# Basic array operations\n",
    "\n",
    "arr1 = np.array([1, 2])\n",
    "arr2 = np.ones(2, dtype=np.int32)\n",
    "\n",
    "print(arr1 + arr2)\n",
    "print(arr1 - arr2)\n",
    "print(arr1 * arr2)"
   ]
  },
  {
   "cell_type": "code",
   "execution_count": null,
   "metadata": {},
   "outputs": [],
   "source": [
    "# Summation of values in an array\n",
    "arr = np.arange(2, 20, 2)\n",
    "print(arr)\n",
    "print(f\"sum: {arr.sum()}\")\n",
    "print(f\"min: {arr.min()}\")\n",
    "print(f\"max: {arr.max()}\")\n",
    "print(f\"mean: {arr.mean()}\")\n"
   ]
  },
  {
   "cell_type": "code",
   "execution_count": null,
   "metadata": {},
   "outputs": [],
   "source": [
    "# Broadcasting\n",
    "arr = np.arange(2, 20, 2)\n",
    "print(f\"broadcast multiplication {arr * 3.14}\")"
   ]
  },
  {
   "cell_type": "code",
   "execution_count": null,
   "metadata": {},
   "outputs": [],
   "source": [
    "# Filtering in numpy arrays\n",
    "\n",
    "arr = np.array([10, 12, 8, 5, 1, 7,22, 40, 6, 9, 89, 70])\n",
    "print(arr > 20)\n",
    "print(arr[arr > 20])\n",
    "print(arr[arr <= 9])\n",
    "print(arr[(arr >=10) & (arr <= 30)])\n"
   ]
  },
  {
   "cell_type": "code",
   "execution_count": null,
   "metadata": {},
   "outputs": [],
   "source": [
    "# How to save and load numpy objects\n",
    "arr = np.array([10, 12, 8, 5, 1, 7,22, 40, 6, 9, 89, 70])\n",
    "\n",
    "print(arr)\n",
    "\n",
    "np.save(\"random_array_2_save\", arr)"
   ]
  },
  {
   "cell_type": "code",
   "execution_count": null,
   "metadata": {},
   "outputs": [],
   "source": [
    "! ls"
   ]
  },
  {
   "cell_type": "code",
   "execution_count": null,
   "metadata": {},
   "outputs": [],
   "source": [
    "# Save numpy as numpy object\n",
    "arr_load = np.load(\"random_array_2_save.npy\")\n",
    "print(arr_load)"
   ]
  },
  {
   "cell_type": "code",
   "execution_count": null,
   "metadata": {},
   "outputs": [],
   "source": [
    "# Save file as csv\n",
    "arr = np.array([10, 12, 8, 5, 1, 7,22, 40, 6, 9, 89, 70])\n",
    "print(arr)\n",
    "np.savetxt(\"random_array_2_save_as_csv\", arr)"
   ]
  },
  {
   "cell_type": "code",
   "execution_count": null,
   "metadata": {},
   "outputs": [],
   "source": [
    "! cat random_array_2_save_as_csv\n"
   ]
  },
  {
   "cell_type": "code",
   "execution_count": null,
   "metadata": {},
   "outputs": [],
   "source": [
    "arr_load = np.loadtxt(\"random_array_2_save_as_csv\")\n",
    "print(arr_load)"
   ]
  }
 ],
 "metadata": {
  "kernelspec": {
   "display_name": ".venv",
   "language": "python",
   "name": "python3"
  },
  "language_info": {
   "codemirror_mode": {
    "name": "ipython",
    "version": 3
   },
   "file_extension": ".py",
   "mimetype": "text/x-python",
   "name": "python",
   "nbconvert_exporter": "python",
   "pygments_lexer": "ipython3",
   "version": "3.12.3"
  }
 },
 "nbformat": 4,
 "nbformat_minor": 2
}
