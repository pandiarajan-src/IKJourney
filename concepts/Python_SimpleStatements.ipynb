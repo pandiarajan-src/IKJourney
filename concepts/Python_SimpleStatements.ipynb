{
 "cells": [
  {
   "cell_type": "markdown",
   "metadata": {},
   "source": [
    "# Simple Statements\n",
    "\n",
    "- `import`: Brings a module into the program's running memory so its contents can be accessed\n",
    "- variable: A name that points to a piece of data\n",
    "- assignment: Assigns a value to a variable\n",
    "- expression: A piece of code that evaluates to a value\n",
    "- exception: An error that stops execution of a program\n",
    "\n",
    "## Simple Statements\n",
    "\n",
    "- Expression Statements\n",
    "- Assert Statements\n",
    "- Assigment statements\n",
    "- Pass Statement\n",
    "- Del Statement\n",
    "- Return Statement\n",
    "- Yield statement\n",
    "- Raise Statement\n",
    "- Break Statement\n",
    "- Continue Statement\n",
    "- import Statement\n",
    "- Future Statement\n",
    "- Global Statement\n",
    "- Nonlocal Statements\n",
    "\n",
    "## Compond Statements\n",
    "\n",
    "- if Statement\n",
    "- While Statement\n",
    "- For Statement\n",
    "- Try Statement\n",
    "- With Statement\n",
    "- Match Statement\n",
    "- Function Definitions\n",
    "- Class Definitions\n",
    "- Coroutines\n"
   ]
  }
 ],
 "metadata": {
  "language_info": {
   "name": "python"
  }
 },
 "nbformat": 4,
 "nbformat_minor": 2
}
