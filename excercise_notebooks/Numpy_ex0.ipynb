{
 "cells": [
  {
   "cell_type": "code",
   "execution_count": null,
   "metadata": {},
   "outputs": [],
   "source": [
    "# Write a Python program using NumPy \n",
    "# to create a 5x5 matrix filled with random integers between 1 and 100. \n",
    "# Calculate the mean and standard deviation of the matrix and print them.\n",
    "\n",
    "import numpy as np\n",
    "\n",
    "arr = np.arange(1, 100, 4).reshape(5,5)\n",
    "print(f\"5x5 array of numbers between 1 to 100 {arr}\")\n",
    "print(f\"mean of array: {np.mean(arr):.2f}\")\n",
    "print(f\"standard deviation of array: {np.std(arr):.2f}\")"
   ]
  },
  {
   "cell_type": "code",
   "execution_count": null,
   "metadata": {},
   "outputs": [],
   "source": [
    "# Using NumPy, create a 5x5 identity matrix \n",
    "# and add a scalar value of 5 to it. \n",
    "# Multiply the resulting matrix with a 5x1 column vector filled with random integers between 1 and 10. \n",
    "# Print the resulting vector.\n",
    "\n",
    "import numpy as np\n",
    "arr = np.identity(5) + 5\n",
    "# arr = np.eye(5).reshape(5,5)\n",
    "vec = np.random.randint(1, 10, size=(5,1))\n",
    "result = np.matmul(arr,vec)\n",
    "print(result)\n",
    "\n"
   ]
  },
  {
   "cell_type": "code",
   "execution_count": null,
   "metadata": {},
   "outputs": [],
   "source": [
    "# Write a Python program using NumPy to create two 3x3 matrices filled with random integers between 1 and 100. \n",
    "# Compute their element-wise multiplication, and print the resulting matrix.\n",
    "\n",
    "import numpy as np\n",
    "arr = np.random.randint(1, 100, size=(3, 3))\n",
    "arr1 = np.random.randint(1, 100, size=(3,3))\n",
    "result = arr @ arr1\n",
    "print(result)"
   ]
  },
  {
   "cell_type": "code",
   "execution_count": null,
   "metadata": {},
   "outputs": [],
   "source": [
    "# Using NumPy, \n",
    "# create a 1000-element array of random integers between 1 and 1000. \n",
    "# Calculate the cumulative sum of the array and \n",
    "# print the 10th, 100th, and 500th elements of the cumulative sum array.\n",
    "\n",
    "import numpy as np\n",
    "arr = np.arange(1, 1000, 1)\n",
    "\n",
    "cum_sum = np.cumsum(arr)\n",
    "# np.info(arr)\n",
    "# np.info(cum_sum)\n",
    "\n",
    "print(f\"original array: {arr}\")\n",
    "print(f\"cumulative sum: {cum_sum}\")\n",
    "print(f\"10th: {cum_sum[9]}, 100th: {cum_sum[99]}, 500th: {cum_sum[499]}, 1000th: {cum_sum[998]}\")"
   ]
  },
  {
   "cell_type": "code",
   "execution_count": null,
   "metadata": {},
   "outputs": [],
   "source": [
    "# Write a Python program using NumPy to create a 10x10 matrix filled with random integers between 1 and 100. \n",
    "# Find the minimum and maximum values of the matrix along with their indices.\n",
    "\n",
    "import numpy as np\n",
    "\n",
    "arr = np.random.randint(1, 100, size=(10, 10))\n",
    "print(arr)\n",
    "print(f\"min value in array: {np.min(arr)}, location of min: {np.where(arr==np.min(arr))}\")\n",
    "print(f\"max value in array: {np.max(arr)}, location of max: {np.where(arr==np.max(arr))}\")"
   ]
  },
  {
   "cell_type": "code",
   "execution_count": null,
   "metadata": {},
   "outputs": [],
   "source": [
    "# Write a Python program using NumPy to create a 5x5 matrix filled with random floats between 0 and 1. \n",
    "# Replace the maximum value in the matrix with 0 and print the original and modified matrices.\n",
    "\n",
    "import numpy as np\n",
    "\n",
    "arr = np.random.rand(5, 5)\n",
    "print(arr)\n",
    "print(f\"maximum value: {np.max(arr)}\")\n",
    "\n",
    "condition = np.where(arr == np.max(arr))\n",
    "arr[condition] = 0\n",
    "\n",
    "print(arr)\n",
    "\n",
    "\n",
    "\n"
   ]
  },
  {
   "cell_type": "code",
   "execution_count": null,
   "metadata": {},
   "outputs": [],
   "source": [
    "# Given the following NumPy code, predict the output of the code:\n",
    "\n",
    "import numpy as np\n",
    "\n",
    "A = np.array([[1, 2, 3], [4, 5, 6], [7, 8, 9]])\n",
    "B = A[1:3, 0:2]\n",
    "\n",
    "B[0, 0] = 100\n",
    "print(A)"
   ]
  },
  {
   "cell_type": "code",
   "execution_count": null,
   "metadata": {},
   "outputs": [],
   "source": [
    "# Write a Python program using NumPy to create a 1D array of 20 elements with random integers between 1 and 100. \n",
    "# Calculate the number of even and odd elements in the array and print the result.\n",
    "\n",
    "import numpy as np\n",
    "\n",
    "arr = np.random.randint(1, 100, size=(1, 20))\n",
    "print(arr)\n",
    "\n",
    "even_count = np.sum( arr % 2 == 0 )\n",
    "odd_count = np.sum( arr % 2 != 0)\n",
    "\n",
    "print(f\"Number of even elements: {even_count}\")\n",
    "print(f\"Number of odd elements: {odd_count}\")\n"
   ]
  },
  {
   "cell_type": "code",
   "execution_count": null,
   "metadata": {},
   "outputs": [],
   "source": [
    "import numpy as np\n",
    "\n",
    "A = np.arange(1, 17).reshape(4, 4)\n",
    "B = A[:, ::-1]\n",
    "print(A)\n",
    "print(B)"
   ]
  },
  {
   "cell_type": "code",
   "execution_count": null,
   "metadata": {},
   "outputs": [],
   "source": [
    "# Print a matrix of 8x8 where its all corners will be printed as 1\n",
    "import numpy as np\n",
    "\n",
    "arr = np.zeros((8, 8), dtype=np.int32)\n",
    "arr[0,:] = 1\n",
    "arr[-1,:] = 1\n",
    "arr[:,0] = 1\n",
    "arr[:,-1] = 1\n",
    "print(arr)"
   ]
  }
 ],
 "metadata": {
  "kernelspec": {
   "display_name": ".venv",
   "language": "python",
   "name": "python3"
  },
  "language_info": {
   "codemirror_mode": {
    "name": "ipython",
    "version": 3
   },
   "file_extension": ".py",
   "mimetype": "text/x-python",
   "name": "python",
   "nbconvert_exporter": "python",
   "pygments_lexer": "ipython3",
   "version": "3.12.3"
  }
 },
 "nbformat": 4,
 "nbformat_minor": 2
}
