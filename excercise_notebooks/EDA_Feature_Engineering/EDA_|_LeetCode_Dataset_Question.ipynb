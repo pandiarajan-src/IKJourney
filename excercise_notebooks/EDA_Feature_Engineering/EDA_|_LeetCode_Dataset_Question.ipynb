{
  "cells": [
    {
      "cell_type": "markdown",
      "metadata": {
        "id": "iUJx8XmgUi2t"
      },
      "source": [
        "# Exploratory Data Analysis - Leetcode questions dataset"
      ]
    },
    {
      "cell_type": "markdown",
      "metadata": {
        "id": "c59oAsR5UvVT"
      },
      "source": [
        "## LeetCode DataSet\n",
        "It contains the following info:\n",
        "\n",
        "1. **id**: problem id \n",
        "2. **title**: problem name\n",
        "3. **description**: problem description\n",
        "4. **is_premium**: whether the questions requires a premium account\n",
        "5. **difficulty**: easy, medium, or hard\n",
        "6. **solution_link**: how often the answer submitted is correct\n",
        "7. **acceptance_rate**: how often the answer submitted is correct\n",
        "8. **frequency**: how often the problem is attempted\n",
        "9. **url**: url to the problem\n",
        "10. **discuss_count**: how many comments are submitted by users\n",
        "11. **accepted**: how many times the answer was accepted\n",
        "12. **submissions**: how many times the answer was submitted\n",
        "13. **companies**: which companies were tagged as having asked this specific problem\n",
        "14. **related_topics**: related topics to the current problem\n",
        "15. **likes**: how many likes the problem got\n",
        "16. **dislikes**: how many dislikes the problem got\n",
        "17. **rating**: likes / (likes + dislikes)\n",
        "18. **asked_by_faang**: whether or not the question was asked by facebook, apple, amazon, google, or netflix\n",
        "19. **similar_questions**: similar problems with problem name, slug, and difficulty"
      ]
    },
    {
      "cell_type": "markdown",
      "metadata": {
        "id": "Qo2pP4EpVEvo"
      },
      "source": [
        "### Question 1\n",
        "#### How to load the dataset? See what is in there? How does the Shape of the dataset looks?"
      ]
    },
    {
      "cell_type": "code",
      "execution_count": 1,
      "metadata": {
        "id": "4ixw2A5HUkXr"
      },
      "outputs": [
        {
          "name": "stdout",
          "output_type": "stream",
          "text": [
            "Shape of the data: (1825, 19)\n"
          ]
        },
        {
          "data": {
            "text/html": [
              "<div>\n",
              "<style scoped>\n",
              "    .dataframe tbody tr th:only-of-type {\n",
              "        vertical-align: middle;\n",
              "    }\n",
              "\n",
              "    .dataframe tbody tr th {\n",
              "        vertical-align: top;\n",
              "    }\n",
              "\n",
              "    .dataframe thead th {\n",
              "        text-align: right;\n",
              "    }\n",
              "</style>\n",
              "<table border=\"1\" class=\"dataframe\">\n",
              "  <thead>\n",
              "    <tr style=\"text-align: right;\">\n",
              "      <th></th>\n",
              "      <th>id</th>\n",
              "      <th>title</th>\n",
              "      <th>description</th>\n",
              "      <th>is_premium</th>\n",
              "      <th>difficulty</th>\n",
              "      <th>solution_link</th>\n",
              "      <th>acceptance_rate</th>\n",
              "      <th>frequency</th>\n",
              "      <th>url</th>\n",
              "      <th>discuss_count</th>\n",
              "      <th>accepted</th>\n",
              "      <th>submissions</th>\n",
              "      <th>companies</th>\n",
              "      <th>related_topics</th>\n",
              "      <th>likes</th>\n",
              "      <th>dislikes</th>\n",
              "      <th>rating</th>\n",
              "      <th>asked_by_faang</th>\n",
              "      <th>similar_questions</th>\n",
              "    </tr>\n",
              "  </thead>\n",
              "  <tbody>\n",
              "    <tr>\n",
              "      <th>0</th>\n",
              "      <td>1</td>\n",
              "      <td>Two Sum</td>\n",
              "      <td>Given an array of integers `nums` and an integ...</td>\n",
              "      <td>0</td>\n",
              "      <td>Easy</td>\n",
              "      <td>/articles/two-sum</td>\n",
              "      <td>46.7</td>\n",
              "      <td>100.0</td>\n",
              "      <td>https://leetcode.com/problems/two-sum</td>\n",
              "      <td>999</td>\n",
              "      <td>4.1M</td>\n",
              "      <td>8.7M</td>\n",
              "      <td>Amazon,Google,Apple,Adobe,Microsoft,Bloomberg,...</td>\n",
              "      <td>Array,Hash Table</td>\n",
              "      <td>20217</td>\n",
              "      <td>712</td>\n",
              "      <td>97</td>\n",
              "      <td>1</td>\n",
              "      <td>[3Sum, /problems/3sum/, Medium], [4Sum, /probl...</td>\n",
              "    </tr>\n",
              "    <tr>\n",
              "      <th>1</th>\n",
              "      <td>2</td>\n",
              "      <td>Add Two Numbers</td>\n",
              "      <td>You are given two non-empty linked lists repre...</td>\n",
              "      <td>0</td>\n",
              "      <td>Medium</td>\n",
              "      <td>/articles/add-two-numbers</td>\n",
              "      <td>35.7</td>\n",
              "      <td>93.1</td>\n",
              "      <td>https://leetcode.com/problems/add-two-numbers</td>\n",
              "      <td>999</td>\n",
              "      <td>1.9M</td>\n",
              "      <td>5.2M</td>\n",
              "      <td>Bloomberg,Microsoft,Amazon,Google,Facebook,App...</td>\n",
              "      <td>Linked List,Math,Recursion</td>\n",
              "      <td>11350</td>\n",
              "      <td>2704</td>\n",
              "      <td>81</td>\n",
              "      <td>1</td>\n",
              "      <td>[Multiply Strings, /problems/multiply-strings/...</td>\n",
              "    </tr>\n",
              "    <tr>\n",
              "      <th>2</th>\n",
              "      <td>3</td>\n",
              "      <td>Longest Substring Without Repeating Characters</td>\n",
              "      <td>Given a string `s`, find the length of the lon...</td>\n",
              "      <td>0</td>\n",
              "      <td>Medium</td>\n",
              "      <td>/articles/longest-substring-without-repeating-...</td>\n",
              "      <td>31.5</td>\n",
              "      <td>90.9</td>\n",
              "      <td>https://leetcode.com/problems/longest-substrin...</td>\n",
              "      <td>999</td>\n",
              "      <td>2.1M</td>\n",
              "      <td>6.7M</td>\n",
              "      <td>Amazon,Bloomberg,Microsoft,Facebook,Apple,Adob...</td>\n",
              "      <td>Hash Table,Two Pointers,String,Sliding Window</td>\n",
              "      <td>13810</td>\n",
              "      <td>714</td>\n",
              "      <td>95</td>\n",
              "      <td>1</td>\n",
              "      <td>[Longest Substring with At Most Two Distinct C...</td>\n",
              "    </tr>\n",
              "    <tr>\n",
              "      <th>3</th>\n",
              "      <td>4</td>\n",
              "      <td>Median of Two Sorted Arrays</td>\n",
              "      <td>Given two sorted arrays `nums1` and `nums2` of...</td>\n",
              "      <td>0</td>\n",
              "      <td>Hard</td>\n",
              "      <td>/articles/median-of-two-sorted-arrays</td>\n",
              "      <td>31.4</td>\n",
              "      <td>86.2</td>\n",
              "      <td>https://leetcode.com/problems/median-of-two-so...</td>\n",
              "      <td>999</td>\n",
              "      <td>904.7K</td>\n",
              "      <td>2.9M</td>\n",
              "      <td>Amazon,Goldman Sachs,Facebook,Microsoft,Apple,...</td>\n",
              "      <td>Array,Binary Search,Divide and Conquer</td>\n",
              "      <td>9665</td>\n",
              "      <td>1486</td>\n",
              "      <td>87</td>\n",
              "      <td>1</td>\n",
              "      <td>NaN</td>\n",
              "    </tr>\n",
              "    <tr>\n",
              "      <th>4</th>\n",
              "      <td>5</td>\n",
              "      <td>Longest Palindromic Substring</td>\n",
              "      <td>Given a string `s`, return the longest palindr...</td>\n",
              "      <td>0</td>\n",
              "      <td>Medium</td>\n",
              "      <td>/articles/longest-palindromic-substring</td>\n",
              "      <td>30.6</td>\n",
              "      <td>84.7</td>\n",
              "      <td>https://leetcode.com/problems/longest-palindro...</td>\n",
              "      <td>999</td>\n",
              "      <td>1.3M</td>\n",
              "      <td>4.1M</td>\n",
              "      <td>Amazon,Microsoft,Wayfair,Facebook,Adobe,eBay,G...</td>\n",
              "      <td>String,Dynamic Programming</td>\n",
              "      <td>10271</td>\n",
              "      <td>670</td>\n",
              "      <td>94</td>\n",
              "      <td>1</td>\n",
              "      <td>[Shortest Palindrome, /problems/shortest-palin...</td>\n",
              "    </tr>\n",
              "  </tbody>\n",
              "</table>\n",
              "</div>"
            ],
            "text/plain": [
              "   id                                           title  \\\n",
              "0   1                                         Two Sum   \n",
              "1   2                                 Add Two Numbers   \n",
              "2   3  Longest Substring Without Repeating Characters   \n",
              "3   4                     Median of Two Sorted Arrays   \n",
              "4   5                   Longest Palindromic Substring   \n",
              "\n",
              "                                         description  is_premium difficulty  \\\n",
              "0  Given an array of integers `nums` and an integ...           0       Easy   \n",
              "1  You are given two non-empty linked lists repre...           0     Medium   \n",
              "2  Given a string `s`, find the length of the lon...           0     Medium   \n",
              "3  Given two sorted arrays `nums1` and `nums2` of...           0       Hard   \n",
              "4  Given a string `s`, return the longest palindr...           0     Medium   \n",
              "\n",
              "                                       solution_link  acceptance_rate  \\\n",
              "0                                  /articles/two-sum             46.7   \n",
              "1                          /articles/add-two-numbers             35.7   \n",
              "2  /articles/longest-substring-without-repeating-...             31.5   \n",
              "3              /articles/median-of-two-sorted-arrays             31.4   \n",
              "4            /articles/longest-palindromic-substring             30.6   \n",
              "\n",
              "   frequency                                                url  \\\n",
              "0      100.0              https://leetcode.com/problems/two-sum   \n",
              "1       93.1      https://leetcode.com/problems/add-two-numbers   \n",
              "2       90.9  https://leetcode.com/problems/longest-substrin...   \n",
              "3       86.2  https://leetcode.com/problems/median-of-two-so...   \n",
              "4       84.7  https://leetcode.com/problems/longest-palindro...   \n",
              "\n",
              "   discuss_count accepted submissions  \\\n",
              "0            999     4.1M        8.7M   \n",
              "1            999     1.9M        5.2M   \n",
              "2            999     2.1M        6.7M   \n",
              "3            999   904.7K        2.9M   \n",
              "4            999     1.3M        4.1M   \n",
              "\n",
              "                                           companies  \\\n",
              "0  Amazon,Google,Apple,Adobe,Microsoft,Bloomberg,...   \n",
              "1  Bloomberg,Microsoft,Amazon,Google,Facebook,App...   \n",
              "2  Amazon,Bloomberg,Microsoft,Facebook,Apple,Adob...   \n",
              "3  Amazon,Goldman Sachs,Facebook,Microsoft,Apple,...   \n",
              "4  Amazon,Microsoft,Wayfair,Facebook,Adobe,eBay,G...   \n",
              "\n",
              "                                  related_topics  likes  dislikes  rating  \\\n",
              "0                               Array,Hash Table  20217       712      97   \n",
              "1                     Linked List,Math,Recursion  11350      2704      81   \n",
              "2  Hash Table,Two Pointers,String,Sliding Window  13810       714      95   \n",
              "3         Array,Binary Search,Divide and Conquer   9665      1486      87   \n",
              "4                     String,Dynamic Programming  10271       670      94   \n",
              "\n",
              "   asked_by_faang                                  similar_questions  \n",
              "0               1  [3Sum, /problems/3sum/, Medium], [4Sum, /probl...  \n",
              "1               1  [Multiply Strings, /problems/multiply-strings/...  \n",
              "2               1  [Longest Substring with At Most Two Distinct C...  \n",
              "3               1                                                NaN  \n",
              "4               1  [Shortest Palindrome, /problems/shortest-palin...  "
            ]
          },
          "execution_count": 1,
          "metadata": {},
          "output_type": "execute_result"
        }
      ],
      "source": [
        "# Import necessary libraries\n",
        "import pandas as pd\n",
        "import seaborn as sns\n",
        "\n",
        "# Set display options\n",
        "pd.set_option(\"display.max_columns\", None)\n",
        "pd.set_option(\"display.max_rows\", None)\n",
        "\n",
        "# load the dataset from github\n",
        "url = \"https://raw.githubusercontent.com/pandiarajan-src/IKJourney/main/datasets/leetcode_dataset.csv\"\n",
        "df = pd.read_csv(url)\n",
        "\n",
        "# Print the shape of the data and top five rows\n",
        "print(f\"Shape of the data: {df.shape}\")\n",
        "df.head()"
      ]
    },
    {
      "cell_type": "markdown",
      "metadata": {},
      "source": [
        "### Question 2\n",
        "#### Is there any columns (features) need a conversion? (unit coversion for uniqueness)"
      ]
    },
    {
      "cell_type": "code",
      "execution_count": 34,
      "metadata": {},
      "outputs": [
        {
          "name": "stdout",
          "output_type": "stream",
          "text": [
            "--------------------accepted--------------------\n",
            "Count 'accepted' of values that contain 'M': 18\n",
            "Count 'accepted' of values that contain 'K': 1794\n",
            "Count 'accepted' of values that don't contain either 'M' or 'K': 13\n",
            "--------------------submissions--------------------\n",
            "Count 'submissions' of values that contain 'M': 1703\n",
            "Count 'submissions' of values that contain 'K': 1703\n",
            "Count 'submissions' of values that don't contain either 'M' or 'K': 6\n"
          ]
        }
      ],
      "source": [
        "# Yes, Some columns of the dataset has 'M' or 'K' in their values, we need to replace those values with the correct number.\n",
        "# Example: 1M = 1000000, 1K = 1000\n",
        "# Lets change the columns 'accepted' and 'submissions' to numeric values into their thousands\n",
        "\n",
        "# As a first step find out, what are the different values in the columns such as 'M', 'K' etc...\n",
        "\n",
        "# Count values that contain 'M'\n",
        "m_count_accepted = df['accepted'].str.contains('M').sum()\n",
        "m_count_submissions = df['submissions'].str.contains('M').sum()\n",
        "\n",
        "# Count values that contain 'K'\n",
        "k_count_accepted = df['accepted'].str.contains('K').sum()\n",
        "m_count_submissions = df['submissions'].str.contains('K').sum()\n",
        "\n",
        "# Count values that don't contain either 'M' or 'K'\n",
        "other_count_accepted = (~df['accepted'].str.contains('[MK]')).sum()\n",
        "other_count_submissions = (~df['submissions'].str.contains('[MK]')).sum()\n",
        "\n",
        "# Print the results\n",
        "print(f\"--------------------accepted--------------------\")\n",
        "print(f\"Count 'accepted' of values that contain 'M': {m_count_accepted}\")\n",
        "print(f\"Count 'accepted' of values that contain 'K': {k_count_accepted}\")\n",
        "print(f\"Count 'accepted' of values that don't contain either 'M' or 'K': {other_count_accepted}\")\n",
        "\n",
        "print(f\"--------------------submissions--------------------\")\n",
        "print(f\"Count 'submissions' of values that contain 'M': {m_count_submissions}\")\n",
        "print(f\"Count 'submissions' of values that contain 'K': {m_count_submissions}\")\n",
        "print(f\"Count 'submissions' of values that don't contain either 'M' or 'K': {other_count_submissions}\")"
      ]
    },
    {
      "cell_type": "code",
      "execution_count": 35,
      "metadata": {},
      "outputs": [
        {
          "data": {
            "text/html": [
              "<div>\n",
              "<style scoped>\n",
              "    .dataframe tbody tr th:only-of-type {\n",
              "        vertical-align: middle;\n",
              "    }\n",
              "\n",
              "    .dataframe tbody tr th {\n",
              "        vertical-align: top;\n",
              "    }\n",
              "\n",
              "    .dataframe thead th {\n",
              "        text-align: right;\n",
              "    }\n",
              "</style>\n",
              "<table border=\"1\" class=\"dataframe\">\n",
              "  <thead>\n",
              "    <tr style=\"text-align: right;\">\n",
              "      <th></th>\n",
              "      <th>id</th>\n",
              "      <th>title</th>\n",
              "      <th>description</th>\n",
              "      <th>is_premium</th>\n",
              "      <th>difficulty</th>\n",
              "      <th>solution_link</th>\n",
              "      <th>acceptance_rate</th>\n",
              "      <th>frequency</th>\n",
              "      <th>url</th>\n",
              "      <th>discuss_count</th>\n",
              "      <th>accepted_in_thousands</th>\n",
              "      <th>submissions_in_thousands</th>\n",
              "      <th>companies</th>\n",
              "      <th>related_topics</th>\n",
              "      <th>likes</th>\n",
              "      <th>dislikes</th>\n",
              "      <th>rating</th>\n",
              "      <th>asked_by_faang</th>\n",
              "      <th>similar_questions</th>\n",
              "    </tr>\n",
              "  </thead>\n",
              "  <tbody>\n",
              "    <tr>\n",
              "      <th>0</th>\n",
              "      <td>1</td>\n",
              "      <td>Two Sum</td>\n",
              "      <td>Given an array of integers `nums` and an integ...</td>\n",
              "      <td>0</td>\n",
              "      <td>Easy</td>\n",
              "      <td>/articles/two-sum</td>\n",
              "      <td>46.7</td>\n",
              "      <td>100.0</td>\n",
              "      <td>https://leetcode.com/problems/two-sum</td>\n",
              "      <td>999</td>\n",
              "      <td>4100.0</td>\n",
              "      <td>8700.0</td>\n",
              "      <td>Amazon,Google,Apple,Adobe,Microsoft,Bloomberg,...</td>\n",
              "      <td>Array,Hash Table</td>\n",
              "      <td>20217</td>\n",
              "      <td>712</td>\n",
              "      <td>97</td>\n",
              "      <td>1</td>\n",
              "      <td>[3Sum, /problems/3sum/, Medium], [4Sum, /probl...</td>\n",
              "    </tr>\n",
              "    <tr>\n",
              "      <th>1</th>\n",
              "      <td>2</td>\n",
              "      <td>Add Two Numbers</td>\n",
              "      <td>You are given two non-empty linked lists repre...</td>\n",
              "      <td>0</td>\n",
              "      <td>Medium</td>\n",
              "      <td>/articles/add-two-numbers</td>\n",
              "      <td>35.7</td>\n",
              "      <td>93.1</td>\n",
              "      <td>https://leetcode.com/problems/add-two-numbers</td>\n",
              "      <td>999</td>\n",
              "      <td>1900.0</td>\n",
              "      <td>5200.0</td>\n",
              "      <td>Bloomberg,Microsoft,Amazon,Google,Facebook,App...</td>\n",
              "      <td>Linked List,Math,Recursion</td>\n",
              "      <td>11350</td>\n",
              "      <td>2704</td>\n",
              "      <td>81</td>\n",
              "      <td>1</td>\n",
              "      <td>[Multiply Strings, /problems/multiply-strings/...</td>\n",
              "    </tr>\n",
              "    <tr>\n",
              "      <th>2</th>\n",
              "      <td>3</td>\n",
              "      <td>Longest Substring Without Repeating Characters</td>\n",
              "      <td>Given a string `s`, find the length of the lon...</td>\n",
              "      <td>0</td>\n",
              "      <td>Medium</td>\n",
              "      <td>/articles/longest-substring-without-repeating-...</td>\n",
              "      <td>31.5</td>\n",
              "      <td>90.9</td>\n",
              "      <td>https://leetcode.com/problems/longest-substrin...</td>\n",
              "      <td>999</td>\n",
              "      <td>2100.0</td>\n",
              "      <td>6700.0</td>\n",
              "      <td>Amazon,Bloomberg,Microsoft,Facebook,Apple,Adob...</td>\n",
              "      <td>Hash Table,Two Pointers,String,Sliding Window</td>\n",
              "      <td>13810</td>\n",
              "      <td>714</td>\n",
              "      <td>95</td>\n",
              "      <td>1</td>\n",
              "      <td>[Longest Substring with At Most Two Distinct C...</td>\n",
              "    </tr>\n",
              "    <tr>\n",
              "      <th>3</th>\n",
              "      <td>4</td>\n",
              "      <td>Median of Two Sorted Arrays</td>\n",
              "      <td>Given two sorted arrays `nums1` and `nums2` of...</td>\n",
              "      <td>0</td>\n",
              "      <td>Hard</td>\n",
              "      <td>/articles/median-of-two-sorted-arrays</td>\n",
              "      <td>31.4</td>\n",
              "      <td>86.2</td>\n",
              "      <td>https://leetcode.com/problems/median-of-two-so...</td>\n",
              "      <td>999</td>\n",
              "      <td>904.7</td>\n",
              "      <td>2900.0</td>\n",
              "      <td>Amazon,Goldman Sachs,Facebook,Microsoft,Apple,...</td>\n",
              "      <td>Array,Binary Search,Divide and Conquer</td>\n",
              "      <td>9665</td>\n",
              "      <td>1486</td>\n",
              "      <td>87</td>\n",
              "      <td>1</td>\n",
              "      <td>NaN</td>\n",
              "    </tr>\n",
              "    <tr>\n",
              "      <th>4</th>\n",
              "      <td>5</td>\n",
              "      <td>Longest Palindromic Substring</td>\n",
              "      <td>Given a string `s`, return the longest palindr...</td>\n",
              "      <td>0</td>\n",
              "      <td>Medium</td>\n",
              "      <td>/articles/longest-palindromic-substring</td>\n",
              "      <td>30.6</td>\n",
              "      <td>84.7</td>\n",
              "      <td>https://leetcode.com/problems/longest-palindro...</td>\n",
              "      <td>999</td>\n",
              "      <td>1300.0</td>\n",
              "      <td>4100.0</td>\n",
              "      <td>Amazon,Microsoft,Wayfair,Facebook,Adobe,eBay,G...</td>\n",
              "      <td>String,Dynamic Programming</td>\n",
              "      <td>10271</td>\n",
              "      <td>670</td>\n",
              "      <td>94</td>\n",
              "      <td>1</td>\n",
              "      <td>[Shortest Palindrome, /problems/shortest-palin...</td>\n",
              "    </tr>\n",
              "  </tbody>\n",
              "</table>\n",
              "</div>"
            ],
            "text/plain": [
              "   id                                           title  \\\n",
              "0   1                                         Two Sum   \n",
              "1   2                                 Add Two Numbers   \n",
              "2   3  Longest Substring Without Repeating Characters   \n",
              "3   4                     Median of Two Sorted Arrays   \n",
              "4   5                   Longest Palindromic Substring   \n",
              "\n",
              "                                         description  is_premium difficulty  \\\n",
              "0  Given an array of integers `nums` and an integ...           0       Easy   \n",
              "1  You are given two non-empty linked lists repre...           0     Medium   \n",
              "2  Given a string `s`, find the length of the lon...           0     Medium   \n",
              "3  Given two sorted arrays `nums1` and `nums2` of...           0       Hard   \n",
              "4  Given a string `s`, return the longest palindr...           0     Medium   \n",
              "\n",
              "                                       solution_link  acceptance_rate  \\\n",
              "0                                  /articles/two-sum             46.7   \n",
              "1                          /articles/add-two-numbers             35.7   \n",
              "2  /articles/longest-substring-without-repeating-...             31.5   \n",
              "3              /articles/median-of-two-sorted-arrays             31.4   \n",
              "4            /articles/longest-palindromic-substring             30.6   \n",
              "\n",
              "   frequency                                                url  \\\n",
              "0      100.0              https://leetcode.com/problems/two-sum   \n",
              "1       93.1      https://leetcode.com/problems/add-two-numbers   \n",
              "2       90.9  https://leetcode.com/problems/longest-substrin...   \n",
              "3       86.2  https://leetcode.com/problems/median-of-two-so...   \n",
              "4       84.7  https://leetcode.com/problems/longest-palindro...   \n",
              "\n",
              "   discuss_count  accepted_in_thousands  submissions_in_thousands  \\\n",
              "0            999                 4100.0                    8700.0   \n",
              "1            999                 1900.0                    5200.0   \n",
              "2            999                 2100.0                    6700.0   \n",
              "3            999                  904.7                    2900.0   \n",
              "4            999                 1300.0                    4100.0   \n",
              "\n",
              "                                           companies  \\\n",
              "0  Amazon,Google,Apple,Adobe,Microsoft,Bloomberg,...   \n",
              "1  Bloomberg,Microsoft,Amazon,Google,Facebook,App...   \n",
              "2  Amazon,Bloomberg,Microsoft,Facebook,Apple,Adob...   \n",
              "3  Amazon,Goldman Sachs,Facebook,Microsoft,Apple,...   \n",
              "4  Amazon,Microsoft,Wayfair,Facebook,Adobe,eBay,G...   \n",
              "\n",
              "                                  related_topics  likes  dislikes  rating  \\\n",
              "0                               Array,Hash Table  20217       712      97   \n",
              "1                     Linked List,Math,Recursion  11350      2704      81   \n",
              "2  Hash Table,Two Pointers,String,Sliding Window  13810       714      95   \n",
              "3         Array,Binary Search,Divide and Conquer   9665      1486      87   \n",
              "4                     String,Dynamic Programming  10271       670      94   \n",
              "\n",
              "   asked_by_faang                                  similar_questions  \n",
              "0               1  [3Sum, /problems/3sum/, Medium], [4Sum, /probl...  \n",
              "1               1  [Multiply Strings, /problems/multiply-strings/...  \n",
              "2               1  [Longest Substring with At Most Two Distinct C...  \n",
              "3               1                                                NaN  \n",
              "4               1  [Shortest Palindrome, /problems/shortest-palin...  "
            ]
          },
          "execution_count": 35,
          "metadata": {},
          "output_type": "execute_result"
        }
      ],
      "source": [
        "# Covert the datatype of object into numerical when it is needed\n",
        "\n",
        "def covert_to_numeric_as_thousands(x):\n",
        "    if 'M' in x:\n",
        "        return float(x.replace('M', '')) * 1000\n",
        "    elif 'K' in x:\n",
        "        return float(x.replace('K', ''))\n",
        "    else:\n",
        "        return (float(x) / 1000)\n",
        "    \n",
        "df['accepted'] = df['accepted'].apply(covert_to_numeric_as_thousands)\n",
        "df = df.rename(columns={'accepted': 'accepted_in_thousands'})\n",
        "\n",
        "df['submissions'] = df['submissions'].apply(covert_to_numeric_as_thousands)\n",
        "df = df.rename(columns={'submissions': 'submissions_in_thousands'})\n",
        "\n",
        "# # Replace 'M' and 'K' with million and thousand multipliers\n",
        "# df['values'] = df['values'].replace({'M': '*1e6', 'K': '*1e3'}, regex=True)\n",
        "\n",
        "# # Evaluate the expressions and convert to float\n",
        "# df['values'] = pd.eval(df['values']).astype(float)\n",
        "\n",
        "df.head()\n"
      ]
    },
    {
      "cell_type": "markdown",
      "metadata": {
        "id": "4KIYQvDMVjee"
      },
      "source": [
        "### Question 3\n",
        "#### What is the datatype all the columns and does it have any missing values?"
      ]
    },
    {
      "cell_type": "code",
      "execution_count": 41,
      "metadata": {
        "id": "zfI_d7C7V_iB"
      },
      "outputs": [
        {
          "name": "stdout",
          "output_type": "stream",
          "text": [
            "<class 'pandas.core.frame.DataFrame'>\n",
            "RangeIndex: 1825 entries, 0 to 1824\n",
            "Data columns (total 19 columns):\n",
            " #   Column                    Non-Null Count  Dtype  \n",
            "---  ------                    --------------  -----  \n",
            " 0   id                        1825 non-null   int64  \n",
            " 1   title                     1825 non-null   object \n",
            " 2   description               1825 non-null   object \n",
            " 3   is_premium                1825 non-null   int64  \n",
            " 4   difficulty                1825 non-null   object \n",
            " 5   solution_link             987 non-null    object \n",
            " 6   acceptance_rate           1825 non-null   float64\n",
            " 7   frequency                 1825 non-null   float64\n",
            " 8   url                       1825 non-null   object \n",
            " 9   discuss_count             1825 non-null   int64  \n",
            " 10  accepted_in_thousands     1825 non-null   float64\n",
            " 11  submissions_in_thousands  1825 non-null   float64\n",
            " 12  companies                 1749 non-null   object \n",
            " 13  related_topics            1571 non-null   object \n",
            " 14  likes                     1825 non-null   int64  \n",
            " 15  dislikes                  1825 non-null   int64  \n",
            " 16  rating                    1825 non-null   int64  \n",
            " 17  asked_by_faang            1825 non-null   int64  \n",
            " 18  similar_questions         745 non-null    object \n",
            "dtypes: float64(4), int64(7), object(8)\n",
            "memory usage: 271.0+ KB\n",
            "None\n"
          ]
        }
      ],
      "source": [
        "# Find more information about the dataset such as Datatype and missing values etc\n",
        "print(df.info())\n",
        "\n",
        "# print(f\"--------------DataType of 'accepted' and 'acceptance_rate'--------------\")\n",
        "# print(df[['accepted_in_thousands', 'acceptance_rate']].dtypes)"
      ]
    },
    {
      "cell_type": "code",
      "execution_count": 43,
      "metadata": {},
      "outputs": [
        {
          "name": "stdout",
          "output_type": "stream",
          "text": [
            "-------------------numeric_columns-------------------\n",
            "Index(['id', 'is_premium', 'acceptance_rate', 'frequency', 'discuss_count',\n",
            "       'accepted_in_thousands', 'submissions_in_thousands', 'likes',\n",
            "       'dislikes', 'rating', 'asked_by_faang'],\n",
            "      dtype='object')\n",
            "-------------------non_numeric_columns-------------------\n",
            "Index(['title', 'description', 'difficulty', 'solution_link', 'url',\n",
            "       'companies', 'related_topics', 'similar_questions'],\n",
            "      dtype='object')\n"
          ]
        },
        {
          "data": {
            "text/html": [
              "<div>\n",
              "<style scoped>\n",
              "    .dataframe tbody tr th:only-of-type {\n",
              "        vertical-align: middle;\n",
              "    }\n",
              "\n",
              "    .dataframe tbody tr th {\n",
              "        vertical-align: top;\n",
              "    }\n",
              "\n",
              "    .dataframe thead th {\n",
              "        text-align: right;\n",
              "    }\n",
              "</style>\n",
              "<table border=\"1\" class=\"dataframe\">\n",
              "  <thead>\n",
              "    <tr style=\"text-align: right;\">\n",
              "      <th></th>\n",
              "      <th>id</th>\n",
              "      <th>is_premium</th>\n",
              "      <th>acceptance_rate</th>\n",
              "      <th>frequency</th>\n",
              "      <th>discuss_count</th>\n",
              "      <th>accepted_in_thousands</th>\n",
              "      <th>submissions_in_thousands</th>\n",
              "      <th>likes</th>\n",
              "      <th>dislikes</th>\n",
              "      <th>rating</th>\n",
              "      <th>asked_by_faang</th>\n",
              "    </tr>\n",
              "  </thead>\n",
              "  <tbody>\n",
              "    <tr>\n",
              "      <th>count</th>\n",
              "      <td>1825.000000</td>\n",
              "      <td>1825.000000</td>\n",
              "      <td>1825.000000</td>\n",
              "      <td>1825.000000</td>\n",
              "      <td>1825.000000</td>\n",
              "      <td>1825.000000</td>\n",
              "      <td>1825.000000</td>\n",
              "      <td>1825.000000</td>\n",
              "      <td>1825.000000</td>\n",
              "      <td>1825.000000</td>\n",
              "      <td>1825.000000</td>\n",
              "    </tr>\n",
              "    <tr>\n",
              "      <th>mean</th>\n",
              "      <td>913.000000</td>\n",
              "      <td>0.218082</td>\n",
              "      <td>53.139616</td>\n",
              "      <td>21.113041</td>\n",
              "      <td>421.435068</td>\n",
              "      <td>120.139524</td>\n",
              "      <td>260.147079</td>\n",
              "      <td>1050.534795</td>\n",
              "      <td>279.010959</td>\n",
              "      <td>77.391233</td>\n",
              "      <td>0.671233</td>\n",
              "    </tr>\n",
              "    <tr>\n",
              "      <th>std</th>\n",
              "      <td>526.976438</td>\n",
              "      <td>0.413057</td>\n",
              "      <td>14.778411</td>\n",
              "      <td>22.364741</td>\n",
              "      <td>330.583617</td>\n",
              "      <td>225.844553</td>\n",
              "      <td>542.416480</td>\n",
              "      <td>1512.674013</td>\n",
              "      <td>608.489206</td>\n",
              "      <td>23.317515</td>\n",
              "      <td>0.469894</td>\n",
              "    </tr>\n",
              "    <tr>\n",
              "      <th>min</th>\n",
              "      <td>1.000000</td>\n",
              "      <td>0.000000</td>\n",
              "      <td>13.900000</td>\n",
              "      <td>0.000000</td>\n",
              "      <td>9.000000</td>\n",
              "      <td>0.305000</td>\n",
              "      <td>0.343000</td>\n",
              "      <td>2.000000</td>\n",
              "      <td>0.000000</td>\n",
              "      <td>7.000000</td>\n",
              "      <td>0.000000</td>\n",
              "    </tr>\n",
              "    <tr>\n",
              "      <th>25%</th>\n",
              "      <td>457.000000</td>\n",
              "      <td>0.000000</td>\n",
              "      <td>42.400000</td>\n",
              "      <td>3.100000</td>\n",
              "      <td>150.000000</td>\n",
              "      <td>15.000000</td>\n",
              "      <td>28.700000</td>\n",
              "      <td>217.000000</td>\n",
              "      <td>32.000000</td>\n",
              "      <td>67.000000</td>\n",
              "      <td>0.000000</td>\n",
              "    </tr>\n",
              "    <tr>\n",
              "      <th>50%</th>\n",
              "      <td>913.000000</td>\n",
              "      <td>0.000000</td>\n",
              "      <td>51.600000</td>\n",
              "      <td>13.500000</td>\n",
              "      <td>292.000000</td>\n",
              "      <td>37.900000</td>\n",
              "      <td>72.000000</td>\n",
              "      <td>516.000000</td>\n",
              "      <td>92.000000</td>\n",
              "      <td>88.000000</td>\n",
              "      <td>1.000000</td>\n",
              "    </tr>\n",
              "    <tr>\n",
              "      <th>75%</th>\n",
              "      <td>1369.000000</td>\n",
              "      <td>0.000000</td>\n",
              "      <td>62.800000</td>\n",
              "      <td>31.800000</td>\n",
              "      <td>663.000000</td>\n",
              "      <td>120.600000</td>\n",
              "      <td>230.500000</td>\n",
              "      <td>1200.000000</td>\n",
              "      <td>239.000000</td>\n",
              "      <td>95.000000</td>\n",
              "      <td>1.000000</td>\n",
              "    </tr>\n",
              "    <tr>\n",
              "      <th>max</th>\n",
              "      <td>1825.000000</td>\n",
              "      <td>1.000000</td>\n",
              "      <td>95.600000</td>\n",
              "      <td>100.000000</td>\n",
              "      <td>999.000000</td>\n",
              "      <td>4100.000000</td>\n",
              "      <td>8700.000000</td>\n",
              "      <td>20217.000000</td>\n",
              "      <td>8900.000000</td>\n",
              "      <td>100.000000</td>\n",
              "      <td>1.000000</td>\n",
              "    </tr>\n",
              "  </tbody>\n",
              "</table>\n",
              "</div>"
            ],
            "text/plain": [
              "                id   is_premium  acceptance_rate    frequency  discuss_count  \\\n",
              "count  1825.000000  1825.000000      1825.000000  1825.000000    1825.000000   \n",
              "mean    913.000000     0.218082        53.139616    21.113041     421.435068   \n",
              "std     526.976438     0.413057        14.778411    22.364741     330.583617   \n",
              "min       1.000000     0.000000        13.900000     0.000000       9.000000   \n",
              "25%     457.000000     0.000000        42.400000     3.100000     150.000000   \n",
              "50%     913.000000     0.000000        51.600000    13.500000     292.000000   \n",
              "75%    1369.000000     0.000000        62.800000    31.800000     663.000000   \n",
              "max    1825.000000     1.000000        95.600000   100.000000     999.000000   \n",
              "\n",
              "       accepted_in_thousands  submissions_in_thousands         likes  \\\n",
              "count            1825.000000               1825.000000   1825.000000   \n",
              "mean              120.139524                260.147079   1050.534795   \n",
              "std               225.844553                542.416480   1512.674013   \n",
              "min                 0.305000                  0.343000      2.000000   \n",
              "25%                15.000000                 28.700000    217.000000   \n",
              "50%                37.900000                 72.000000    516.000000   \n",
              "75%               120.600000                230.500000   1200.000000   \n",
              "max              4100.000000               8700.000000  20217.000000   \n",
              "\n",
              "          dislikes       rating  asked_by_faang  \n",
              "count  1825.000000  1825.000000     1825.000000  \n",
              "mean    279.010959    77.391233        0.671233  \n",
              "std     608.489206    23.317515        0.469894  \n",
              "min       0.000000     7.000000        0.000000  \n",
              "25%      32.000000    67.000000        0.000000  \n",
              "50%      92.000000    88.000000        1.000000  \n",
              "75%     239.000000    95.000000        1.000000  \n",
              "max    8900.000000   100.000000        1.000000  "
            ]
          },
          "execution_count": 43,
          "metadata": {},
          "output_type": "execute_result"
        }
      ],
      "source": [
        "# List down numeric and non-numberic columns\n",
        "import numpy as np\n",
        "numeric_columns = df.select_dtypes(include=[np.number]).columns\n",
        "non_numeric_columns = df.select_dtypes(exclude=[np.number]).columns\n",
        "\n",
        "print(f\"-------------------numeric_columns-------------------\")\n",
        "print(numeric_columns)\n",
        "\n",
        "print(f\"-------------------non_numeric_columns-------------------\")\n",
        "print(non_numeric_columns)\n"
      ]
    },
    {
      "cell_type": "markdown",
      "metadata": {
        "id": "8R5lD2l6WE2C"
      },
      "source": [
        "### Question 3\n",
        "#### What is the number of missing values correponsing to each field?"
      ]
    },
    {
      "cell_type": "code",
      "execution_count": 44,
      "metadata": {
        "id": "RGucL-g_WRVr"
      },
      "outputs": [
        {
          "name": "stdout",
          "output_type": "stream",
          "text": [
            "-------------------missing_values_per_column-------------------\n",
            "id                             0\n",
            "title                          0\n",
            "description                    0\n",
            "is_premium                     0\n",
            "difficulty                     0\n",
            "solution_link                838\n",
            "acceptance_rate                0\n",
            "frequency                      0\n",
            "url                            0\n",
            "discuss_count                  0\n",
            "accepted_in_thousands          0\n",
            "submissions_in_thousands       0\n",
            "companies                     76\n",
            "related_topics               254\n",
            "likes                          0\n",
            "dislikes                       0\n",
            "rating                         0\n",
            "asked_by_faang                 0\n",
            "similar_questions           1080\n",
            "dtype: int64\n",
            "-----------------------------------------------------\n",
            "-------------------total_missing-------------------\n",
            "2248\n",
            "-----------------------------------------------------\n"
          ]
        }
      ],
      "source": [
        "#Solution 3(your code here)\n",
        "\n",
        "# Find the Number of Missing Values in Each Column:\n",
        "missing_values_per_column = df.isnull().sum()\n",
        "print(f\"-------------------missing_values_per_column-------------------\")\n",
        "print(missing_values_per_column)\n",
        "print(f\"-----------------------------------------------------\")\n",
        "\n",
        "# Find the Total Number of Missing Values in the Entire DataFrame\n",
        "total_missing = df.isnull().sum().sum()\n",
        "print(f\"-------------------total_missing-------------------\")\n",
        "print(total_missing)\n",
        "print(f\"-----------------------------------------------------\")"
      ]
    },
    {
      "cell_type": "markdown",
      "metadata": {
        "id": "_vT2mNEXWS9n"
      },
      "source": [
        "### Question 4\n",
        "#### What is the cardinality of the columns?"
      ]
    },
    {
      "cell_type": "code",
      "execution_count": null,
      "metadata": {
        "id": "qGt2z5gLWtgr"
      },
      "outputs": [],
      "source": [
        "#Solution 4(your code here)\n",
        "\n",
        "# Find the Cardinality of All Columns\n",
        "cardinality = df.nunique()\n",
        "print(f\"-------------------cardinality-------------------\")\n",
        "print(cardinality)\n",
        "print(f\"-----------------------------------------------------\")\n",
        "\n",
        "# Find the Cardinality of a specific Columns\n",
        "cardinality_of_a_column = df['is_premium'].nunique()\n",
        "print(f\"Codinality of Column 'is_premium': {cardinality_of_a_column}\")"
      ]
    },
    {
      "cell_type": "markdown",
      "metadata": {
        "id": "JOsMt4lFWuye"
      },
      "source": [
        "### Question 5\n",
        "##### Give 2 inferences from the .describe() of the dataset."
      ]
    },
    {
      "cell_type": "code",
      "execution_count": 45,
      "metadata": {
        "id": "Nmi_L7QjXEA-"
      },
      "outputs": [
        {
          "name": "stdout",
          "output_type": "stream",
          "text": [
            "                id   is_premium  acceptance_rate    frequency  discuss_count  \\\n",
            "count  1825.000000  1825.000000      1825.000000  1825.000000    1825.000000   \n",
            "mean    913.000000     0.218082        53.139616    21.113041     421.435068   \n",
            "std     526.976438     0.413057        14.778411    22.364741     330.583617   \n",
            "min       1.000000     0.000000        13.900000     0.000000       9.000000   \n",
            "25%     457.000000     0.000000        42.400000     3.100000     150.000000   \n",
            "50%     913.000000     0.000000        51.600000    13.500000     292.000000   \n",
            "75%    1369.000000     0.000000        62.800000    31.800000     663.000000   \n",
            "max    1825.000000     1.000000        95.600000   100.000000     999.000000   \n",
            "\n",
            "       accepted_in_thousands  submissions_in_thousands         likes  \\\n",
            "count            1825.000000               1825.000000   1825.000000   \n",
            "mean              120.139524                260.147079   1050.534795   \n",
            "std               225.844553                542.416480   1512.674013   \n",
            "min                 0.305000                  0.343000      2.000000   \n",
            "25%                15.000000                 28.700000    217.000000   \n",
            "50%                37.900000                 72.000000    516.000000   \n",
            "75%               120.600000                230.500000   1200.000000   \n",
            "max              4100.000000               8700.000000  20217.000000   \n",
            "\n",
            "          dislikes       rating  asked_by_faang  \n",
            "count  1825.000000  1825.000000     1825.000000  \n",
            "mean    279.010959    77.391233        0.671233  \n",
            "std     608.489206    23.317515        0.469894  \n",
            "min       0.000000     7.000000        0.000000  \n",
            "25%      32.000000    67.000000        0.000000  \n",
            "50%      92.000000    88.000000        1.000000  \n",
            "75%     239.000000    95.000000        1.000000  \n",
            "max    8900.000000   100.000000        1.000000  \n"
          ]
        }
      ],
      "source": [
        "#Solution 5(your code here)\n",
        "\n",
        "print(df.describe())\n",
        "\n",
        "# 21.8% of the questions are in premium category.\n",
        "# The average of the 'acceptance_rate' is 53.1%\n",
        "# An Average out of 260 thousands of submitted questions 120 questions are accepted.\n",
        "# An Average 67.1% of the questions are asked by FAANG.\n",
        "# An Average 77% of the questions are rated"
      ]
    },
    {
      "cell_type": "markdown",
      "metadata": {
        "id": "T6kMonATZW4F"
      },
      "source": [
        "### Question 6\n",
        "#### Plot the outliners in the dataset."
      ]
    },
    {
      "cell_type": "code",
      "execution_count": 5,
      "metadata": {},
      "outputs": [
        {
          "data": {
            "text/plain": [
              "<Axes: xlabel='is_premium', ylabel='acceptance_rate'>"
            ]
          },
          "execution_count": 5,
          "metadata": {},
          "output_type": "execute_result"
        },
        {
          "data": {
            "image/png": "[encoded data removed]",
            "text/plain": [
              "<Figure size 640x480 with 1 Axes>"
            ]
          },
          "metadata": {},
          "output_type": "display_data"
        }
      ],
      "source": [
        "df.select_dtypes(include='number').drop([\"id\"], axis=1).plot(kind='box', rot=45)\n",
        "# sns.boxplot(df,x='is_premium',y='acceptance_rate',log_scale=True)\n",
        "# sns.boxplot(df,x='asked_by_faang',y='likes',log_scale=True)"
      ]
    },
    {
      "cell_type": "code",
      "execution_count": 78,
      "metadata": {
        "id": "3h_BJszyZXK3"
      },
      "outputs": [
        {
          "data": {
            "image/png": "[encoded data removed]",
            "text/plain": [
              "<Figure size 640x480 with 1 Axes>"
            ]
          },
          "metadata": {},
          "output_type": "display_data"
        }
      ],
      "source": [
        "#Solution 6(your code here)\n",
        "\n",
        "import matplotlib.pyplot as plt\n",
        "import seaborn as sns\n",
        "\n",
        "sns.boxplot(x='is_premium', y='acceptance_rate', data=df)\n",
        "plt.show()"
      ]
    },
    {
      "cell_type": "code",
      "execution_count": 3,
      "metadata": {},
      "outputs": [
        {
          "ename": "NameError",
          "evalue": "name 'sns' is not defined",
          "output_type": "error",
          "traceback": [
            "\u001b[0;31m---------------------------------------------------------------------------\u001b[0m",
            "\u001b[0;31mNameError\u001b[0m                                 Traceback (most recent call last)",
            "Cell \u001b[0;32mIn[3], line 1\u001b[0m\n\u001b[0;32m----> 1\u001b[0m \u001b[43msns\u001b[49m\u001b[38;5;241m.\u001b[39mheatmap(pd\u001b[38;5;241m.\u001b[39mcrosstab(df[\u001b[38;5;124m'\u001b[39m\u001b[38;5;124maccepted\u001b[39m\u001b[38;5;124m'\u001b[39m], df[\u001b[38;5;124m'\u001b[39m\u001b[38;5;124msubmissions\u001b[39m\u001b[38;5;124m'\u001b[39m]), annot\u001b[38;5;241m=\u001b[39m\u001b[38;5;28;01mTrue\u001b[39;00m)\n",
            "\u001b[0;31mNameError\u001b[0m: name 'sns' is not defined"
          ]
        }
      ],
      "source": [
        "sns.heatmap(pd.crosstab(df['accepted'], df['submissions']), annot=True)\n"
      ]
    },
    {
      "cell_type": "markdown",
      "metadata": {
        "id": "CgnQi-IDXYsJ"
      },
      "source": [
        "##Question 7\n",
        "####**is_premium**, **difficulty** , **rating** and **asked_by_faang** are four important parameters in the dataset. Plot/calculate all possible relation between them and explain the relationship."
      ]
    },
    {
      "cell_type": "code",
      "execution_count": null,
      "metadata": {
        "id": "-02ErXn-YFUn"
      },
      "outputs": [],
      "source": [
        "#Solution 7(your code here)"
      ]
    },
    {
      "cell_type": "markdown",
      "metadata": {
        "id": "ZrXsAa5_YSTk"
      },
      "source": [
        "##Question 8\n",
        "####Plot top 20 companies whose problems are listed in this dataset."
      ]
    },
    {
      "cell_type": "code",
      "execution_count": null,
      "metadata": {
        "id": "irSkjnXgYsiT"
      },
      "outputs": [],
      "source": [
        "#Solution 8(your code here)"
      ]
    },
    {
      "cell_type": "code",
      "execution_count": 14,
      "metadata": {},
      "outputs": [
        {
          "data": {
            "text/plain": [
              "<Axes: xlabel='asked_by_faang', ylabel='difficulty'>"
            ]
          },
          "execution_count": 14,
          "metadata": {},
          "output_type": "execute_result"
        },
        {
          "data": {
            "image/png": "[encoded data removed]",
            "text/plain": [
              "<Figure size 640x480 with 2 Axes>"
            ]
          },
          "metadata": {},
          "output_type": "display_data"
        }
      ],
      "source": [
        "sns.heatmap(pd.crosstab(df[\"difficulty\"], df[\"asked_by_faang\"]), annot=True, fmt=\"d\")"
      ]
    },
    {
      "cell_type": "code",
      "execution_count": 15,
      "metadata": {},
      "outputs": [
        {
          "data": {
            "text/plain": [
              "<seaborn.axisgrid.FacetGrid at 0x15474f2f0>"
            ]
          },
          "execution_count": 15,
          "metadata": {},
          "output_type": "execute_result"
        },
        {
          "data": {
            "image/png": "[encoded data removed]",
            "text/plain": [
              "<Figure size 605.5x500 with 1 Axes>"
            ]
          },
          "metadata": {},
          "output_type": "display_data"
        }
      ],
      "source": [
        "# Rating vs. difficulty\n",
        "sns.displot(data=df, x=\"rating\", hue=\"difficulty\", kind=\"kde\")"
      ]
    },
    {
      "cell_type": "code",
      "execution_count": 16,
      "metadata": {},
      "outputs": [
        {
          "data": {
            "text/plain": [
              "companies\n",
              "Google              257\n",
              "Amazon              224\n",
              "Facebook            101\n",
              "Microsoft            65\n",
              "Bloomberg            32\n",
              "Uber                 25\n",
              "Apple                22\n",
              "Google,Amazon        16\n",
              "Adobe                16\n",
              "Amazon,Google        15\n",
              "LinkedIn             12\n",
              "Goldman Sachs        11\n",
              "Amazon,Bloomberg     10\n",
              "Twitter               9\n",
              "Amazon,Facebook       9\n",
              "Facebook,Amazon       8\n",
              "Amazon,Microsoft      8\n",
              "Microsoft,Amazon      7\n",
              "Google,Facebook       7\n",
              "Amazon,Adobe          7\n",
              "Name: count, dtype: int64"
            ]
          },
          "execution_count": 16,
          "metadata": {},
          "output_type": "execute_result"
        }
      ],
      "source": [
        "df[\"companies\"].value_counts()[:20]"
      ]
    },
    {
      "cell_type": "markdown",
      "metadata": {},
      "source": []
    }
  ],
  "metadata": {
    "colab": {
      "provenance": []
    },
    "kernelspec": {
      "display_name": "Python 3",
      "name": "python3"
    },
    "language_info": {
      "codemirror_mode": {
        "name": "ipython",
        "version": 3
      },
      "file_extension": ".py",
      "mimetype": "text/x-python",
      "name": "python",
      "nbconvert_exporter": "python",
      "pygments_lexer": "ipython3",
      "version": "3.12.3"
    }
  },
  "nbformat": 4,
  "nbformat_minor": 0
}
